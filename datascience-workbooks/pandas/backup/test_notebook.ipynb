{
 "cells": [
  {
   "cell_type": "code",
   "execution_count": 1,
   "id": "initial_id",
   "metadata": {
    "collapsed": true,
    "ExecuteTime": {
     "end_time": "2023-08-01T06:11:06.723760Z",
     "start_time": "2023-08-01T06:11:05.550435800Z"
    }
   },
   "outputs": [],
   "source": [
    "import pandas as pd\n",
    "df = pd.read_excel(\"../data/mtcars.xlsx\")"
   ]
  },
  {
   "cell_type": "code",
   "execution_count": 3,
   "outputs": [
    {
     "data": {
      "text/plain": "Index(['model', 'mpg', 'cyl', 'disp', 'hp', 'drat', 'wt', 'qsec', 'vs', 'am',\n       'gear', 'carb'],\n      dtype='object')"
     },
     "execution_count": 3,
     "metadata": {},
     "output_type": "execute_result"
    }
   ],
   "source": [
    "df.columns"
   ],
   "metadata": {
    "collapsed": false,
    "ExecuteTime": {
     "end_time": "2023-08-01T06:11:22.703798900Z",
     "start_time": "2023-08-01T06:11:22.692285800Z"
    }
   },
   "id": "693ad6469bb12d4e"
  },
  {
   "cell_type": "code",
   "execution_count": 4,
   "outputs": [],
   "source": [
    "# https://www.kaggle.com/datasets/syedasimalishah/marvel-chracters\n",
    "df = pd.read_csv(\"../data/Marvel Movies.csv\")"
   ],
   "metadata": {
    "collapsed": false,
    "ExecuteTime": {
     "end_time": "2023-08-01T07:04:06.474195600Z",
     "start_time": "2023-08-01T07:04:06.411698400Z"
    }
   },
   "id": "154d738237574dcc"
  },
  {
   "cell_type": "code",
   "execution_count": 7,
   "outputs": [
    {
     "data": {
      "text/plain": "array(['Good Characters', 'Neutral Characters', 'Bad Characters', nan],\n      dtype=object)"
     },
     "execution_count": 7,
     "metadata": {},
     "output_type": "execute_result"
    }
   ],
   "source": [
    "df.columns\n",
    "df['ALIGN'].unique()"
   ],
   "metadata": {
    "collapsed": false,
    "ExecuteTime": {
     "end_time": "2023-08-01T07:05:32.271442200Z",
     "start_time": "2023-08-01T07:05:32.239927300Z"
    }
   },
   "id": "f4d23fb753333438"
  },
  {
   "cell_type": "code",
   "execution_count": 12,
   "outputs": [
    {
     "data": {
      "text/plain": "                    name    ID   EYE  HAIR   SEX  GSM  ALIVE  APPEARANCES  \\\nALIGN                                                                       \nBad Characters      6720  5152  2451  4943  6334    9   6720         6352   \nGood Characters     4636  3898  2293  3691  4514   54   4636         4310   \nNeutral Characters  2208  1916  1057  1761  2094   17   2208         2093   \n\n                    FIRST APPEARANCE  Year  \nALIGN                                       \nBad Characters                  6450  6450  \nGood Characters                 4366  4366  \nNeutral Characters              2073  2073  ",
      "text/html": "<div>\n<style scoped>\n    .dataframe tbody tr th:only-of-type {\n        vertical-align: middle;\n    }\n\n    .dataframe tbody tr th {\n        vertical-align: top;\n    }\n\n    .dataframe thead th {\n        text-align: right;\n    }\n</style>\n<table border=\"1\" class=\"dataframe\">\n  <thead>\n    <tr style=\"text-align: right;\">\n      <th></th>\n      <th>name</th>\n      <th>ID</th>\n      <th>EYE</th>\n      <th>HAIR</th>\n      <th>SEX</th>\n      <th>GSM</th>\n      <th>ALIVE</th>\n      <th>APPEARANCES</th>\n      <th>FIRST APPEARANCE</th>\n      <th>Year</th>\n    </tr>\n    <tr>\n      <th>ALIGN</th>\n      <th></th>\n      <th></th>\n      <th></th>\n      <th></th>\n      <th></th>\n      <th></th>\n      <th></th>\n      <th></th>\n      <th></th>\n      <th></th>\n    </tr>\n  </thead>\n  <tbody>\n    <tr>\n      <th>Bad Characters</th>\n      <td>6720</td>\n      <td>5152</td>\n      <td>2451</td>\n      <td>4943</td>\n      <td>6334</td>\n      <td>9</td>\n      <td>6720</td>\n      <td>6352</td>\n      <td>6450</td>\n      <td>6450</td>\n    </tr>\n    <tr>\n      <th>Good Characters</th>\n      <td>4636</td>\n      <td>3898</td>\n      <td>2293</td>\n      <td>3691</td>\n      <td>4514</td>\n      <td>54</td>\n      <td>4636</td>\n      <td>4310</td>\n      <td>4366</td>\n      <td>4366</td>\n    </tr>\n    <tr>\n      <th>Neutral Characters</th>\n      <td>2208</td>\n      <td>1916</td>\n      <td>1057</td>\n      <td>1761</td>\n      <td>2094</td>\n      <td>17</td>\n      <td>2208</td>\n      <td>2093</td>\n      <td>2073</td>\n      <td>2073</td>\n    </tr>\n  </tbody>\n</table>\n</div>"
     },
     "execution_count": 12,
     "metadata": {},
     "output_type": "execute_result"
    }
   ],
   "source": [
    "df.groupby('ALIGN').count()"
   ],
   "metadata": {
    "collapsed": false,
    "ExecuteTime": {
     "end_time": "2023-08-01T07:07:45.563696800Z",
     "start_time": "2023-08-01T07:07:45.533911500Z"
    }
   },
   "id": "3535213ae202861a"
  },
  {
   "cell_type": "code",
   "execution_count": null,
   "outputs": [],
   "source": [],
   "metadata": {
    "collapsed": false
   },
   "id": "52ac2a2bd2ad56b9"
  }
 ],
 "metadata": {
  "kernelspec": {
   "display_name": "Python 3",
   "language": "python",
   "name": "python3"
  },
  "language_info": {
   "codemirror_mode": {
    "name": "ipython",
    "version": 2
   },
   "file_extension": ".py",
   "mimetype": "text/x-python",
   "name": "python",
   "nbconvert_exporter": "python",
   "pygments_lexer": "ipython2",
   "version": "2.7.6"
  }
 },
 "nbformat": 4,
 "nbformat_minor": 5
}
