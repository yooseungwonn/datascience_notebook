{
 "cells": [
  {
   "cell_type": "markdown",
   "id": "779a5c34bd8d2df3",
   "metadata": {},
   "source": [
    "# Pandas\n",
    "-----\n",
    "## 04. 데이터 그룹화 및 집계\n",
    "### EDA (Exploratory Data Analysis)\n",
    "   - 데이터를 이해하기 위한 탐색적 분석\n",
    "   - 데이터의 특징과 내재하는 구조적 관계를 알아내는 과정\n",
    "   - CDA (Confirmatory Data Analysis)와 대비되는 방법론\n",
    "### 데이터그룹화\n",
    "   - 데이터를 특정 기준에 따라 논리적으로 나누는 작업\n",
    "   - 특정 열의 값이 동일한 행들을 하나의 그룹으로 묶음\n",
    "   - groupby() 메서드를 사용하여 그룹화 수행\n",
    "   - 그룹화 후 각 그룹에 대해 집계 함수를 적용하여 요약 통계 정보 계산 가능\n",
    "   - 멀티 인덱스를 사용하여 여러 기준에 따라 복수 개의 열을 기준으로 그룹화 가능\n",
    "   - 그룹화를 통해 원하는 데이터를 필터링하거나 변환할 수 있음"
   ]
  },
  {
   "cell_type": "code",
   "execution_count": null,
   "id": "95307299fc6a3f08",
   "metadata": {
    "ExecuteTime": {
     "end_time": "2023-08-02T01:28:18.872283700Z",
     "start_time": "2023-08-02T01:28:18.839685700Z"
    }
   },
   "outputs": [],
   "source": [
    "import pandas as pd\n",
    "\n",
    "# gapminder.tsv 파일을 읽어서 데이터프레임으로 변환\n",
    "df = pd.read_csv('../data/gapminder.tsv', sep='\\t')\n",
    "df\n",
    "\n",
    "# 불러온 데이터프레임의 앞쪽 데이터를 확인\n",
    "# df.head()\n",
    "# df.head(10)\n",
    "df.head(n=10)\n",
    "\n",
    "# 불러온 데이터프레임의 뒤쪽 데이터를 확인\n",
    "df.tail()\n",
    "\n",
    "# 데이터프레임의 형태 확인\n",
    "df.shape\n",
    "\n",
    "# 데이터프레임에 포함된 컬럼 이름 확인\n",
    "df.columns\n",
    "\n",
    "# 각 컬럼의 자료형 확인\n",
    "df.dtypes\n",
    "\n",
    "# 데이터프레임의 전반적 정보 확인\n",
    "df.info()\n",
    "\n",
    "# 데이터프레임의 기술 통계 정보 확인\n",
    "df.describe()"
   ]
  },
  {
   "cell_type": "code",
   "execution_count": null,
   "id": "c09254c6454b52be",
   "metadata": {},
   "outputs": [],
   "source": [
    "# year 열을 기준으로 데이터 그룹화, 연도별 groupby 객체 생성\n",
    "grouped_year_df = df.groupby('year')\n",
    "# grouped_year_df.head()\n",
    "# type(grouped_year_df)\n",
    "# 그룹화한 데이터프레임의 기술 통계 정보 확인\n",
    "# df.describe()\n",
    "grouped_year_df.describe()\n",
    "\n",
    "# 그룹화한 데이터프레임에서 lifeExp 열만 추출하여 평균값 계산\n",
    "grouped_year_df['lifeExp'].mean()\n",
    "\n",
    "# year로 그룹화한 데이터프레임에서 lifeExp만 추출하여 평균값 계산\n",
    "life_exp_df = df.groupby('year')['lifeExp'].mean()\n",
    "life_exp_df"
   ]
  },
  {
   "cell_type": "markdown",
   "id": "a55c4fcb1b7e1dbd",
   "metadata": {},
   "source": [
    "### 데이터프레임의 시각화\n",
    "   - 데이터의 시각화는 데이터를 이해하는 데 매우 중요한 단계\n",
    "   - 데이터프레임의 plot() 메서드를 사용하여 그래프 생성 가능\n",
    "      - 다양한 종류의 그래프를 지원\n",
    "        - 선 그래프, 막대 그래프, 히스토그램, 산점도 등\n",
    "      - 내부적으로 Matplotlib를 사용하여 데이터를 그래프로 그려줌\n",
    "\n",
    "#### plot 메서드의 주요 매개변수\n",
    "- 기본 설정 및 데이터 지정\n",
    "    - kind : 그래프 유형 지정 (예: 'line', 'bar', 'scatter' 등)\n",
    "    - x : x축에 사용할 데이터 열 이름 또는 값\n",
    "    - y : y축에 사용할 데이터 열 이름 또는 값\n",
    "- 그래프 레이블 관련\n",
    "    - title : 그래프 제목을 설정\n",
    "    - xlabel : x축의 레이블을 설정\n",
    "    - ylabel : y축의 레이블을 설정\n",
    "    - xlim : x 축의 범위를 지정 (예: [xmin, xmax])\n",
    "    - ylim : y 축의 범위를 지정 (예: [ymin, ymax])\n",
    "    - grid : 축의 그리드를 표시할 지 여부를 지정 (기본값: False)\n",
    "    - legend : 범례를 그릴 지 여부를 지정 (기본값: False)\n",
    "    - color : 그래프의 색상을 지정 (기본값: 라인 플롯: None, 막대 그래프: 'b')\n",
    "    - style : 라인 플롯 스타일을 지정 (예: 'o-', '--', 's-', 'k:')\n",
    "    - subplots : 각 열을 개별 서브플롯으로 그릴지 여부를 지정합니다."
   ]
  },
  {
   "cell_type": "code",
   "execution_count": null,
   "id": "cc07cd5d4d4d4fda",
   "metadata": {
    "ExecuteTime": {
     "end_time": "2023-08-02T02:12:02.894619600Z",
     "start_time": "2023-08-02T02:12:02.699821300Z"
    }
   },
   "outputs": [],
   "source": [
    "%matplotlib inline\n",
    "# life_exp_df.plot()\n",
    "life_exp_df.plot(kind='line',\n",
    "                 x='year',\n",
    "                 y='lifeExp',\n",
    "                 title='Life Expectancy Trends (By Year)',\n",
    "                 ylabel='Life Expectancy',\n",
    "                 color='red',\n",
    "                 style=\"--\",)"
   ]
  },
  {
   "cell_type": "markdown",
   "id": "765abc74dd80e983",
   "metadata": {},
   "source": [
    "#### [연습]\n",
    "- gapminder 데이터셋을 이용, 연도별, 대륙별 그룹화 수행\n",
    "- 그룹화된 데이터셋에서 gdpPercap 열만 추출하여 gdpPerCap의 평균값을 계산\n",
    "- Plot으로 출력 "
   ]
  },
  {
   "cell_type": "code",
   "execution_count": null,
   "id": "1b8b7103",
   "metadata": {
    "ExecuteTime": {
     "end_time": "2023-08-02T02:40:28.929380500Z",
     "start_time": "2023-08-02T02:40:28.641773800Z"
    }
   },
   "outputs": [],
   "source": [
    "%matplotlib inline\n",
    "import pandas as pd\n",
    "\n",
    "df = pd.read_csv('../data/gapminder.tsv', sep='\\t')\n",
    "\n",
    "grouped_df = df.groupby([\"year\", \"continent\"])\n",
    "# grouped_df.describe()\n",
    "gdp_summary = grouped_df['gdpPercap'].mean()\n",
    "gdp_summary"
   ]
  },
  {
   "cell_type": "code",
   "execution_count": null,
   "id": "ec4591d9",
   "metadata": {},
   "outputs": [],
   "source": [
    "gdp_summary.unstack()"
   ]
  },
  {
   "cell_type": "code",
   "execution_count": null,
   "id": "7d276e0273a08b58",
   "metadata": {
    "ExecuteTime": {
     "end_time": "2023-08-02T02:40:28.929380500Z",
     "start_time": "2023-08-02T02:40:28.641773800Z"
    }
   },
   "outputs": [],
   "source": [
    "gdp_summary.unstack().plot(kind='bar',\n",
    "                 # figsize=(10, 10),\n",
    "                 title='GDP per Capita Trends (By Year)',\n",
    "                 # ylabel='GDP per Capita',\n",
    "                 xlabel='Year',\n",
    "                 color=['black', 'red', 'yellow', 'blue', 'green'],\n",
    "                 legend=True)"
   ]
  },
  {
   "cell_type": "markdown",
   "id": "21c96bb5bbf25158",
   "metadata": {},
   "source": [
    "### Pivot Table\n",
    "#### 피봇 테이블 개요\n",
    "- 데이터프레임의 데이터를 재구성하여 데이터에 대한 통계를 한눈에 파악할 수 있도록 정리한 표\n",
    "- 데이터 분석과 정보 관리에서 중요한 도구\n",
    "    - 엑셀 등 스프레드시트 프로그램에서 자주 사용\n",
    "    - 대량의 데이터를 빠르게 정리하고 그룹화 할 수 있으며, 사용자의 필요에 따라 데이터를 분석하고 합계, 평균, 최대, 최소값 등을 계산할 수 있음\n",
    "- 데이터를 효과적으로 정리하고 분석하는 데 있어 매우 강력한 도구로, 재무, 판매, 마케팅 등 다양한 분야에서 활용\n",
    "\n",
    "#### 피봇 테이블의 주요 기능\n",
    "1. 정렬과 그룹화: 특정 열 또는 행을 기준으로 데이터를 정렬하거나 그룹화하여 요약할 수 있음\n",
    "2. 집계 함수 사용: SUM, AVERAGE, COUNT 등의 집계 함수를 사용하여 데이터를 요약할 수 있음\n",
    "3. 데이터 필터링: 특정 조건을 적용하여 데이터를 필터링하고 분석할 수 있음\n",
    "4. 드릴 다운 및 드릴 업: 데이터의 다른 레벨로 들어가 세부 정보를 확인하거나 요약된 정보로 돌아갈 수 있음\n",
    "\n",
    "#### 피봇 테이블 작성 과정\n",
    "1. 데이터 선택: 분석하고자 하는 데이터 범위를 선택합니다.\n",
    "2. 피봇 테이블 생성: 대부분의 스프레드시트 프로그램에서는 특별한 메뉴 또는 버튼을 통해 피봇 테이블을 생성할 수 있습니다.\n",
    "3. 행 및 열 선택: 특정 열을 행 또는 열에 배치하여 데이터를 그룹화합니다.\n",
    "4. 값 및 집계 함수 선택: 특정 열의 값을 분석하고, 원하는 집계 함수를 선택합니다.\n",
    "5. 필터 적용 (선택 사항): 원하는 조건에 맞게 데이터를 필터링할 수 있습니다.\n",
    "\n",
    "### 피봇 테이블의 구성 요소\n",
    "- 행 (또는 인덱스): 피봇 테이블의 왼쪽에 위치하며, 행에 있는 데이터를 기준으로 피봇 테이블의 데이터가 그룹화됨\n",
    "- 열: 피봇 테이블의 위쪽에 위치하며, 열에 있는 데이터를 기준으로 피봇 테이블의 데이터가 그룹화됨\n",
    "- 값: 집계 함수를 적용할 데이터\n",
    "- 집계 함수: 데이터를 집계하는 데 사용되는 함수\n",
    "- 필터 (선택사항): 원하는 조건에 맞게 데이터를 필터링할 수 있음"
   ]
  },
  {
   "cell_type": "code",
   "execution_count": null,
   "id": "f8966abc",
   "metadata": {
    "ExecuteTime": {
     "end_time": "2024-01-29T07:30:55.730184300Z",
     "start_time": "2024-01-29T07:30:51.776226100Z"
    }
   },
   "outputs": [],
   "source": [
    "import pandas as pd\n",
    "import matplotlib.pyplot as plt\n",
    "import os\n",
    "plt.rcParams[\"font.family\"] = 'NanumGothic'\n",
    "\n",
    "df = pd.read_csv('../data/household_accounts.csv')\n",
    "df"
   ]
  },
  {
   "cell_type": "code",
   "execution_count": null,
   "id": "82ef524a",
   "metadata": {
    "ExecuteTime": {
     "end_time": "2024-01-29T07:30:55.730184300Z",
     "start_time": "2024-01-29T07:30:51.776226100Z"
    }
   },
   "outputs": [],
   "source": [
    "df.dtypes"
   ]
  },
  {
   "cell_type": "code",
   "execution_count": null,
   "id": "2580e2bb",
   "metadata": {
    "ExecuteTime": {
     "end_time": "2024-01-29T07:30:55.730184300Z",
     "start_time": "2024-01-29T07:30:51.776226100Z"
    }
   },
   "outputs": [],
   "source": [
    "# print(df[\"날짜\"].dtype)\n",
    "df['날짜'] = pd.to_datetime(df['날짜'])\n",
    "df.set_index(\"날짜\", inplace=True) # inplace=True면 실제 데이터프레임을 변경\n",
    "df"
   ]
  },
  {
   "cell_type": "code",
   "execution_count": null,
   "id": "c904d0e4",
   "metadata": {
    "ExecuteTime": {
     "end_time": "2024-01-29T07:30:55.730184300Z",
     "start_time": "2024-01-29T07:30:51.776226100Z"
    }
   },
   "outputs": [],
   "source": [
    "# 피봇 테이블 생성\n",
    "pivot_df = df.pivot_table(index='날짜', \n",
    "                          columns='카테고리', \n",
    "                          values='금액', \n",
    "                          aggfunc='sum',\n",
    "                          fill_value=0)\n",
    "\n",
    "pivot_df"
   ]
  },
  {
   "cell_type": "code",
   "execution_count": null,
   "id": "777f880c",
   "metadata": {
    "ExecuteTime": {
     "end_time": "2024-01-29T07:30:55.730184300Z",
     "start_time": "2024-01-29T07:30:51.776226100Z"
    }
   },
   "outputs": [],
   "source": [
    "pivot_df_monthly = pivot_df.resample('M').sum()\n",
    "pivot_df_monthly"
   ]
  },
  {
   "cell_type": "code",
   "execution_count": null,
   "id": "2868fdfb",
   "metadata": {
    "ExecuteTime": {
     "end_time": "2024-01-29T07:30:55.730184300Z",
     "start_time": "2024-01-29T07:30:51.776226100Z"
    }
   },
   "outputs": [],
   "source": [
    "pivot_df_monthly.index =pivot_df_monthly.index.to_period('M')\n",
    "pivot_df_monthly"
   ]
  },
  {
   "cell_type": "code",
   "execution_count": null,
   "id": "bce9f02d",
   "metadata": {
    "ExecuteTime": {
     "end_time": "2024-01-29T07:30:55.730184300Z",
     "start_time": "2024-01-29T07:30:51.776226100Z"
    }
   },
   "outputs": [],
   "source": [
    "plt.rcParams['font.family'] = 'Malgun Gothic'\n",
    "pivot_df_monthly.plot(kind='bar',\n",
    "                      stacked=True,\n",
    "                      figsize=(10, 10),\n",
    "                      title='월별 지출 현황',\n",
    "                      xlabel='월',\n",
    "                      ylabel='지출액',\n",
    "                      legend=True)\n",
    "\n",
    "pivot_df_monthly['Total'] = pivot_df_monthly.sum(axis=1)\n",
    "pivot_df_monthly.loc['Total'] = pivot_df_monthly.sum(axis=0)\n",
    "\n",
    "pivot_df_monthly"
   ]
  },
  {
   "cell_type": "code",
   "execution_count": null,
   "id": "c03fe2d2",
   "metadata": {
    "ExecuteTime": {
     "end_time": "2024-01-29T07:30:55.730184300Z",
     "start_time": "2024-01-29T07:30:51.776226100Z"
    }
   },
   "outputs": [],
   "source": [
    "# 데이터를 generated 폴더에 저장\n",
    "if not os.path.exists('../generated'):\n",
    "    os.mkdir('../generated')\n",
    "    \n",
    "pivot_df_monthly.to_csv('../generated/pivot_table.csv', encoding='utf-8')"
   ]
  },
  {
   "cell_type": "code",
   "execution_count": null,
   "id": "df664d5c740ab596",
   "metadata": {},
   "outputs": [],
   "source": []
  }
 ],
 "metadata": {
  "kernelspec": {
   "display_name": "Python 3 (ipykernel)",
   "language": "python",
   "name": "python3"
  },
  "language_info": {
   "codemirror_mode": {
    "name": "ipython",
    "version": 3
   },
   "file_extension": ".py",
   "mimetype": "text/x-python",
   "name": "python",
   "nbconvert_exporter": "python",
   "pygments_lexer": "ipython3",
   "version": "3.10.9"
  }
 },
 "nbformat": 4,
 "nbformat_minor": 5
}
