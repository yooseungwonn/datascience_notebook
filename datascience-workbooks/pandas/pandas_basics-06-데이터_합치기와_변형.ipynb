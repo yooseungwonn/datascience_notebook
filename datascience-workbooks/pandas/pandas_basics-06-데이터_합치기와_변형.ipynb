{
 "cells": [
  {
   "cell_type": "markdown",
   "source": [
    "# Pandas\n",
    "-----\n",
    "## 06. 데이터 합치기와 변형\n",
    "### 데이터프레임 합치기 (Dataframe Merging)\n",
    "- Concatenation (연결) : concat\n",
    "- Merge (병합) : merge\n",
    "- Join (조인) : join\n",
    "\n",
    "### concat"
   ],
   "metadata": {
    "collapsed": false
   },
   "id": "f331c322e0067eef"
  },
  {
   "cell_type": "code",
   "execution_count": 12,
   "outputs": [
    {
     "data": {
      "text/plain": "'df1'"
     },
     "metadata": {},
     "output_type": "display_data"
    },
    {
     "data": {
      "text/plain": "   ID     Name  Age\n0   1    Alice   25\n1   2      Bob   30\n2   3  Charlie   22\n3   4    David   28",
      "text/html": "<div>\n<style scoped>\n    .dataframe tbody tr th:only-of-type {\n        vertical-align: middle;\n    }\n\n    .dataframe tbody tr th {\n        vertical-align: top;\n    }\n\n    .dataframe thead th {\n        text-align: right;\n    }\n</style>\n<table border=\"1\" class=\"dataframe\">\n  <thead>\n    <tr style=\"text-align: right;\">\n      <th></th>\n      <th>ID</th>\n      <th>Name</th>\n      <th>Age</th>\n    </tr>\n  </thead>\n  <tbody>\n    <tr>\n      <th>0</th>\n      <td>1</td>\n      <td>Alice</td>\n      <td>25</td>\n    </tr>\n    <tr>\n      <th>1</th>\n      <td>2</td>\n      <td>Bob</td>\n      <td>30</td>\n    </tr>\n    <tr>\n      <th>2</th>\n      <td>3</td>\n      <td>Charlie</td>\n      <td>22</td>\n    </tr>\n    <tr>\n      <th>3</th>\n      <td>4</td>\n      <td>David</td>\n      <td>28</td>\n    </tr>\n  </tbody>\n</table>\n</div>"
     },
     "metadata": {},
     "output_type": "display_data"
    },
    {
     "data": {
      "text/plain": "'df2'"
     },
     "metadata": {},
     "output_type": "display_data"
    },
    {
     "data": {
      "text/plain": "   ID  Salary\n0   3   50000\n1   4   60000\n2   5   70000\n3   6   80000",
      "text/html": "<div>\n<style scoped>\n    .dataframe tbody tr th:only-of-type {\n        vertical-align: middle;\n    }\n\n    .dataframe tbody tr th {\n        vertical-align: top;\n    }\n\n    .dataframe thead th {\n        text-align: right;\n    }\n</style>\n<table border=\"1\" class=\"dataframe\">\n  <thead>\n    <tr style=\"text-align: right;\">\n      <th></th>\n      <th>ID</th>\n      <th>Salary</th>\n    </tr>\n  </thead>\n  <tbody>\n    <tr>\n      <th>0</th>\n      <td>3</td>\n      <td>50000</td>\n    </tr>\n    <tr>\n      <th>1</th>\n      <td>4</td>\n      <td>60000</td>\n    </tr>\n    <tr>\n      <th>2</th>\n      <td>5</td>\n      <td>70000</td>\n    </tr>\n    <tr>\n      <th>3</th>\n      <td>6</td>\n      <td>80000</td>\n    </tr>\n  </tbody>\n</table>\n</div>"
     },
     "metadata": {},
     "output_type": "display_data"
    },
    {
     "data": {
      "text/plain": "'행방향 연결'"
     },
     "metadata": {},
     "output_type": "display_data"
    },
    {
     "data": {
      "text/plain": "   ID     Name   Age   Salary\n0   1    Alice  25.0      NaN\n1   2      Bob  30.0      NaN\n2   3  Charlie  22.0      NaN\n3   4    David  28.0      NaN\n0   3      NaN   NaN  50000.0\n1   4      NaN   NaN  60000.0\n2   5      NaN   NaN  70000.0\n3   6      NaN   NaN  80000.0",
      "text/html": "<div>\n<style scoped>\n    .dataframe tbody tr th:only-of-type {\n        vertical-align: middle;\n    }\n\n    .dataframe tbody tr th {\n        vertical-align: top;\n    }\n\n    .dataframe thead th {\n        text-align: right;\n    }\n</style>\n<table border=\"1\" class=\"dataframe\">\n  <thead>\n    <tr style=\"text-align: right;\">\n      <th></th>\n      <th>ID</th>\n      <th>Name</th>\n      <th>Age</th>\n      <th>Salary</th>\n    </tr>\n  </thead>\n  <tbody>\n    <tr>\n      <th>0</th>\n      <td>1</td>\n      <td>Alice</td>\n      <td>25.0</td>\n      <td>NaN</td>\n    </tr>\n    <tr>\n      <th>1</th>\n      <td>2</td>\n      <td>Bob</td>\n      <td>30.0</td>\n      <td>NaN</td>\n    </tr>\n    <tr>\n      <th>2</th>\n      <td>3</td>\n      <td>Charlie</td>\n      <td>22.0</td>\n      <td>NaN</td>\n    </tr>\n    <tr>\n      <th>3</th>\n      <td>4</td>\n      <td>David</td>\n      <td>28.0</td>\n      <td>NaN</td>\n    </tr>\n    <tr>\n      <th>0</th>\n      <td>3</td>\n      <td>NaN</td>\n      <td>NaN</td>\n      <td>50000.0</td>\n    </tr>\n    <tr>\n      <th>1</th>\n      <td>4</td>\n      <td>NaN</td>\n      <td>NaN</td>\n      <td>60000.0</td>\n    </tr>\n    <tr>\n      <th>2</th>\n      <td>5</td>\n      <td>NaN</td>\n      <td>NaN</td>\n      <td>70000.0</td>\n    </tr>\n    <tr>\n      <th>3</th>\n      <td>6</td>\n      <td>NaN</td>\n      <td>NaN</td>\n      <td>80000.0</td>\n    </tr>\n  </tbody>\n</table>\n</div>"
     },
     "metadata": {},
     "output_type": "display_data"
    },
    {
     "data": {
      "text/plain": "'열방향 연결'"
     },
     "metadata": {},
     "output_type": "display_data"
    },
    {
     "data": {
      "text/plain": "   ID     Name  Age  ID  Salary\n0   1    Alice   25   3   50000\n1   2      Bob   30   4   60000\n2   3  Charlie   22   5   70000\n3   4    David   28   6   80000",
      "text/html": "<div>\n<style scoped>\n    .dataframe tbody tr th:only-of-type {\n        vertical-align: middle;\n    }\n\n    .dataframe tbody tr th {\n        vertical-align: top;\n    }\n\n    .dataframe thead th {\n        text-align: right;\n    }\n</style>\n<table border=\"1\" class=\"dataframe\">\n  <thead>\n    <tr style=\"text-align: right;\">\n      <th></th>\n      <th>ID</th>\n      <th>Name</th>\n      <th>Age</th>\n      <th>ID</th>\n      <th>Salary</th>\n    </tr>\n  </thead>\n  <tbody>\n    <tr>\n      <th>0</th>\n      <td>1</td>\n      <td>Alice</td>\n      <td>25</td>\n      <td>3</td>\n      <td>50000</td>\n    </tr>\n    <tr>\n      <th>1</th>\n      <td>2</td>\n      <td>Bob</td>\n      <td>30</td>\n      <td>4</td>\n      <td>60000</td>\n    </tr>\n    <tr>\n      <th>2</th>\n      <td>3</td>\n      <td>Charlie</td>\n      <td>22</td>\n      <td>5</td>\n      <td>70000</td>\n    </tr>\n    <tr>\n      <th>3</th>\n      <td>4</td>\n      <td>David</td>\n      <td>28</td>\n      <td>6</td>\n      <td>80000</td>\n    </tr>\n  </tbody>\n</table>\n</div>"
     },
     "metadata": {},
     "output_type": "display_data"
    }
   ],
   "source": [
    "# 제공된 코드\n",
    "from IPython.display import display\n",
    "import pandas as pd\n",
    "\n",
    "data1 = {'ID': [1, 2, 3, 4],\n",
    "         'Name': ['Alice', 'Bob', 'Charlie', 'David'],\n",
    "         'Age': [25, 30, 22, 28]}\n",
    "df1 = pd.DataFrame(data1)\n",
    "\n",
    "data2 = {'ID': [3, 4, 5, 6],\n",
    "         'Salary': [50000, 60000, 70000, 80000]}\n",
    "df2 = pd.DataFrame(data2)\n",
    "\n",
    "display(\"df1\", df1)\n",
    "display(\"df2\", df2)\n",
    "# /제공된 코드\n",
    "\n",
    "display(\"행방향 연결\", pd.concat([df1, df2]))\n",
    "display(\"열방향 연결\", pd.concat([df1, df2], axis=1))"
   ],
   "metadata": {
    "collapsed": false,
    "ExecuteTime": {
     "end_time": "2023-08-02T06:59:09.045531700Z",
     "start_time": "2023-08-02T06:59:09.011935800Z"
    }
   },
   "id": "626ff221cb7db18a"
  },
  {
   "cell_type": "markdown",
   "source": [
    "### merge\n",
    "- 두 데이터프레임 사이에 공통된 컬럼이나 인덱스를 기준으로 데이터를 합치는 작업을 수행\n",
    "    - on 매개변수로 기준 컬럼 지정\n",
    "- SQL의 Join과 비슷한 개념"
   ],
   "metadata": {
    "collapsed": false
   },
   "id": "bfb45b3f88a52e5b"
  },
  {
   "cell_type": "code",
   "execution_count": 14,
   "outputs": [
    {
     "data": {
      "text/plain": "'df1'"
     },
     "metadata": {},
     "output_type": "display_data"
    },
    {
     "data": {
      "text/plain": "   ID     Name  Age\n0   1    Alice   25\n1   2      Bob   30\n2   3  Charlie   22\n3   4    David   28",
      "text/html": "<div>\n<style scoped>\n    .dataframe tbody tr th:only-of-type {\n        vertical-align: middle;\n    }\n\n    .dataframe tbody tr th {\n        vertical-align: top;\n    }\n\n    .dataframe thead th {\n        text-align: right;\n    }\n</style>\n<table border=\"1\" class=\"dataframe\">\n  <thead>\n    <tr style=\"text-align: right;\">\n      <th></th>\n      <th>ID</th>\n      <th>Name</th>\n      <th>Age</th>\n    </tr>\n  </thead>\n  <tbody>\n    <tr>\n      <th>0</th>\n      <td>1</td>\n      <td>Alice</td>\n      <td>25</td>\n    </tr>\n    <tr>\n      <th>1</th>\n      <td>2</td>\n      <td>Bob</td>\n      <td>30</td>\n    </tr>\n    <tr>\n      <th>2</th>\n      <td>3</td>\n      <td>Charlie</td>\n      <td>22</td>\n    </tr>\n    <tr>\n      <th>3</th>\n      <td>4</td>\n      <td>David</td>\n      <td>28</td>\n    </tr>\n  </tbody>\n</table>\n</div>"
     },
     "metadata": {},
     "output_type": "display_data"
    },
    {
     "data": {
      "text/plain": "'df2'"
     },
     "metadata": {},
     "output_type": "display_data"
    },
    {
     "data": {
      "text/plain": "   ID  Salary\n0   3   50000\n1   4   60000\n2   5   70000\n3   6   80000",
      "text/html": "<div>\n<style scoped>\n    .dataframe tbody tr th:only-of-type {\n        vertical-align: middle;\n    }\n\n    .dataframe tbody tr th {\n        vertical-align: top;\n    }\n\n    .dataframe thead th {\n        text-align: right;\n    }\n</style>\n<table border=\"1\" class=\"dataframe\">\n  <thead>\n    <tr style=\"text-align: right;\">\n      <th></th>\n      <th>ID</th>\n      <th>Salary</th>\n    </tr>\n  </thead>\n  <tbody>\n    <tr>\n      <th>0</th>\n      <td>3</td>\n      <td>50000</td>\n    </tr>\n    <tr>\n      <th>1</th>\n      <td>4</td>\n      <td>60000</td>\n    </tr>\n    <tr>\n      <th>2</th>\n      <td>5</td>\n      <td>70000</td>\n    </tr>\n    <tr>\n      <th>3</th>\n      <td>6</td>\n      <td>80000</td>\n    </tr>\n  </tbody>\n</table>\n</div>"
     },
     "metadata": {},
     "output_type": "display_data"
    },
    {
     "data": {
      "text/plain": "   ID     Name  Age  Salary\n0   3  Charlie   22   50000\n1   4    David   28   60000",
      "text/html": "<div>\n<style scoped>\n    .dataframe tbody tr th:only-of-type {\n        vertical-align: middle;\n    }\n\n    .dataframe tbody tr th {\n        vertical-align: top;\n    }\n\n    .dataframe thead th {\n        text-align: right;\n    }\n</style>\n<table border=\"1\" class=\"dataframe\">\n  <thead>\n    <tr style=\"text-align: right;\">\n      <th></th>\n      <th>ID</th>\n      <th>Name</th>\n      <th>Age</th>\n      <th>Salary</th>\n    </tr>\n  </thead>\n  <tbody>\n    <tr>\n      <th>0</th>\n      <td>3</td>\n      <td>Charlie</td>\n      <td>22</td>\n      <td>50000</td>\n    </tr>\n    <tr>\n      <th>1</th>\n      <td>4</td>\n      <td>David</td>\n      <td>28</td>\n      <td>60000</td>\n    </tr>\n  </tbody>\n</table>\n</div>"
     },
     "metadata": {},
     "output_type": "display_data"
    }
   ],
   "source": [
    "display(\"df1\", df1)\n",
    "display(\"df2\", df2)\n",
    "\n",
    "display(pd.merge(df1, df2, on='ID'))"
   ],
   "metadata": {
    "collapsed": false,
    "ExecuteTime": {
     "end_time": "2023-08-02T07:00:22.324494Z",
     "start_time": "2023-08-02T07:00:22.309512800Z"
    }
   },
   "id": "fd0bf9955c7bd428"
  },
  {
   "cell_type": "markdown",
   "source": [
    "### join\n",
    "- 인덱스를 기준으로 두 개의 데이터프레임을 조인\n",
    "- how:\n",
    "    - left, right, inner, outer 조인 등 다양한 방법을 지원\n",
    "    - 기본 방식은 left"
   ],
   "metadata": {
    "collapsed": false
   },
   "id": "680bbeb62ccbc59d"
  },
  {
   "cell_type": "code",
   "execution_count": 20,
   "outputs": [
    {
     "data": {
      "text/plain": "'df1'"
     },
     "metadata": {},
     "output_type": "display_data"
    },
    {
     "data": {
      "text/plain": "   ID     Name  Age\n0   1    Alice   25\n1   2      Bob   30\n2   3  Charlie   22\n3   4    David   28",
      "text/html": "<div>\n<style scoped>\n    .dataframe tbody tr th:only-of-type {\n        vertical-align: middle;\n    }\n\n    .dataframe tbody tr th {\n        vertical-align: top;\n    }\n\n    .dataframe thead th {\n        text-align: right;\n    }\n</style>\n<table border=\"1\" class=\"dataframe\">\n  <thead>\n    <tr style=\"text-align: right;\">\n      <th></th>\n      <th>ID</th>\n      <th>Name</th>\n      <th>Age</th>\n    </tr>\n  </thead>\n  <tbody>\n    <tr>\n      <th>0</th>\n      <td>1</td>\n      <td>Alice</td>\n      <td>25</td>\n    </tr>\n    <tr>\n      <th>1</th>\n      <td>2</td>\n      <td>Bob</td>\n      <td>30</td>\n    </tr>\n    <tr>\n      <th>2</th>\n      <td>3</td>\n      <td>Charlie</td>\n      <td>22</td>\n    </tr>\n    <tr>\n      <th>3</th>\n      <td>4</td>\n      <td>David</td>\n      <td>28</td>\n    </tr>\n  </tbody>\n</table>\n</div>"
     },
     "metadata": {},
     "output_type": "display_data"
    },
    {
     "data": {
      "text/plain": "'df2'"
     },
     "metadata": {},
     "output_type": "display_data"
    },
    {
     "data": {
      "text/plain": "   ID  Salary\n0   3   50000\n1   4   60000\n2   5   70000\n3   6   80000",
      "text/html": "<div>\n<style scoped>\n    .dataframe tbody tr th:only-of-type {\n        vertical-align: middle;\n    }\n\n    .dataframe tbody tr th {\n        vertical-align: top;\n    }\n\n    .dataframe thead th {\n        text-align: right;\n    }\n</style>\n<table border=\"1\" class=\"dataframe\">\n  <thead>\n    <tr style=\"text-align: right;\">\n      <th></th>\n      <th>ID</th>\n      <th>Salary</th>\n    </tr>\n  </thead>\n  <tbody>\n    <tr>\n      <th>0</th>\n      <td>3</td>\n      <td>50000</td>\n    </tr>\n    <tr>\n      <th>1</th>\n      <td>4</td>\n      <td>60000</td>\n    </tr>\n    <tr>\n      <th>2</th>\n      <td>5</td>\n      <td>70000</td>\n    </tr>\n    <tr>\n      <th>3</th>\n      <td>6</td>\n      <td>80000</td>\n    </tr>\n  </tbody>\n</table>\n</div>"
     },
     "metadata": {},
     "output_type": "display_data"
    },
    {
     "data": {
      "text/plain": "'left'"
     },
     "metadata": {},
     "output_type": "display_data"
    },
    {
     "data": {
      "text/plain": "   ID_df1     Name  Age  ID_df2  Salary\n0       1    Alice   25       3   50000\n1       2      Bob   30       4   60000\n2       3  Charlie   22       5   70000\n3       4    David   28       6   80000",
      "text/html": "<div>\n<style scoped>\n    .dataframe tbody tr th:only-of-type {\n        vertical-align: middle;\n    }\n\n    .dataframe tbody tr th {\n        vertical-align: top;\n    }\n\n    .dataframe thead th {\n        text-align: right;\n    }\n</style>\n<table border=\"1\" class=\"dataframe\">\n  <thead>\n    <tr style=\"text-align: right;\">\n      <th></th>\n      <th>ID_df1</th>\n      <th>Name</th>\n      <th>Age</th>\n      <th>ID_df2</th>\n      <th>Salary</th>\n    </tr>\n  </thead>\n  <tbody>\n    <tr>\n      <th>0</th>\n      <td>1</td>\n      <td>Alice</td>\n      <td>25</td>\n      <td>3</td>\n      <td>50000</td>\n    </tr>\n    <tr>\n      <th>1</th>\n      <td>2</td>\n      <td>Bob</td>\n      <td>30</td>\n      <td>4</td>\n      <td>60000</td>\n    </tr>\n    <tr>\n      <th>2</th>\n      <td>3</td>\n      <td>Charlie</td>\n      <td>22</td>\n      <td>5</td>\n      <td>70000</td>\n    </tr>\n    <tr>\n      <th>3</th>\n      <td>4</td>\n      <td>David</td>\n      <td>28</td>\n      <td>6</td>\n      <td>80000</td>\n    </tr>\n  </tbody>\n</table>\n</div>"
     },
     "metadata": {},
     "output_type": "display_data"
    },
    {
     "data": {
      "text/plain": "'left'"
     },
     "metadata": {},
     "output_type": "display_data"
    },
    {
     "data": {
      "text/plain": "   ID     Name  Age   Salary\n0   1    Alice   25      NaN\n1   2      Bob   30      NaN\n2   3  Charlie   22  50000.0\n3   4    David   28  60000.0",
      "text/html": "<div>\n<style scoped>\n    .dataframe tbody tr th:only-of-type {\n        vertical-align: middle;\n    }\n\n    .dataframe tbody tr th {\n        vertical-align: top;\n    }\n\n    .dataframe thead th {\n        text-align: right;\n    }\n</style>\n<table border=\"1\" class=\"dataframe\">\n  <thead>\n    <tr style=\"text-align: right;\">\n      <th></th>\n      <th>ID</th>\n      <th>Name</th>\n      <th>Age</th>\n      <th>Salary</th>\n    </tr>\n  </thead>\n  <tbody>\n    <tr>\n      <th>0</th>\n      <td>1</td>\n      <td>Alice</td>\n      <td>25</td>\n      <td>NaN</td>\n    </tr>\n    <tr>\n      <th>1</th>\n      <td>2</td>\n      <td>Bob</td>\n      <td>30</td>\n      <td>NaN</td>\n    </tr>\n    <tr>\n      <th>2</th>\n      <td>3</td>\n      <td>Charlie</td>\n      <td>22</td>\n      <td>50000.0</td>\n    </tr>\n    <tr>\n      <th>3</th>\n      <td>4</td>\n      <td>David</td>\n      <td>28</td>\n      <td>60000.0</td>\n    </tr>\n  </tbody>\n</table>\n</div>"
     },
     "metadata": {},
     "output_type": "display_data"
    }
   ],
   "source": [
    "display(\"df1\", df1)\n",
    "display(\"df2\", df2)\n",
    "\n",
    "display(\"left\", df1.join(df2, lsuffix=\"_df1\", rsuffix=\"_df2\"))\n",
    "display(\"left\", df1.join(df2.set_index(\"ID\"), on=\"ID\", how=\"left\"))\n"
   ],
   "metadata": {
    "collapsed": false,
    "ExecuteTime": {
     "end_time": "2023-08-02T07:10:38.624496400Z",
     "start_time": "2023-08-02T07:10:38.605236100Z"
    }
   },
   "id": "b0c4480afa39c6ff"
  },
  {
   "cell_type": "code",
   "execution_count": 22,
   "outputs": [
    {
     "data": {
      "text/plain": "'df1'"
     },
     "metadata": {},
     "output_type": "display_data"
    },
    {
     "data": {
      "text/plain": "   ID     Name  Age\n0   1    Alice   25\n1   2      Bob   30\n2   3  Charlie   22\n3   4    David   28",
      "text/html": "<div>\n<style scoped>\n    .dataframe tbody tr th:only-of-type {\n        vertical-align: middle;\n    }\n\n    .dataframe tbody tr th {\n        vertical-align: top;\n    }\n\n    .dataframe thead th {\n        text-align: right;\n    }\n</style>\n<table border=\"1\" class=\"dataframe\">\n  <thead>\n    <tr style=\"text-align: right;\">\n      <th></th>\n      <th>ID</th>\n      <th>Name</th>\n      <th>Age</th>\n    </tr>\n  </thead>\n  <tbody>\n    <tr>\n      <th>0</th>\n      <td>1</td>\n      <td>Alice</td>\n      <td>25</td>\n    </tr>\n    <tr>\n      <th>1</th>\n      <td>2</td>\n      <td>Bob</td>\n      <td>30</td>\n    </tr>\n    <tr>\n      <th>2</th>\n      <td>3</td>\n      <td>Charlie</td>\n      <td>22</td>\n    </tr>\n    <tr>\n      <th>3</th>\n      <td>4</td>\n      <td>David</td>\n      <td>28</td>\n    </tr>\n  </tbody>\n</table>\n</div>"
     },
     "metadata": {},
     "output_type": "display_data"
    },
    {
     "data": {
      "text/plain": "'df2'"
     },
     "metadata": {},
     "output_type": "display_data"
    },
    {
     "data": {
      "text/plain": "   ID  Salary\n0   3   50000\n1   4   60000\n2   5   70000\n3   6   80000",
      "text/html": "<div>\n<style scoped>\n    .dataframe tbody tr th:only-of-type {\n        vertical-align: middle;\n    }\n\n    .dataframe tbody tr th {\n        vertical-align: top;\n    }\n\n    .dataframe thead th {\n        text-align: right;\n    }\n</style>\n<table border=\"1\" class=\"dataframe\">\n  <thead>\n    <tr style=\"text-align: right;\">\n      <th></th>\n      <th>ID</th>\n      <th>Salary</th>\n    </tr>\n  </thead>\n  <tbody>\n    <tr>\n      <th>0</th>\n      <td>3</td>\n      <td>50000</td>\n    </tr>\n    <tr>\n      <th>1</th>\n      <td>4</td>\n      <td>60000</td>\n    </tr>\n    <tr>\n      <th>2</th>\n      <td>5</td>\n      <td>70000</td>\n    </tr>\n    <tr>\n      <th>3</th>\n      <td>6</td>\n      <td>80000</td>\n    </tr>\n  </tbody>\n</table>\n</div>"
     },
     "metadata": {},
     "output_type": "display_data"
    },
    {
     "data": {
      "text/plain": "'right'"
     },
     "metadata": {},
     "output_type": "display_data"
    },
    {
     "data": {
      "text/plain": "     ID     Name   Age  Salary\n2.0   3  Charlie  22.0   50000\n3.0   4    David  28.0   60000\nNaN   5      NaN   NaN   70000\nNaN   6      NaN   NaN   80000",
      "text/html": "<div>\n<style scoped>\n    .dataframe tbody tr th:only-of-type {\n        vertical-align: middle;\n    }\n\n    .dataframe tbody tr th {\n        vertical-align: top;\n    }\n\n    .dataframe thead th {\n        text-align: right;\n    }\n</style>\n<table border=\"1\" class=\"dataframe\">\n  <thead>\n    <tr style=\"text-align: right;\">\n      <th></th>\n      <th>ID</th>\n      <th>Name</th>\n      <th>Age</th>\n      <th>Salary</th>\n    </tr>\n  </thead>\n  <tbody>\n    <tr>\n      <th>2.0</th>\n      <td>3</td>\n      <td>Charlie</td>\n      <td>22.0</td>\n      <td>50000</td>\n    </tr>\n    <tr>\n      <th>3.0</th>\n      <td>4</td>\n      <td>David</td>\n      <td>28.0</td>\n      <td>60000</td>\n    </tr>\n    <tr>\n      <th>NaN</th>\n      <td>5</td>\n      <td>NaN</td>\n      <td>NaN</td>\n      <td>70000</td>\n    </tr>\n    <tr>\n      <th>NaN</th>\n      <td>6</td>\n      <td>NaN</td>\n      <td>NaN</td>\n      <td>80000</td>\n    </tr>\n  </tbody>\n</table>\n</div>"
     },
     "metadata": {},
     "output_type": "display_data"
    }
   ],
   "source": [
    "display(\"df1\", df1)\n",
    "display(\"df2\", df2)\n",
    "\n",
    "display(\"right\", df1.join(df2.set_index(\"ID\"), on=\"ID\", how=\"right\"))\n"
   ],
   "metadata": {
    "collapsed": false,
    "ExecuteTime": {
     "end_time": "2023-08-02T07:12:34.250950200Z",
     "start_time": "2023-08-02T07:12:34.235947700Z"
    }
   },
   "id": "ab07941affe9d2e5"
  },
  {
   "cell_type": "code",
   "execution_count": 23,
   "outputs": [
    {
     "data": {
      "text/plain": "'df1'"
     },
     "metadata": {},
     "output_type": "display_data"
    },
    {
     "data": {
      "text/plain": "   ID     Name  Age\n0   1    Alice   25\n1   2      Bob   30\n2   3  Charlie   22\n3   4    David   28",
      "text/html": "<div>\n<style scoped>\n    .dataframe tbody tr th:only-of-type {\n        vertical-align: middle;\n    }\n\n    .dataframe tbody tr th {\n        vertical-align: top;\n    }\n\n    .dataframe thead th {\n        text-align: right;\n    }\n</style>\n<table border=\"1\" class=\"dataframe\">\n  <thead>\n    <tr style=\"text-align: right;\">\n      <th></th>\n      <th>ID</th>\n      <th>Name</th>\n      <th>Age</th>\n    </tr>\n  </thead>\n  <tbody>\n    <tr>\n      <th>0</th>\n      <td>1</td>\n      <td>Alice</td>\n      <td>25</td>\n    </tr>\n    <tr>\n      <th>1</th>\n      <td>2</td>\n      <td>Bob</td>\n      <td>30</td>\n    </tr>\n    <tr>\n      <th>2</th>\n      <td>3</td>\n      <td>Charlie</td>\n      <td>22</td>\n    </tr>\n    <tr>\n      <th>3</th>\n      <td>4</td>\n      <td>David</td>\n      <td>28</td>\n    </tr>\n  </tbody>\n</table>\n</div>"
     },
     "metadata": {},
     "output_type": "display_data"
    },
    {
     "data": {
      "text/plain": "'df2'"
     },
     "metadata": {},
     "output_type": "display_data"
    },
    {
     "data": {
      "text/plain": "   ID  Salary\n0   3   50000\n1   4   60000\n2   5   70000\n3   6   80000",
      "text/html": "<div>\n<style scoped>\n    .dataframe tbody tr th:only-of-type {\n        vertical-align: middle;\n    }\n\n    .dataframe tbody tr th {\n        vertical-align: top;\n    }\n\n    .dataframe thead th {\n        text-align: right;\n    }\n</style>\n<table border=\"1\" class=\"dataframe\">\n  <thead>\n    <tr style=\"text-align: right;\">\n      <th></th>\n      <th>ID</th>\n      <th>Salary</th>\n    </tr>\n  </thead>\n  <tbody>\n    <tr>\n      <th>0</th>\n      <td>3</td>\n      <td>50000</td>\n    </tr>\n    <tr>\n      <th>1</th>\n      <td>4</td>\n      <td>60000</td>\n    </tr>\n    <tr>\n      <th>2</th>\n      <td>5</td>\n      <td>70000</td>\n    </tr>\n    <tr>\n      <th>3</th>\n      <td>6</td>\n      <td>80000</td>\n    </tr>\n  </tbody>\n</table>\n</div>"
     },
     "metadata": {},
     "output_type": "display_data"
    },
    {
     "data": {
      "text/plain": "'inner'"
     },
     "metadata": {},
     "output_type": "display_data"
    },
    {
     "data": {
      "text/plain": "   ID     Name  Age  Salary\n2   3  Charlie   22   50000\n3   4    David   28   60000",
      "text/html": "<div>\n<style scoped>\n    .dataframe tbody tr th:only-of-type {\n        vertical-align: middle;\n    }\n\n    .dataframe tbody tr th {\n        vertical-align: top;\n    }\n\n    .dataframe thead th {\n        text-align: right;\n    }\n</style>\n<table border=\"1\" class=\"dataframe\">\n  <thead>\n    <tr style=\"text-align: right;\">\n      <th></th>\n      <th>ID</th>\n      <th>Name</th>\n      <th>Age</th>\n      <th>Salary</th>\n    </tr>\n  </thead>\n  <tbody>\n    <tr>\n      <th>2</th>\n      <td>3</td>\n      <td>Charlie</td>\n      <td>22</td>\n      <td>50000</td>\n    </tr>\n    <tr>\n      <th>3</th>\n      <td>4</td>\n      <td>David</td>\n      <td>28</td>\n      <td>60000</td>\n    </tr>\n  </tbody>\n</table>\n</div>"
     },
     "metadata": {},
     "output_type": "display_data"
    }
   ],
   "source": [
    "display(\"df1\", df1)\n",
    "display(\"df2\", df2)\n",
    "\n",
    "display(\"inner\", df1.join(df2.set_index(\"ID\"), on=\"ID\", how=\"inner\"))"
   ],
   "metadata": {
    "collapsed": false,
    "ExecuteTime": {
     "end_time": "2023-08-02T07:13:52.364061100Z",
     "start_time": "2023-08-02T07:13:52.337572100Z"
    }
   },
   "id": "95f8c6e6fba4153d"
  },
  {
   "cell_type": "code",
   "execution_count": 24,
   "outputs": [
    {
     "data": {
      "text/plain": "'df1'"
     },
     "metadata": {},
     "output_type": "display_data"
    },
    {
     "data": {
      "text/plain": "   ID     Name  Age\n0   1    Alice   25\n1   2      Bob   30\n2   3  Charlie   22\n3   4    David   28",
      "text/html": "<div>\n<style scoped>\n    .dataframe tbody tr th:only-of-type {\n        vertical-align: middle;\n    }\n\n    .dataframe tbody tr th {\n        vertical-align: top;\n    }\n\n    .dataframe thead th {\n        text-align: right;\n    }\n</style>\n<table border=\"1\" class=\"dataframe\">\n  <thead>\n    <tr style=\"text-align: right;\">\n      <th></th>\n      <th>ID</th>\n      <th>Name</th>\n      <th>Age</th>\n    </tr>\n  </thead>\n  <tbody>\n    <tr>\n      <th>0</th>\n      <td>1</td>\n      <td>Alice</td>\n      <td>25</td>\n    </tr>\n    <tr>\n      <th>1</th>\n      <td>2</td>\n      <td>Bob</td>\n      <td>30</td>\n    </tr>\n    <tr>\n      <th>2</th>\n      <td>3</td>\n      <td>Charlie</td>\n      <td>22</td>\n    </tr>\n    <tr>\n      <th>3</th>\n      <td>4</td>\n      <td>David</td>\n      <td>28</td>\n    </tr>\n  </tbody>\n</table>\n</div>"
     },
     "metadata": {},
     "output_type": "display_data"
    },
    {
     "data": {
      "text/plain": "'df2'"
     },
     "metadata": {},
     "output_type": "display_data"
    },
    {
     "data": {
      "text/plain": "   ID  Salary\n0   3   50000\n1   4   60000\n2   5   70000\n3   6   80000",
      "text/html": "<div>\n<style scoped>\n    .dataframe tbody tr th:only-of-type {\n        vertical-align: middle;\n    }\n\n    .dataframe tbody tr th {\n        vertical-align: top;\n    }\n\n    .dataframe thead th {\n        text-align: right;\n    }\n</style>\n<table border=\"1\" class=\"dataframe\">\n  <thead>\n    <tr style=\"text-align: right;\">\n      <th></th>\n      <th>ID</th>\n      <th>Salary</th>\n    </tr>\n  </thead>\n  <tbody>\n    <tr>\n      <th>0</th>\n      <td>3</td>\n      <td>50000</td>\n    </tr>\n    <tr>\n      <th>1</th>\n      <td>4</td>\n      <td>60000</td>\n    </tr>\n    <tr>\n      <th>2</th>\n      <td>5</td>\n      <td>70000</td>\n    </tr>\n    <tr>\n      <th>3</th>\n      <td>6</td>\n      <td>80000</td>\n    </tr>\n  </tbody>\n</table>\n</div>"
     },
     "metadata": {},
     "output_type": "display_data"
    },
    {
     "data": {
      "text/plain": "'outer'"
     },
     "metadata": {},
     "output_type": "display_data"
    },
    {
     "data": {
      "text/plain": "     ID     Name   Age   Salary\n0.0   1    Alice  25.0      NaN\n1.0   2      Bob  30.0      NaN\n2.0   3  Charlie  22.0  50000.0\n3.0   4    David  28.0  60000.0\nNaN   5      NaN   NaN  70000.0\nNaN   6      NaN   NaN  80000.0",
      "text/html": "<div>\n<style scoped>\n    .dataframe tbody tr th:only-of-type {\n        vertical-align: middle;\n    }\n\n    .dataframe tbody tr th {\n        vertical-align: top;\n    }\n\n    .dataframe thead th {\n        text-align: right;\n    }\n</style>\n<table border=\"1\" class=\"dataframe\">\n  <thead>\n    <tr style=\"text-align: right;\">\n      <th></th>\n      <th>ID</th>\n      <th>Name</th>\n      <th>Age</th>\n      <th>Salary</th>\n    </tr>\n  </thead>\n  <tbody>\n    <tr>\n      <th>0.0</th>\n      <td>1</td>\n      <td>Alice</td>\n      <td>25.0</td>\n      <td>NaN</td>\n    </tr>\n    <tr>\n      <th>1.0</th>\n      <td>2</td>\n      <td>Bob</td>\n      <td>30.0</td>\n      <td>NaN</td>\n    </tr>\n    <tr>\n      <th>2.0</th>\n      <td>3</td>\n      <td>Charlie</td>\n      <td>22.0</td>\n      <td>50000.0</td>\n    </tr>\n    <tr>\n      <th>3.0</th>\n      <td>4</td>\n      <td>David</td>\n      <td>28.0</td>\n      <td>60000.0</td>\n    </tr>\n    <tr>\n      <th>NaN</th>\n      <td>5</td>\n      <td>NaN</td>\n      <td>NaN</td>\n      <td>70000.0</td>\n    </tr>\n    <tr>\n      <th>NaN</th>\n      <td>6</td>\n      <td>NaN</td>\n      <td>NaN</td>\n      <td>80000.0</td>\n    </tr>\n  </tbody>\n</table>\n</div>"
     },
     "metadata": {},
     "output_type": "display_data"
    }
   ],
   "source": [
    "display(\"df1\", df1)\n",
    "display(\"df2\", df2)\n",
    "\n",
    "display(\"outer\", df1.join(df2.set_index(\"ID\"), on=\"ID\", how=\"outer\"))"
   ],
   "metadata": {
    "collapsed": false,
    "ExecuteTime": {
     "end_time": "2023-08-02T07:14:43.814844700Z",
     "start_time": "2023-08-02T07:14:43.779977400Z"
    }
   },
   "id": "d78422b5fd4bb129"
  },
  {
   "cell_type": "markdown",
   "source": [
    "### 데이터 변형 및 조작\n",
    "- 피벗 테이블\n",
    "- Melt\n",
    "- Stack과 Unstack\n",
    "\n",
    "### Melt\n",
    "- 넓은 형식의 데이터프레임을 긴 형식으로 변형하는 방법\n",
    "- melt 함수의 구조\n",
    "    - frame: 변형하고자 하는 데이터프레임\n",
    "    - id_vars: 그대로 유지할 열의 이름(식별자 변수)을 지정\n",
    "    - value_vars: 변형할 열의 이름을 지정\n",
    "    - var_name: value_vars가 이동하는 열의 이름을 지정\n",
    "    - value_name: value_vars가 이동하는 값의 열 이름을 지정    "
   ],
   "metadata": {
    "collapsed": false
   },
   "id": "863959058e336ad6"
  },
  {
   "cell_type": "code",
   "execution_count": 28,
   "outputs": [
    {
     "data": {
      "text/plain": "   ID     Name  Eng  Math  Science\n0   1    Alice   85    90       88\n1   2      Bob   90    85       92\n2   3  Charlie   87    78       80",
      "text/html": "<div>\n<style scoped>\n    .dataframe tbody tr th:only-of-type {\n        vertical-align: middle;\n    }\n\n    .dataframe tbody tr th {\n        vertical-align: top;\n    }\n\n    .dataframe thead th {\n        text-align: right;\n    }\n</style>\n<table border=\"1\" class=\"dataframe\">\n  <thead>\n    <tr style=\"text-align: right;\">\n      <th></th>\n      <th>ID</th>\n      <th>Name</th>\n      <th>Eng</th>\n      <th>Math</th>\n      <th>Science</th>\n    </tr>\n  </thead>\n  <tbody>\n    <tr>\n      <th>0</th>\n      <td>1</td>\n      <td>Alice</td>\n      <td>85</td>\n      <td>90</td>\n      <td>88</td>\n    </tr>\n    <tr>\n      <th>1</th>\n      <td>2</td>\n      <td>Bob</td>\n      <td>90</td>\n      <td>85</td>\n      <td>92</td>\n    </tr>\n    <tr>\n      <th>2</th>\n      <td>3</td>\n      <td>Charlie</td>\n      <td>87</td>\n      <td>78</td>\n      <td>80</td>\n    </tr>\n  </tbody>\n</table>\n</div>"
     },
     "metadata": {},
     "output_type": "display_data"
    },
    {
     "data": {
      "text/plain": "   ID     Name  Subject  Score\n0   1    Alice      Eng     85\n1   2      Bob      Eng     90\n2   3  Charlie      Eng     87\n3   1    Alice     Math     90\n4   2      Bob     Math     85\n5   3  Charlie     Math     78\n6   1    Alice  Science     88\n7   2      Bob  Science     92\n8   3  Charlie  Science     80",
      "text/html": "<div>\n<style scoped>\n    .dataframe tbody tr th:only-of-type {\n        vertical-align: middle;\n    }\n\n    .dataframe tbody tr th {\n        vertical-align: top;\n    }\n\n    .dataframe thead th {\n        text-align: right;\n    }\n</style>\n<table border=\"1\" class=\"dataframe\">\n  <thead>\n    <tr style=\"text-align: right;\">\n      <th></th>\n      <th>ID</th>\n      <th>Name</th>\n      <th>Subject</th>\n      <th>Score</th>\n    </tr>\n  </thead>\n  <tbody>\n    <tr>\n      <th>0</th>\n      <td>1</td>\n      <td>Alice</td>\n      <td>Eng</td>\n      <td>85</td>\n    </tr>\n    <tr>\n      <th>1</th>\n      <td>2</td>\n      <td>Bob</td>\n      <td>Eng</td>\n      <td>90</td>\n    </tr>\n    <tr>\n      <th>2</th>\n      <td>3</td>\n      <td>Charlie</td>\n      <td>Eng</td>\n      <td>87</td>\n    </tr>\n    <tr>\n      <th>3</th>\n      <td>1</td>\n      <td>Alice</td>\n      <td>Math</td>\n      <td>90</td>\n    </tr>\n    <tr>\n      <th>4</th>\n      <td>2</td>\n      <td>Bob</td>\n      <td>Math</td>\n      <td>85</td>\n    </tr>\n    <tr>\n      <th>5</th>\n      <td>3</td>\n      <td>Charlie</td>\n      <td>Math</td>\n      <td>78</td>\n    </tr>\n    <tr>\n      <th>6</th>\n      <td>1</td>\n      <td>Alice</td>\n      <td>Science</td>\n      <td>88</td>\n    </tr>\n    <tr>\n      <th>7</th>\n      <td>2</td>\n      <td>Bob</td>\n      <td>Science</td>\n      <td>92</td>\n    </tr>\n    <tr>\n      <th>8</th>\n      <td>3</td>\n      <td>Charlie</td>\n      <td>Science</td>\n      <td>80</td>\n    </tr>\n  </tbody>\n</table>\n</div>"
     },
     "metadata": {},
     "output_type": "display_data"
    }
   ],
   "source": [
    "# 제공된 코드\n",
    "from IPython.display import display\n",
    "import pandas as pd\n",
    "\n",
    "data = {'ID': [1, 2, 3],\n",
    "        'Name': ['Alice', 'Bob', 'Charlie'],\n",
    "        'Eng': [85, 90, 87],\n",
    "        'Math': [90, 85, 78],\n",
    "        'Science': [88, 92, 80]}\n",
    "df = pd.DataFrame(data)\n",
    "display(df)\n",
    "# /제공된 코드\n",
    "\n",
    "# Eng, Math, Science 열을 긴 형식으로 변환 (melt)\n",
    "melted_df = pd.melt(df, # 변형할 데이터프레임\n",
    "                    id_vars=['ID', 'Name'], # 유지할 열의 이름\n",
    "                    value_vars=['Eng', 'Math', 'Science'],  # 변형할 열의 이름\n",
    "                    var_name='Subject', # value_vars가 이동할 열의 이름\n",
    "                    value_name='Score') # value_vars가 이동하는 값의 열 이름\n",
    "display(melted_df)\n",
    "\n"
   ],
   "metadata": {
    "collapsed": false,
    "ExecuteTime": {
     "end_time": "2023-08-02T07:36:23.802587700Z",
     "start_time": "2023-08-02T07:36:23.761311400Z"
    }
   },
   "id": "10064ec4dcc56119"
  },
  {
   "cell_type": "markdown",
   "source": [
    "#### Stack과 Unstack\n",
    "- 판다스에서 다중 인덱스를 가지는 데이터프레임을 재구성하는데 사용하는 메서드들\n",
    "- 데이터프레임의 인덱스와 컬럼을 재배치하여 다른 형태로 변환할 수 있다\n",
    "\n",
    "##### Stack\n",
    "- 데이터프레임의 컬럼들을 인덱스 레벨로 이동시기는 기능 수행\n",
    "    - 열 데이터를 행 데이터로 변환하는 작업\n",
    "    - 기본적으로 가장 안쪽(가장 낮은 레벨)의 컬럼들을 인덱스 레벨로 이동\n"
   ],
   "metadata": {
    "collapsed": false
   },
   "id": "e881062d9505282c"
  },
  {
   "cell_type": "code",
   "execution_count": 37,
   "outputs": [
    {
     "data": {
      "text/plain": "0  Name         Alice\n   Subject        Eng\n   Score           85\n1  Name           Bob\n   Subject        Eng\n   Score           90\n2  Name       Charlie\n   Subject        Eng\n   Score           87\n3  Name         Alice\n   Subject       Math\n   Score           90\n4  Name           Bob\n   Subject       Math\n   Score           85\n5  Name       Charlie\n   Subject       Math\n   Score           78\n6  Name         Alice\n   Subject    Science\n   Score           88\n7  Name           Bob\n   Subject    Science\n   Score           92\n8  Name       Charlie\n   Subject    Science\n   Score           80\ndtype: object"
     },
     "execution_count": 37,
     "metadata": {},
     "output_type": "execute_result"
    }
   ],
   "source": [
    "from IPython.display import display\n",
    "import pandas as pd\n",
    "\n",
    "df = melted_df.copy()\n",
    "del df['ID']\n",
    "df.set_index(['Name', 'Subject'])\n",
    "stacked_df = df.stack()\n",
    "stacked_df\n",
    "\n",
    "\n"
   ],
   "metadata": {
    "collapsed": false,
    "ExecuteTime": {
     "end_time": "2023-08-02T08:15:41.319572900Z",
     "start_time": "2023-08-02T08:15:41.285552800Z"
    }
   },
   "id": "c7dde8749421bd03"
  },
  {
   "cell_type": "markdown",
   "source": [
    "##### unstack\n",
    "- unstack : stack의 반대 작업 수행\n",
    "    - 다중 인덱스를 가진 데이터프레임에서 특정 레벨의 인덱스를 컬럼으로 이동\n",
    "    - 기본적으로 가장 낮은 레벨의 인덱스를 컬럼으로 이동"
   ],
   "metadata": {
    "collapsed": false
   },
   "id": "ebe8e00be601e528"
  },
  {
   "cell_type": "code",
   "execution_count": 42,
   "outputs": [
    {
     "data": {
      "text/plain": "0  Name         Alice\n   Subject        Eng\n   Score           85\n1  Name           Bob\n   Subject        Eng\n   Score           90\n2  Name       Charlie\n   Subject        Eng\n   Score           87\n3  Name         Alice\n   Subject       Math\n   Score           90\n4  Name           Bob\n   Subject       Math\n   Score           85\n5  Name       Charlie\n   Subject       Math\n   Score           78\n6  Name         Alice\n   Subject    Science\n   Score           88\n7  Name           Bob\n   Subject    Science\n   Score           92\n8  Name       Charlie\n   Subject    Science\n   Score           80\ndtype: object"
     },
     "metadata": {},
     "output_type": "display_data"
    },
    {
     "data": {
      "text/plain": "      Name  Subject Score\n0    Alice      Eng    85\n1      Bob      Eng    90\n2  Charlie      Eng    87\n3    Alice     Math    90\n4      Bob     Math    85\n5  Charlie     Math    78\n6    Alice  Science    88\n7      Bob  Science    92\n8  Charlie  Science    80",
      "text/html": "<div>\n<style scoped>\n    .dataframe tbody tr th:only-of-type {\n        vertical-align: middle;\n    }\n\n    .dataframe tbody tr th {\n        vertical-align: top;\n    }\n\n    .dataframe thead th {\n        text-align: right;\n    }\n</style>\n<table border=\"1\" class=\"dataframe\">\n  <thead>\n    <tr style=\"text-align: right;\">\n      <th></th>\n      <th>Name</th>\n      <th>Subject</th>\n      <th>Score</th>\n    </tr>\n  </thead>\n  <tbody>\n    <tr>\n      <th>0</th>\n      <td>Alice</td>\n      <td>Eng</td>\n      <td>85</td>\n    </tr>\n    <tr>\n      <th>1</th>\n      <td>Bob</td>\n      <td>Eng</td>\n      <td>90</td>\n    </tr>\n    <tr>\n      <th>2</th>\n      <td>Charlie</td>\n      <td>Eng</td>\n      <td>87</td>\n    </tr>\n    <tr>\n      <th>3</th>\n      <td>Alice</td>\n      <td>Math</td>\n      <td>90</td>\n    </tr>\n    <tr>\n      <th>4</th>\n      <td>Bob</td>\n      <td>Math</td>\n      <td>85</td>\n    </tr>\n    <tr>\n      <th>5</th>\n      <td>Charlie</td>\n      <td>Math</td>\n      <td>78</td>\n    </tr>\n    <tr>\n      <th>6</th>\n      <td>Alice</td>\n      <td>Science</td>\n      <td>88</td>\n    </tr>\n    <tr>\n      <th>7</th>\n      <td>Bob</td>\n      <td>Science</td>\n      <td>92</td>\n    </tr>\n    <tr>\n      <th>8</th>\n      <td>Charlie</td>\n      <td>Science</td>\n      <td>80</td>\n    </tr>\n  </tbody>\n</table>\n</div>"
     },
     "metadata": {},
     "output_type": "display_data"
    }
   ],
   "source": [
    "display(stacked_df)\n",
    "\n",
    "unstacked_df = stacked_df.unstack()\n",
    "display(unstacked_df)"
   ],
   "metadata": {
    "collapsed": false,
    "ExecuteTime": {
     "end_time": "2023-08-02T08:17:20.517706200Z",
     "start_time": "2023-08-02T08:17:20.492571100Z"
    }
   },
   "id": "de612372566c4925"
  },
  {
   "cell_type": "code",
   "execution_count": null,
   "outputs": [],
   "source": [],
   "metadata": {
    "collapsed": false
   },
   "id": "cc061152baee15cb"
  }
 ],
 "metadata": {
  "kernelspec": {
   "display_name": "Python 3",
   "language": "python",
   "name": "python3"
  },
  "language_info": {
   "codemirror_mode": {
    "name": "ipython",
    "version": 2
   },
   "file_extension": ".py",
   "mimetype": "text/x-python",
   "name": "python",
   "nbconvert_exporter": "python",
   "pygments_lexer": "ipython2",
   "version": "2.7.6"
  }
 },
 "nbformat": 4,
 "nbformat_minor": 5
}
