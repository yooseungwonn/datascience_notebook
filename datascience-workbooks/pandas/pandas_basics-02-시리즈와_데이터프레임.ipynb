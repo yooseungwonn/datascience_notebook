{
 "cells": [
  {
   "cell_type": "markdown",
   "source": [
    "# Pandas\n",
    "-----\n",
    "## 02. 판다스의 데이터 구조\n",
    "### 시리즈\n",
    "- 시리즈란\n",
    "    - 1차원: \n",
    "        - 1차원 데이터를 저장하는 자료 구조\n",
    "    - 레이블링: \n",
    "        - 각 데이터 요소에 인덱스(레이블)를 부여하여 접근\n",
    "    - 데이터 유형: \n",
    "        - 다양한 데이터 유형을 지원\n",
    "        - 숫자, 문자열, 불리언, 날짜 등 다양한 데이터를 포함\n",
    "    - 크기 불변성: \n",
    "        - 크기를 변경할 수 없음\n",
    "        - 크기를 변경해야 한다면 새로운 Series 객체를 생성해야 합니다.\n",
    "    - 벡터화 연산: \n",
    "        - 벡터화 연산을 지원, 데이터 처리 속도를 향상\n",
    "    - 누락 데이터 처리: \n",
    "        - 누락된 데이터를 쉽게 처리\n",
    "\n",
    "#### 시리즈 만들기"
   ],
   "metadata": {
    "collapsed": false
   },
   "id": "7fdb1d429968dfb8"
  },
  {
   "cell_type": "code",
   "execution_count": 10,
   "outputs": [
    {
     "name": "stdout",
     "output_type": "stream",
     "text": [
      "0    횽길동\n",
      "1     28\n",
      "2      남\n",
      "3     서울\n",
      "dtype: object\n",
      "RangeIndex(start=0, stop=4, step=1)\n",
      "횽길동 28 남 서울\n",
      "횽길동 28 남 서울\n",
      "횽길동 28 남 서울\n",
      "이름    횽길동\n",
      "나이     28\n",
      "성별      남\n",
      "주소     서울\n",
      "dtype: object\n"
     ]
    }
   ],
   "source": [
    "import pandas as pd\n",
    "from IPython.display import display\n",
    "\n",
    "s = pd.Series(['홍길동', 28, '남', '서울'])\n",
    "print(s)\n",
    "\n",
    "# 인덱스 확인하기\n",
    "print(s.index)\n",
    "\n",
    "# 인덱스를 이용한 값에 접근\n",
    "print(s[0], s[1], s[2], s[3])\n",
    "\n",
    "# 인덱스의 변경\n",
    "s.index = ['이름', '나이', '성별', '주소']\n",
    "\n",
    "# 변경된 인덱스로 값에 접근할 수 있음\n",
    "print(s['이름'], s['나이'], s['성별'], s['주소'])\n",
    "print(s[0], s[1], s[2], s[3])   # 숫자 인덱스는 그대로 사용할 수 있다\n",
    "\n",
    "# 시리즈 생성시 인덱스를 동시 부여\n",
    "s2 = pd.Series(['홍길동', 28, '남', '서울'], index=['이름', '나이', '성별', '주소'])\n",
    "print(s2)"
   ],
   "metadata": {
    "collapsed": false,
    "ExecuteTime": {
     "end_time": "2023-07-31T06:12:55.263888300Z",
     "start_time": "2023-07-31T06:12:55.256396900Z"
    }
   },
   "id": "ea8aa1d53f641e6"
  },
  {
   "cell_type": "markdown",
   "source": [
    "#### 기초 통계 메서드\n",
    "- 시리즈를 구성하고 있는 데이터가 수치형이라면 다양한 기초 통계 메서드를 이용할 수 있음\n",
    "    - describe() : 각 컬럼에 대한 요약 통계\n",
    "    - min(), max() : 최소값, 최대값\n",
    "    - mean(), median() : 평균값, 중앙값\n",
    "    - isin() : 특정 값이 있는지 여부를 불리언 값으로 리턴\n",
    "    - count() : NaN을 제외한 갯수를 리턴\n",
    "    - drop_duplicates() : 중복된 값을 제외한 시리즈를 리턴"
   ],
   "metadata": {
    "collapsed": false
   },
   "id": "813c16e79da05cc7"
  },
  {
   "cell_type": "code",
   "execution_count": 16,
   "outputs": [
    {
     "name": "stdout",
     "output_type": "stream",
     "text": [
      "count      5.000000\n",
      "mean      82.000000\n",
      "std       13.509256\n",
      "min       65.000000\n",
      "25%       75.000000\n",
      "50%       80.000000\n",
      "75%       90.000000\n",
      "max      100.000000\n",
      "dtype: float64\n",
      "min, max:  65 100\n",
      "mean, median:  82.0 80.0\n",
      "count:  5\n",
      "isin: \n",
      " 0    False\n",
      "1    False\n",
      "2     True\n",
      "3     True\n",
      "4    False\n",
      "dtype: bool\n"
     ]
    }
   ],
   "source": [
    "import pandas as pd\n",
    "\n",
    "kor = [80, 75, 90, 100, 65] # 데이터 리스트 생성\n",
    "kor_s = pd.Series(kor) # 시리즈 생성\n",
    "\n",
    "# 통계 요약 출력\n",
    "print(kor_s.describe())\n",
    "# 최소값, 최대값\n",
    "print(\"min, max: \", kor_s.min(), kor_s.max())\n",
    "print(\"mean, median: \", kor_s.mean(), kor_s.median())\n",
    "print(\"count: \", kor_s.count())\n",
    "print(\"isin: \\n\", kor_s.isin([100, 90]))"
   ],
   "metadata": {
    "collapsed": false,
    "ExecuteTime": {
     "end_time": "2023-07-31T06:22:56.360798100Z",
     "start_time": "2023-07-31T06:22:56.353304700Z"
    }
   },
   "id": "f00c8795e15715ac"
  },
  {
   "cell_type": "code",
   "execution_count": 28,
   "outputs": [
    {
     "name": "stdout",
     "output_type": "stream",
     "text": [
      "0     80.0\n",
      "1     75.0\n",
      "2     90.0\n",
      "3      NaN\n",
      "4    100.0\n",
      "5     65.0\n",
      "dtype: float64\n",
      "410.0\n",
      "68.33333333333333 82.0\n",
      "0    False\n",
      "1    False\n",
      "2    False\n",
      "3     True\n",
      "4    False\n",
      "5    False\n",
      "dtype: bool\n"
     ]
    }
   ],
   "source": [
    "import pandas as pd\n",
    "from numpy import nan   # 결측치\n",
    "\n",
    "kor_s = pd.Series([80, 75, 90, nan, 100, 65])\n",
    "print(kor_s)\n",
    "\n",
    "# 시리즈는 numpy 배열 기반으로 만들어져서 대부분 통계 메서드를 사용할 수 있음\n",
    "# 단, 통계 관련 메서드는 NaN을 제외하고 연산을 수행\n",
    "print(kor_s.sum())\n",
    "print(kor_s.sum() / len(kor_s), kor_s.mean())\n",
    "\n",
    "# 결측치가 있는지 여부를 불리언 값으로 리턴\n",
    "print(kor_s.isna())"
   ],
   "metadata": {
    "collapsed": false,
    "ExecuteTime": {
     "end_time": "2023-07-31T07:22:08.447348Z",
     "start_time": "2023-07-31T07:22:08.433293300Z"
    }
   },
   "id": "1d99581cfee4291f"
  },
  {
   "cell_type": "markdown",
   "source": [
    "### 데이터프레임\n",
    "- 데이터프레임이란\n",
    "    - 2차원 테이블: \n",
    "        - 행과 열로 이루어진 2차원 테이블로 구성\n",
    "        - 데이터를 표 형태로 쉽게 이해하고 조작할 수 있음\n",
    "    - 레이블링: \n",
    "        - 각 행과 열에 레이블(인덱스와 컬럼 이름)을 지정하여 데이터에 접근하고 조작\n",
    "    - 다양한 데이터 유형: \n",
    "        - 하나의 데이터프레임 안에 여러 가지 데이터 유형(정수, 실수, 문자열, 날짜 등)을 동시에 저장 가능\n",
    "    - 크기 가변성: \n",
    "        - 행과 열의 크기를 변경 가능 \n",
    "        - 새로운 데이터를 추가하거나 삭제하여 데이터프레임을 업데이트할 수 있음\n",
    "    - 데이터 조작: \n",
    "        - 데이터를 필터링, 정렬, 그룹화, 합치기 등 다양한 방법으로 조작할 수 있음\n",
    "\n",
    "#### 데이터프레임 만들기"
   ],
   "metadata": {
    "collapsed": false
   },
   "id": "7be60027cd362eaf"
  },
  {
   "cell_type": "code",
   "execution_count": 1,
   "outputs": [
    {
     "data": {
      "text/plain": "     KOR  ENG  MATH\n홍길동   85   90   100\n김철수   90   85    95\n이영희   75   70    90\n장길산  100   90    90\n전우치   65   80    70",
      "text/html": "<div>\n<style scoped>\n    .dataframe tbody tr th:only-of-type {\n        vertical-align: middle;\n    }\n\n    .dataframe tbody tr th {\n        vertical-align: top;\n    }\n\n    .dataframe thead th {\n        text-align: right;\n    }\n</style>\n<table border=\"1\" class=\"dataframe\">\n  <thead>\n    <tr style=\"text-align: right;\">\n      <th></th>\n      <th>KOR</th>\n      <th>ENG</th>\n      <th>MATH</th>\n    </tr>\n  </thead>\n  <tbody>\n    <tr>\n      <th>홍길동</th>\n      <td>85</td>\n      <td>90</td>\n      <td>100</td>\n    </tr>\n    <tr>\n      <th>김철수</th>\n      <td>90</td>\n      <td>85</td>\n      <td>95</td>\n    </tr>\n    <tr>\n      <th>이영희</th>\n      <td>75</td>\n      <td>70</td>\n      <td>90</td>\n    </tr>\n    <tr>\n      <th>장길산</th>\n      <td>100</td>\n      <td>90</td>\n      <td>90</td>\n    </tr>\n    <tr>\n      <th>전우치</th>\n      <td>65</td>\n      <td>80</td>\n      <td>70</td>\n    </tr>\n  </tbody>\n</table>\n</div>"
     },
     "metadata": {},
     "output_type": "display_data"
    },
    {
     "name": "stdout",
     "output_type": "stream",
     "text": [
      "Index(['홍길동', '김철수', '이영희', '장길산', '전우치'], dtype='object')\n"
     ]
    }
   ],
   "source": [
    "import pandas as pd\n",
    "\n",
    "# 데이터 프레임 클래스에 딕셔너리를 전달\n",
    "scores_df = pd.DataFrame({\n",
    "    'KOR': [85, 90, 75, 100, 65],\n",
    "    'ENG': [90, 85, 70, 90, 80],\n",
    "    'MATH': [100, 95, 90, 90, 70]\n",
    "}, index=[\"홍길동\", \"김철수\", \"이영희\", \"장길산\", \"전우치\"])\n",
    "# print(scores_df)    # 시리즈와 마찬가지로 인덱스를 부여하지 않으면 0부터 자동으로 부여\n",
    "display(scores_df)    # display() 함수를 이용하면 좀 더 보기 좋게 출력\n",
    "print(scores_df.index)  # index 속성에 접근하여 인덱스를 변경할 수 있음"
   ],
   "metadata": {
    "collapsed": false,
    "ExecuteTime": {
     "end_time": "2024-01-29T08:13:09.767848400Z",
     "start_time": "2024-01-29T08:13:09.750151700Z"
    }
   },
   "id": "ef63e6ef4d52688c"
  },
  {
   "cell_type": "markdown",
   "source": [
    "#### 데이터프레임의 열(Column)과 행(Row)\n",
    "- 열(Column)\n",
    "    - 데이터프레임의 열은 시리즈로 구성\n",
    "    - 통계 용어로 변수라고 부름\n",
    "    - 열은 딕셔너리의 키처럼 브래킷([]), 점(.)을 이용하여 접근"
   ],
   "metadata": {
    "collapsed": false
   },
   "id": "c0d43a0b41978dd2"
  },
  {
   "cell_type": "code",
   "execution_count": 44,
   "outputs": [
    {
     "name": "stdout",
     "output_type": "stream",
     "text": [
      "홍길동     85\n",
      "김철수     90\n",
      "이영희     75\n",
      "장길산    100\n",
      "전우치     65\n",
      "Name: KOR, dtype: int64 <class 'pandas.core.series.Series'>\n",
      "홍길동    90\n",
      "김철수    85\n",
      "이영희    70\n",
      "장길산    90\n",
      "전우치    80\n",
      "Name: ENG, dtype: int64\n"
     ]
    }
   ],
   "source": [
    "kor = scores_df['KOR']  # 브래킷([])을 이용하여 접근\n",
    "eng = scores_df.ENG     # 객체 속성처럼 접근\n",
    "\n",
    "print(kor, type(kor))   # 데이터프레임의 컬럼은 Series로 구성되어 있음\n",
    "print(eng)"
   ],
   "metadata": {
    "collapsed": false,
    "ExecuteTime": {
     "end_time": "2023-07-31T08:29:04.586653900Z",
     "start_time": "2023-07-31T08:29:04.582342400Z"
    }
   },
   "id": "6a97d4d88c715017"
  },
  {
   "cell_type": "markdown",
   "source": [
    "- 변수의 파생\n",
    "    - 데이터프레임에 새로운 열을 추가하거나 기존 열을 조합하여 새로운 열을 만들 수 있음"
   ],
   "metadata": {
    "collapsed": false
   },
   "id": "d651cbd5eda1c283"
  },
  {
   "cell_type": "code",
   "execution_count": 45,
   "outputs": [
    {
     "name": "stdout",
     "output_type": "stream",
     "text": [
      "     KOR  ENG  MATH  TOTAL    AVERAGE\n",
      "홍길동   85   90   100    275  91.666667\n",
      "김철수   90   85    95    270  90.000000\n",
      "이영희   75   70    90    235  78.333333\n",
      "장길산  100   90    90    280  93.333333\n",
      "전우치   65   80    70    215  71.666667\n"
     ]
    }
   ],
   "source": [
    "# KOR, ENG, MATH 열의 값을 합산하여 TOTAL 열을 추가\n",
    "scores_df['TOTAL'] = scores_df['KOR'] + scores_df['ENG'] + scores_df['MATH']\n",
    "# TOTAL 열의 값을 3으로 나누어 AVG 열을 추가\n",
    "scores_df['AVERAGE'] = scores_df['TOTAL'] / 3\n",
    "print(scores_df)"
   ],
   "metadata": {
    "collapsed": false,
    "ExecuteTime": {
     "end_time": "2023-07-31T08:29:09.286005900Z",
     "start_time": "2023-07-31T08:29:09.278358700Z"
    }
   },
   "id": "4eb8b1b2cd1c02da"
  },
  {
   "cell_type": "markdown",
   "source": [
    "- 행(Row)\n",
    "    - 관측치, 레코드 등으로 불림\n",
    "    1. 인덱스를 이용한 접근 방법\n",
    "        - loc: 인덱스를 이용하여 행에 접근\n",
    "    2. 위치를 이용한 방법\n",
    "        - iloc: 위치를 이용하여 행에 접근"
   ],
   "metadata": {
    "collapsed": false
   },
   "id": "b77fb817ddef5a35"
  },
  {
   "cell_type": "code",
   "execution_count": 56,
   "outputs": [
    {
     "name": "stdout",
     "output_type": "stream",
     "text": [
      "     KOR  ENG  MATH  TOTAL    AVERAGE\n",
      "홍길동   85   90   100    275  91.666667\n",
      "김철수   90   85    95    270  90.000000\n",
      "이영희   75   70    90    235  78.333333\n",
      "장길산  100   90    90    280  93.333333\n",
      "전우치   65   80    70    215  71.666667\n",
      "KOR         85.000000\n",
      "ENG         90.000000\n",
      "MATH       100.000000\n",
      "TOTAL      275.000000\n",
      "AVERAGE     91.666667\n",
      "Name: 홍길동, dtype: float64 <class 'pandas.core.series.Series'>\n",
      "KOR         85.000000\n",
      "ENG         90.000000\n",
      "MATH       100.000000\n",
      "TOTAL      275.000000\n",
      "AVERAGE     91.666667\n",
      "Name: 홍길동, dtype: float64\n",
      "     KOR  ENG  MATH  TOTAL    AVERAGE\n",
      "홍길동   85   90   100    275  91.666667\n",
      "장길산  100   90    90    280  93.333333\n",
      "전우치   65   80    70    215  71.666667\n",
      "     KOR  ENG  MATH  TOTAL    AVERAGE\n",
      "홍길동   85   90   100    275  91.666667\n",
      "장길산  100   90    90    280  93.333333\n",
      "전우치   65   80    70    215  71.666667\n",
      "     KOR  ENG  MATH  TOTAL    AVERAGE\n",
      "김철수   90   85    95    270  90.000000\n",
      "이영희   75   70    90    235  78.333333\n",
      "장길산  100   90    90    280  93.333333\n",
      "     TOTAL    AVERAGE\n",
      "김철수    270  90.000000\n",
      "이영희    235  78.333333\n",
      "장길산    280  93.333333\n",
      "     KOR  ENG  MATH\n",
      "김철수   90   85    95\n",
      "이영희   75   70    90\n",
      "장길산  100   90    90\n"
     ]
    }
   ],
   "source": [
    "print(scores_df)\n",
    "\n",
    "print(scores_df.loc['홍길동'], type(scores_df.loc['홍길동'])) # 인덱스를 이용한 접근\n",
    "print(scores_df.iloc[0])    # 위치를 이용한 접근\n",
    "\n",
    "print(scores_df.loc[['홍길동', '장길산', '전우치']]) # 여러 개의 행에 접근\n",
    "print(scores_df.iloc[[0, 3, 4]])\n",
    "\n",
    "print(scores_df.iloc[1:4]) # 1~3번째 행에 접근\n",
    "print(scores_df.loc['김철수':'장길산', ['TOTAL', 'AVERAGE']])\n",
    "print(scores_df.loc['김철수':'장길산', 'KOR':'MATH'])"
   ],
   "metadata": {
    "collapsed": false,
    "ExecuteTime": {
     "end_time": "2023-07-31T08:57:44.912615300Z",
     "start_time": "2023-07-31T08:57:44.889803700Z"
    }
   },
   "id": "1a9d33454c94db3e"
  },
  {
   "cell_type": "markdown",
   "source": [
    "#### 불린 인덱싱\n",
    "- 원하는 레코드를 추출할 때, 보통은 추출할 레코드의 인덱스(혹은 위치)를 정확히 모르는 경우가 많음\n",
    "- 인덱스에 불린값을 부여하여 True인 레코드만 추출이 가능하다"
   ],
   "metadata": {
    "collapsed": false
   },
   "id": "25528b4776df79b2"
  },
  {
   "cell_type": "code",
   "execution_count": 50,
   "outputs": [
    {
     "name": "stdout",
     "output_type": "stream",
     "text": [
      "     KOR  ENG  MATH  TOTAL    AVERAGE\n",
      "홍길동   85   90   100    275  91.666667\n",
      "김철수   90   85    95    270  90.000000\n",
      "이영희   75   70    90    235  78.333333\n",
      "장길산  100   90    90    280  93.333333\n",
      "전우치   65   80    70    215  71.666667\n",
      "     KOR  ENG  MATH  TOTAL    AVERAGE\n",
      "홍길동   85   90   100    275  91.666667\n",
      "이영희   75   70    90    235  78.333333\n",
      "전우치   65   80    70    215  71.666667\n",
      "AVERAGE >= 90 ?  홍길동     True\n",
      "김철수     True\n",
      "이영희    False\n",
      "장길산     True\n",
      "전우치    False\n",
      "Name: AVERAGE, dtype: bool\n",
      "     KOR  ENG  MATH  TOTAL    AVERAGE\n",
      "홍길동   85   90   100    275  91.666667\n",
      "김철수   90   85    95    270  90.000000\n",
      "장길산  100   90    90    280  93.333333\n"
     ]
    }
   ],
   "source": [
    "print(scores_df)\n",
    "print(scores_df.iloc[[True, False, True, False, True]]) # 불린 인덱싱\n",
    "\n",
    "# 불린 인덱싱을 이용하여 특정 조건을 만족하는 레코드만 추출\n",
    "print(\"AVERAGE >= 90 ? \", scores_df.AVERAGE >= 90)\n",
    "\n",
    "filtered_df = scores_df[scores_df['AVERAGE'] >= 90]\n",
    "print(filtered_df)"
   ],
   "metadata": {
    "collapsed": false,
    "ExecuteTime": {
     "end_time": "2023-07-31T08:31:56.977930300Z",
     "start_time": "2023-07-31T08:31:56.969299400Z"
    }
   },
   "id": "e25ee83bfaf5b451"
  }
 ],
 "metadata": {
  "kernelspec": {
   "display_name": "Python 3",
   "language": "python",
   "name": "python3"
  },
  "language_info": {
   "codemirror_mode": {
    "name": "ipython",
    "version": 2
   },
   "file_extension": ".py",
   "mimetype": "text/x-python",
   "name": "python",
   "nbconvert_exporter": "python",
   "pygments_lexer": "ipython2",
   "version": "2.7.6"
  }
 },
 "nbformat": 4,
 "nbformat_minor": 5
}
