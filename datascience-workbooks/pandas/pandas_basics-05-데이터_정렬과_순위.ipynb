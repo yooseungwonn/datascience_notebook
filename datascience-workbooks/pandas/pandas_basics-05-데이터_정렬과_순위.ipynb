{
 "cells": [
  {
   "cell_type": "markdown",
   "source": [
    "# Pandas\n",
    "-----\n",
    "## 05. 데이터 정렬과 순위\n",
    "### 데이터 정렬\n",
    "- sort_index() : 인덱스를 기준으로 정렬\n",
    "- sort_value() : 데이터 값을 기준으로 정렬\n",
    "#### sort_index()"
   ],
   "metadata": {
    "collapsed": false
   },
   "id": "a097ca023c22fa13"
  },
  {
   "cell_type": "code",
   "execution_count": 8,
   "outputs": [
    {
     "data": {
      "text/plain": "            카테고리      금액\n날짜                      \n2023-06-30    미용   20100\n2023-06-30   자동차  115500\n2023-06-30    병원   98700\n2023-06-29    외식   35600\n2023-06-29    기부   19700\n...          ...     ...\n2023-01-02  대중교통    1500\n2023-01-01    운동   84900\n2023-01-01   데이트  114600\n2023-01-01    기부   29800\n2023-01-01    마트   97300\n\n[543 rows x 2 columns]",
      "text/html": "<div>\n<style scoped>\n    .dataframe tbody tr th:only-of-type {\n        vertical-align: middle;\n    }\n\n    .dataframe tbody tr th {\n        vertical-align: top;\n    }\n\n    .dataframe thead th {\n        text-align: right;\n    }\n</style>\n<table border=\"1\" class=\"dataframe\">\n  <thead>\n    <tr style=\"text-align: right;\">\n      <th></th>\n      <th>카테고리</th>\n      <th>금액</th>\n    </tr>\n    <tr>\n      <th>날짜</th>\n      <th></th>\n      <th></th>\n    </tr>\n  </thead>\n  <tbody>\n    <tr>\n      <th>2023-06-30</th>\n      <td>미용</td>\n      <td>20100</td>\n    </tr>\n    <tr>\n      <th>2023-06-30</th>\n      <td>자동차</td>\n      <td>115500</td>\n    </tr>\n    <tr>\n      <th>2023-06-30</th>\n      <td>병원</td>\n      <td>98700</td>\n    </tr>\n    <tr>\n      <th>2023-06-29</th>\n      <td>외식</td>\n      <td>35600</td>\n    </tr>\n    <tr>\n      <th>2023-06-29</th>\n      <td>기부</td>\n      <td>19700</td>\n    </tr>\n    <tr>\n      <th>...</th>\n      <td>...</td>\n      <td>...</td>\n    </tr>\n    <tr>\n      <th>2023-01-02</th>\n      <td>대중교통</td>\n      <td>1500</td>\n    </tr>\n    <tr>\n      <th>2023-01-01</th>\n      <td>운동</td>\n      <td>84900</td>\n    </tr>\n    <tr>\n      <th>2023-01-01</th>\n      <td>데이트</td>\n      <td>114600</td>\n    </tr>\n    <tr>\n      <th>2023-01-01</th>\n      <td>기부</td>\n      <td>29800</td>\n    </tr>\n    <tr>\n      <th>2023-01-01</th>\n      <td>마트</td>\n      <td>97300</td>\n    </tr>\n  </tbody>\n</table>\n<p>543 rows × 2 columns</p>\n</div>"
     },
     "execution_count": 8,
     "metadata": {},
     "output_type": "execute_result"
    }
   ],
   "source": [
    "import pandas as pd\n",
    "\n",
    "# generated/pivot_table.csv를 기준으로 연습\n",
    "df = pd.read_csv('../data/household_accounts.csv', index_col=0)\n",
    "df\n",
    "\n",
    "df_sorted = df.sort_index(ascending=False)\n",
    "df_sorted"
   ],
   "metadata": {
    "collapsed": false,
    "ExecuteTime": {
     "end_time": "2023-08-02T05:28:44.590232500Z",
     "start_time": "2023-08-02T05:28:44.570448500Z"
    }
   },
   "id": "bcadf15ccf07fb19"
  },
  {
   "cell_type": "markdown",
   "source": [
    "#### sort_values()\n"
   ],
   "metadata": {
    "collapsed": false
   },
   "id": "f3451fa4103f4c13"
  },
  {
   "cell_type": "code",
   "execution_count": 21,
   "outputs": [
    {
     "data": {
      "text/plain": "날짜\n2023-01-15    1900500\n2023-04-15    1429500\n2023-01-10     707700\n2023-02-12     536000\n2023-06-10     520500\n               ...   \n2023-04-09       1700\n2023-01-21       1700\n2023-06-18       1600\n2023-01-19       1400\n2023-04-21       1300\nName: 금액, Length: 181, dtype: int64"
     },
     "execution_count": 21,
     "metadata": {},
     "output_type": "execute_result"
    }
   ],
   "source": [
    "df.sort_values(by='금액', ascending=False)\n",
    "\n",
    "df_daily = df.groupby('날짜')['금액'].sum()\n",
    "df_daily\n",
    "\n",
    "df_daily.sort_values(ascending=False)\n"
   ],
   "metadata": {
    "collapsed": false,
    "ExecuteTime": {
     "end_time": "2023-08-02T05:42:56.871304700Z",
     "start_time": "2023-08-02T05:42:56.859929700Z"
    }
   },
   "id": "1e740a426dce7feb"
  },
  {
   "cell_type": "markdown",
   "source": [
    "### 데이터 순위\n",
    "#### rank\n",
    "- rank 메서드\n",
    "- 동점이 있을 때 순위를 결정\n",
    "- 일반적인 순위 지정 방법\n",
    "    - average (default)\n",
    "        - 동점이 있을 경우, 동점 요소에 평균 순위를 할당\n",
    "    - min\n",
    "        - 동점이 있을 경우, 동점 요소 중 최소 순위를 할당\n",
    "    - max\n",
    "        - 동점이 있을 경우, 동점 요소 중 최대 순위를 할당\n",
    "    - first\n",
    "        - 데이터프레임 내의 위치에 따라 순위를 할당\n",
    "    - dense\n",
    "        - min과 비슷하지만 같은 순위를 건너뛰지 않고 순위를 1씩 증가시킴"
   ],
   "metadata": {
    "collapsed": false
   },
   "id": "a64a7ec2fd385cd1"
  },
  {
   "cell_type": "code",
   "execution_count": 25,
   "outputs": [
    {
     "data": {
      "text/plain": "   Score  rank_average  rank_min  rank_max  rank_first  rank_dense\n0     85           5.0       5.0       5.0         5.0         4.0\n1     92           2.5       2.0       3.0         2.0         2.0\n2     78           6.0       6.0       6.0         6.0         5.0\n3     95           1.0       1.0       1.0         1.0         1.0\n4     88           4.0       4.0       4.0         4.0         3.0\n5     92           2.5       2.0       3.0         3.0         2.0",
      "text/html": "<div>\n<style scoped>\n    .dataframe tbody tr th:only-of-type {\n        vertical-align: middle;\n    }\n\n    .dataframe tbody tr th {\n        vertical-align: top;\n    }\n\n    .dataframe thead th {\n        text-align: right;\n    }\n</style>\n<table border=\"1\" class=\"dataframe\">\n  <thead>\n    <tr style=\"text-align: right;\">\n      <th></th>\n      <th>Score</th>\n      <th>rank_average</th>\n      <th>rank_min</th>\n      <th>rank_max</th>\n      <th>rank_first</th>\n      <th>rank_dense</th>\n    </tr>\n  </thead>\n  <tbody>\n    <tr>\n      <th>0</th>\n      <td>85</td>\n      <td>5.0</td>\n      <td>5.0</td>\n      <td>5.0</td>\n      <td>5.0</td>\n      <td>4.0</td>\n    </tr>\n    <tr>\n      <th>1</th>\n      <td>92</td>\n      <td>2.5</td>\n      <td>2.0</td>\n      <td>3.0</td>\n      <td>2.0</td>\n      <td>2.0</td>\n    </tr>\n    <tr>\n      <th>2</th>\n      <td>78</td>\n      <td>6.0</td>\n      <td>6.0</td>\n      <td>6.0</td>\n      <td>6.0</td>\n      <td>5.0</td>\n    </tr>\n    <tr>\n      <th>3</th>\n      <td>95</td>\n      <td>1.0</td>\n      <td>1.0</td>\n      <td>1.0</td>\n      <td>1.0</td>\n      <td>1.0</td>\n    </tr>\n    <tr>\n      <th>4</th>\n      <td>88</td>\n      <td>4.0</td>\n      <td>4.0</td>\n      <td>4.0</td>\n      <td>4.0</td>\n      <td>3.0</td>\n    </tr>\n    <tr>\n      <th>5</th>\n      <td>92</td>\n      <td>2.5</td>\n      <td>2.0</td>\n      <td>3.0</td>\n      <td>3.0</td>\n      <td>2.0</td>\n    </tr>\n  </tbody>\n</table>\n</div>"
     },
     "execution_count": 25,
     "metadata": {},
     "output_type": "execute_result"
    }
   ],
   "source": [
    "# 제공된 코드\n",
    "import pandas as pd\n",
    "\n",
    "data = {'Score': [85, 92, 78, 95, 88, 92]}\n",
    "df = pd.DataFrame(data)\n",
    "# /제공된 코드\n",
    "\n",
    "# 기본값 (average)\n",
    "df['rank_average'] = df['Score'].rank(ascending=False)\n",
    "df['rank_min'] = df['Score'].rank(ascending=False, method='min')\n",
    "df['rank_max'] = df['Score'].rank(ascending=False, method='max')\n",
    "df['rank_first'] = df['Score'].rank(ascending=False, method='first')\n",
    "df['rank_dense'] = df['Score'].rank(ascending=False, method='dense')\n",
    "\n",
    "df"
   ],
   "metadata": {
    "collapsed": false,
    "ExecuteTime": {
     "end_time": "2023-08-02T06:04:17.222512300Z",
     "start_time": "2023-08-02T06:04:17.207329600Z"
    }
   },
   "id": "2fd6cfbe2702196e"
  },
  {
   "cell_type": "code",
   "execution_count": 30,
   "outputs": [
    {
     "data": {
      "text/plain": "      Name  Score  Age  Height  Score_Rank\n3    David     95   28     172         1.0\n1      Bob     92   34     178         2.0\n4      Eva     88   22     168         3.0\n0    Alice     85   25     165         4.0\n2  Charlie     78   19     155         5.0",
      "text/html": "<div>\n<style scoped>\n    .dataframe tbody tr th:only-of-type {\n        vertical-align: middle;\n    }\n\n    .dataframe tbody tr th {\n        vertical-align: top;\n    }\n\n    .dataframe thead th {\n        text-align: right;\n    }\n</style>\n<table border=\"1\" class=\"dataframe\">\n  <thead>\n    <tr style=\"text-align: right;\">\n      <th></th>\n      <th>Name</th>\n      <th>Score</th>\n      <th>Age</th>\n      <th>Height</th>\n      <th>Score_Rank</th>\n    </tr>\n  </thead>\n  <tbody>\n    <tr>\n      <th>3</th>\n      <td>David</td>\n      <td>95</td>\n      <td>28</td>\n      <td>172</td>\n      <td>1.0</td>\n    </tr>\n    <tr>\n      <th>1</th>\n      <td>Bob</td>\n      <td>92</td>\n      <td>34</td>\n      <td>178</td>\n      <td>2.0</td>\n    </tr>\n    <tr>\n      <th>4</th>\n      <td>Eva</td>\n      <td>88</td>\n      <td>22</td>\n      <td>168</td>\n      <td>3.0</td>\n    </tr>\n    <tr>\n      <th>0</th>\n      <td>Alice</td>\n      <td>85</td>\n      <td>25</td>\n      <td>165</td>\n      <td>4.0</td>\n    </tr>\n    <tr>\n      <th>2</th>\n      <td>Charlie</td>\n      <td>78</td>\n      <td>19</td>\n      <td>155</td>\n      <td>5.0</td>\n    </tr>\n  </tbody>\n</table>\n</div>"
     },
     "execution_count": 30,
     "metadata": {},
     "output_type": "execute_result"
    }
   ],
   "source": [
    "# 제공된 코드\n",
    "import pandas as pd\n",
    "\n",
    "data = {\n",
    "    'Name': ['Alice', 'Bob', 'Charlie', 'David', 'Eva'],\n",
    "    'Score': [85, 92, 78, 95, 88],\n",
    "    'Age': [25, 34, 19, 28, 22],\n",
    "    'Height': [165, 178, 155, 172, 168]\n",
    "}\n",
    "\n",
    "df = pd.DataFrame(data)\n",
    "df\n",
    "# /제공된 코드\n",
    "\n",
    "# Score 열을 기준으로 순위를 포함하는 Score_Rank 변수를 파생\n",
    "df['Score_Rank'] = df['Score'].rank(ascending=False)\n",
    "df.sort_values(by='Score_Rank', inplace=True)\n",
    "df"
   ],
   "metadata": {
    "collapsed": false,
    "ExecuteTime": {
     "end_time": "2023-08-02T06:07:49.177782900Z",
     "start_time": "2023-08-02T06:07:49.157001600Z"
    }
   },
   "id": "8bd46870ba428c7d"
  },
  {
   "cell_type": "code",
   "execution_count": null,
   "outputs": [],
   "source": [],
   "metadata": {
    "collapsed": false
   },
   "id": "59d4172db09e3576"
  }
 ],
 "metadata": {
  "kernelspec": {
   "display_name": "Python 3",
   "language": "python",
   "name": "python3"
  },
  "language_info": {
   "codemirror_mode": {
    "name": "ipython",
    "version": 2
   },
   "file_extension": ".py",
   "mimetype": "text/x-python",
   "name": "python",
   "nbconvert_exporter": "python",
   "pygments_lexer": "ipython2",
   "version": "2.7.6"
  }
 },
 "nbformat": 4,
 "nbformat_minor": 5
}
