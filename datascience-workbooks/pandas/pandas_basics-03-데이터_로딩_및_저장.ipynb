{
 "cells": [
  {
   "cell_type": "markdown",
   "source": [
    "# Pandas\n",
    "-----\n",
    "## 03. 데이터 로딩 및 저장\n",
    "\n",
    "### CSV 파일\n",
    "- CSV (Comma Separated Values)\n",
    "    - 데이터를 쉼표(,)로 구분하여 저장하는 간단한 텍스트 파일 형식\n",
    "    - 각 줄은 데이터 레코드를 나타내며, 각 열은 해당 레코드의 속성을 의미\n",
    "    - 첫 번째 줄은 열 이름(헤더)으로 사용됩니다.\n",
    "    - 데이터 교환과 공유를 위해 널리 사용되며 스프레드시트 프로그램에서도 지원\n",
    "\n",
    "\n",
    "### CSV 파일 다루기\n",
    "- CSV 파일 불러오기 : read_csv"
   ],
   "metadata": {
    "collapsed": false
   },
   "id": "d4789bef26914ea7"
  },
  {
   "cell_type": "code",
   "execution_count": 8,
   "outputs": [
    {
     "data": {
      "text/plain": "      Height  Weight\nName                \n홍길동    175.8    73.2\n전우치    170.2    66.3\n임꺽정    186.7    88.2\n장길산    188.3    90.0",
      "text/html": "<div>\n<style scoped>\n    .dataframe tbody tr th:only-of-type {\n        vertical-align: middle;\n    }\n\n    .dataframe tbody tr th {\n        vertical-align: top;\n    }\n\n    .dataframe thead th {\n        text-align: right;\n    }\n</style>\n<table border=\"1\" class=\"dataframe\">\n  <thead>\n    <tr style=\"text-align: right;\">\n      <th></th>\n      <th>Height</th>\n      <th>Weight</th>\n    </tr>\n    <tr>\n      <th>Name</th>\n      <th></th>\n      <th></th>\n    </tr>\n  </thead>\n  <tbody>\n    <tr>\n      <th>홍길동</th>\n      <td>175.8</td>\n      <td>73.2</td>\n    </tr>\n    <tr>\n      <th>전우치</th>\n      <td>170.2</td>\n      <td>66.3</td>\n    </tr>\n    <tr>\n      <th>임꺽정</th>\n      <td>186.7</td>\n      <td>88.2</td>\n    </tr>\n    <tr>\n      <th>장길산</th>\n      <td>188.3</td>\n      <td>90.0</td>\n    </tr>\n  </tbody>\n</table>\n</div>"
     },
     "execution_count": 8,
     "metadata": {},
     "output_type": "execute_result"
    }
   ],
   "source": [
    "import pandas as pd\n",
    "\n",
    "# CSV 파일을 읽어와서 DataFrame 객체로 만들기\n",
    "# thieves_df = pd.read_csv(\"../data/thieves.txt\")\n",
    "# thieves_df = pd.read_csv(\"../data/thieves.txt\", sep=\"\\t\")\n",
    "# thieves_df = pd.read_csv(\"../data/thieves.txt\", sep=\"\\t\", header=None)\n",
    "thieves_df = pd.read_csv(\"../data/thieves.txt\", sep=\"\\t\", header=None, index_col=0)\n",
    "\n",
    "# 데이터 프레임의 컬럼 명을 바꿔봅니다.\n",
    "thieves_df.columns  = [\"Height\", \"Weight\"]\n",
    "# 데이터프레임 인덱스의 이름을 바꿔 봅니다.\n",
    "thieves_df.index.name = \"Name\"\n",
    "\n",
    "print(thieves_df)"
   ],
   "metadata": {
    "collapsed": false,
    "ExecuteTime": {
     "end_time": "2023-08-01T07:33:17.467156400Z",
     "start_time": "2023-08-01T07:33:17.453128300Z"
    }
   },
   "id": "1f87fd974552e699"
  },
  {
   "cell_type": "markdown",
   "source": [
    "- CSV 파일로 저장하기 : to_csv"
   ],
   "metadata": {
    "collapsed": false
   },
   "id": "c10fb71ebf11fc37"
  },
  {
   "cell_type": "code",
   "execution_count": 9,
   "outputs": [],
   "source": [
    "import pandas as pd\n",
    "import os\n",
    "if not os.path.exists(\"../generated\"):\n",
    "    os.makedirs(\"../generated\")\n",
    "thieves_df.to_csv(\"../generated/thieves.csv\", encoding=\"utf-8\")"
   ],
   "metadata": {
    "collapsed": false,
    "ExecuteTime": {
     "end_time": "2023-08-01T07:35:31.431777200Z",
     "start_time": "2023-08-01T07:35:31.409118500Z"
    }
   },
   "id": "2402be12b407d34a"
  },
  {
   "cell_type": "markdown",
   "source": [
    "### Excel 파일\n",
    "- Excel 파일 다루기\n",
    "    - Excel 파일 불러오기 : read_excel\n",
    "    - Excel 파일로 저장하기 : to_excel"
   ],
   "metadata": {
    "collapsed": false
   },
   "id": "25dd7d8780f415f9"
  },
  {
   "cell_type": "code",
   "execution_count": 11,
   "outputs": [
    {
     "data": {
      "text/plain": "                  model   mpg  cyl   disp   hp  drat     wt   qsec  vs  am  \\\n0             Mazda RX4  21.0    6  160.0  110  3.90  2.620  16.46   0   1   \n1         Mazda RX4 Wag  21.0    6  160.0  110  3.90  2.875  17.02   0   1   \n2            Datsun 710  22.8    4  108.0   93  3.85  2.320  18.61   1   1   \n3        Hornet 4 Drive  21.4    6  258.0  110  3.08  3.215  19.44   1   0   \n4     Hornet Sportabout  18.7    8  360.0  175  3.15  3.440  17.02   0   0   \n5               Valiant  18.1    6  225.0  105  2.76  3.460  20.22   1   0   \n6            Duster 360  14.3    8  360.0  245  3.21  3.570  15.84   0   0   \n7             Merc 240D  24.4    4  146.7   62  3.69  3.190  20.00   1   0   \n8              Merc 230  22.8    4  140.8   95  3.92  3.150  22.90   1   0   \n9              Merc 280  19.2    6  167.6  123  3.92  3.440  18.30   1   0   \n10            Merc 280C  17.8    6  167.6  123  3.92  3.440  18.90   1   0   \n11           Merc 450SE  16.4    8  275.8  180  3.07  4.070  17.40   0   0   \n12           Merc 450SL  17.3    8  275.8  180  3.07  3.730  17.60   0   0   \n13          Merc 450SLC  15.2    8  275.8  180  3.07  3.780  18.00   0   0   \n14   Cadillac Fleetwood  10.4    8  472.0  205  2.93  5.250  17.98   0   0   \n15  Lincoln Continental  10.4    8  460.0  215  3.00  5.424  17.82   0   0   \n16    Chrysler Imperial  14.7    8  440.0  230  3.23  5.345  17.42   0   0   \n17             Fiat 128  32.4    4   78.7   66  4.08  2.200  19.47   1   1   \n18          Honda Civic  30.4    4   75.7   52  4.93  1.615  18.52   1   1   \n19       Toyota Corolla  33.9    4   71.1   65  4.22  1.835  19.90   1   1   \n20        Toyota Corona  21.5    4  120.1   97  3.70  2.465  20.01   1   0   \n21     Dodge Challenger  15.5    8  318.0  150  2.76  3.520  16.87   0   0   \n22          AMC Javelin  15.2    8  304.0  150  3.15  3.435  17.30   0   0   \n23           Camaro Z28  13.3    8  350.0  245  3.73  3.840  15.41   0   0   \n24     Pontiac Firebird  19.2    8  400.0  175  3.08  3.845  17.05   0   0   \n25            Fiat X1-9  27.3    4   79.0   66  4.08  1.935  18.90   1   1   \n26        Porsche 914-2  26.0    4  120.3   91  4.43  2.140  16.70   0   1   \n27         Lotus Europa  30.4    4   95.1  113  3.77  1.513  16.90   1   1   \n28       Ford Pantera L  15.8    8  351.0  264  4.22  3.170  14.50   0   1   \n29         Ferrari Dino  19.7    6  145.0  175  3.62  2.770  15.50   0   1   \n30        Maserati Bora  15.0    8  301.0  335  3.54  3.570  14.60   0   1   \n31           Volvo 142E  21.4    4  121.0  109  4.11  2.780  18.60   1   1   \n\n    gear  carb  \n0      4     4  \n1      4     4  \n2      4     1  \n3      3     1  \n4      3     2  \n5      3     1  \n6      3     4  \n7      4     2  \n8      4     2  \n9      4     4  \n10     4     4  \n11     3     3  \n12     3     3  \n13     3     3  \n14     3     4  \n15     3     4  \n16     3     4  \n17     4     1  \n18     4     2  \n19     4     1  \n20     3     1  \n21     3     2  \n22     3     2  \n23     3     4  \n24     3     2  \n25     4     1  \n26     5     2  \n27     5     2  \n28     5     4  \n29     5     6  \n30     5     8  \n31     4     2  ",
      "text/html": "<div>\n<style scoped>\n    .dataframe tbody tr th:only-of-type {\n        vertical-align: middle;\n    }\n\n    .dataframe tbody tr th {\n        vertical-align: top;\n    }\n\n    .dataframe thead th {\n        text-align: right;\n    }\n</style>\n<table border=\"1\" class=\"dataframe\">\n  <thead>\n    <tr style=\"text-align: right;\">\n      <th></th>\n      <th>model</th>\n      <th>mpg</th>\n      <th>cyl</th>\n      <th>disp</th>\n      <th>hp</th>\n      <th>drat</th>\n      <th>wt</th>\n      <th>qsec</th>\n      <th>vs</th>\n      <th>am</th>\n      <th>gear</th>\n      <th>carb</th>\n    </tr>\n  </thead>\n  <tbody>\n    <tr>\n      <th>0</th>\n      <td>Mazda RX4</td>\n      <td>21.0</td>\n      <td>6</td>\n      <td>160.0</td>\n      <td>110</td>\n      <td>3.90</td>\n      <td>2.620</td>\n      <td>16.46</td>\n      <td>0</td>\n      <td>1</td>\n      <td>4</td>\n      <td>4</td>\n    </tr>\n    <tr>\n      <th>1</th>\n      <td>Mazda RX4 Wag</td>\n      <td>21.0</td>\n      <td>6</td>\n      <td>160.0</td>\n      <td>110</td>\n      <td>3.90</td>\n      <td>2.875</td>\n      <td>17.02</td>\n      <td>0</td>\n      <td>1</td>\n      <td>4</td>\n      <td>4</td>\n    </tr>\n    <tr>\n      <th>2</th>\n      <td>Datsun 710</td>\n      <td>22.8</td>\n      <td>4</td>\n      <td>108.0</td>\n      <td>93</td>\n      <td>3.85</td>\n      <td>2.320</td>\n      <td>18.61</td>\n      <td>1</td>\n      <td>1</td>\n      <td>4</td>\n      <td>1</td>\n    </tr>\n    <tr>\n      <th>3</th>\n      <td>Hornet 4 Drive</td>\n      <td>21.4</td>\n      <td>6</td>\n      <td>258.0</td>\n      <td>110</td>\n      <td>3.08</td>\n      <td>3.215</td>\n      <td>19.44</td>\n      <td>1</td>\n      <td>0</td>\n      <td>3</td>\n      <td>1</td>\n    </tr>\n    <tr>\n      <th>4</th>\n      <td>Hornet Sportabout</td>\n      <td>18.7</td>\n      <td>8</td>\n      <td>360.0</td>\n      <td>175</td>\n      <td>3.15</td>\n      <td>3.440</td>\n      <td>17.02</td>\n      <td>0</td>\n      <td>0</td>\n      <td>3</td>\n      <td>2</td>\n    </tr>\n    <tr>\n      <th>5</th>\n      <td>Valiant</td>\n      <td>18.1</td>\n      <td>6</td>\n      <td>225.0</td>\n      <td>105</td>\n      <td>2.76</td>\n      <td>3.460</td>\n      <td>20.22</td>\n      <td>1</td>\n      <td>0</td>\n      <td>3</td>\n      <td>1</td>\n    </tr>\n    <tr>\n      <th>6</th>\n      <td>Duster 360</td>\n      <td>14.3</td>\n      <td>8</td>\n      <td>360.0</td>\n      <td>245</td>\n      <td>3.21</td>\n      <td>3.570</td>\n      <td>15.84</td>\n      <td>0</td>\n      <td>0</td>\n      <td>3</td>\n      <td>4</td>\n    </tr>\n    <tr>\n      <th>7</th>\n      <td>Merc 240D</td>\n      <td>24.4</td>\n      <td>4</td>\n      <td>146.7</td>\n      <td>62</td>\n      <td>3.69</td>\n      <td>3.190</td>\n      <td>20.00</td>\n      <td>1</td>\n      <td>0</td>\n      <td>4</td>\n      <td>2</td>\n    </tr>\n    <tr>\n      <th>8</th>\n      <td>Merc 230</td>\n      <td>22.8</td>\n      <td>4</td>\n      <td>140.8</td>\n      <td>95</td>\n      <td>3.92</td>\n      <td>3.150</td>\n      <td>22.90</td>\n      <td>1</td>\n      <td>0</td>\n      <td>4</td>\n      <td>2</td>\n    </tr>\n    <tr>\n      <th>9</th>\n      <td>Merc 280</td>\n      <td>19.2</td>\n      <td>6</td>\n      <td>167.6</td>\n      <td>123</td>\n      <td>3.92</td>\n      <td>3.440</td>\n      <td>18.30</td>\n      <td>1</td>\n      <td>0</td>\n      <td>4</td>\n      <td>4</td>\n    </tr>\n    <tr>\n      <th>10</th>\n      <td>Merc 280C</td>\n      <td>17.8</td>\n      <td>6</td>\n      <td>167.6</td>\n      <td>123</td>\n      <td>3.92</td>\n      <td>3.440</td>\n      <td>18.90</td>\n      <td>1</td>\n      <td>0</td>\n      <td>4</td>\n      <td>4</td>\n    </tr>\n    <tr>\n      <th>11</th>\n      <td>Merc 450SE</td>\n      <td>16.4</td>\n      <td>8</td>\n      <td>275.8</td>\n      <td>180</td>\n      <td>3.07</td>\n      <td>4.070</td>\n      <td>17.40</td>\n      <td>0</td>\n      <td>0</td>\n      <td>3</td>\n      <td>3</td>\n    </tr>\n    <tr>\n      <th>12</th>\n      <td>Merc 450SL</td>\n      <td>17.3</td>\n      <td>8</td>\n      <td>275.8</td>\n      <td>180</td>\n      <td>3.07</td>\n      <td>3.730</td>\n      <td>17.60</td>\n      <td>0</td>\n      <td>0</td>\n      <td>3</td>\n      <td>3</td>\n    </tr>\n    <tr>\n      <th>13</th>\n      <td>Merc 450SLC</td>\n      <td>15.2</td>\n      <td>8</td>\n      <td>275.8</td>\n      <td>180</td>\n      <td>3.07</td>\n      <td>3.780</td>\n      <td>18.00</td>\n      <td>0</td>\n      <td>0</td>\n      <td>3</td>\n      <td>3</td>\n    </tr>\n    <tr>\n      <th>14</th>\n      <td>Cadillac Fleetwood</td>\n      <td>10.4</td>\n      <td>8</td>\n      <td>472.0</td>\n      <td>205</td>\n      <td>2.93</td>\n      <td>5.250</td>\n      <td>17.98</td>\n      <td>0</td>\n      <td>0</td>\n      <td>3</td>\n      <td>4</td>\n    </tr>\n    <tr>\n      <th>15</th>\n      <td>Lincoln Continental</td>\n      <td>10.4</td>\n      <td>8</td>\n      <td>460.0</td>\n      <td>215</td>\n      <td>3.00</td>\n      <td>5.424</td>\n      <td>17.82</td>\n      <td>0</td>\n      <td>0</td>\n      <td>3</td>\n      <td>4</td>\n    </tr>\n    <tr>\n      <th>16</th>\n      <td>Chrysler Imperial</td>\n      <td>14.7</td>\n      <td>8</td>\n      <td>440.0</td>\n      <td>230</td>\n      <td>3.23</td>\n      <td>5.345</td>\n      <td>17.42</td>\n      <td>0</td>\n      <td>0</td>\n      <td>3</td>\n      <td>4</td>\n    </tr>\n    <tr>\n      <th>17</th>\n      <td>Fiat 128</td>\n      <td>32.4</td>\n      <td>4</td>\n      <td>78.7</td>\n      <td>66</td>\n      <td>4.08</td>\n      <td>2.200</td>\n      <td>19.47</td>\n      <td>1</td>\n      <td>1</td>\n      <td>4</td>\n      <td>1</td>\n    </tr>\n    <tr>\n      <th>18</th>\n      <td>Honda Civic</td>\n      <td>30.4</td>\n      <td>4</td>\n      <td>75.7</td>\n      <td>52</td>\n      <td>4.93</td>\n      <td>1.615</td>\n      <td>18.52</td>\n      <td>1</td>\n      <td>1</td>\n      <td>4</td>\n      <td>2</td>\n    </tr>\n    <tr>\n      <th>19</th>\n      <td>Toyota Corolla</td>\n      <td>33.9</td>\n      <td>4</td>\n      <td>71.1</td>\n      <td>65</td>\n      <td>4.22</td>\n      <td>1.835</td>\n      <td>19.90</td>\n      <td>1</td>\n      <td>1</td>\n      <td>4</td>\n      <td>1</td>\n    </tr>\n    <tr>\n      <th>20</th>\n      <td>Toyota Corona</td>\n      <td>21.5</td>\n      <td>4</td>\n      <td>120.1</td>\n      <td>97</td>\n      <td>3.70</td>\n      <td>2.465</td>\n      <td>20.01</td>\n      <td>1</td>\n      <td>0</td>\n      <td>3</td>\n      <td>1</td>\n    </tr>\n    <tr>\n      <th>21</th>\n      <td>Dodge Challenger</td>\n      <td>15.5</td>\n      <td>8</td>\n      <td>318.0</td>\n      <td>150</td>\n      <td>2.76</td>\n      <td>3.520</td>\n      <td>16.87</td>\n      <td>0</td>\n      <td>0</td>\n      <td>3</td>\n      <td>2</td>\n    </tr>\n    <tr>\n      <th>22</th>\n      <td>AMC Javelin</td>\n      <td>15.2</td>\n      <td>8</td>\n      <td>304.0</td>\n      <td>150</td>\n      <td>3.15</td>\n      <td>3.435</td>\n      <td>17.30</td>\n      <td>0</td>\n      <td>0</td>\n      <td>3</td>\n      <td>2</td>\n    </tr>\n    <tr>\n      <th>23</th>\n      <td>Camaro Z28</td>\n      <td>13.3</td>\n      <td>8</td>\n      <td>350.0</td>\n      <td>245</td>\n      <td>3.73</td>\n      <td>3.840</td>\n      <td>15.41</td>\n      <td>0</td>\n      <td>0</td>\n      <td>3</td>\n      <td>4</td>\n    </tr>\n    <tr>\n      <th>24</th>\n      <td>Pontiac Firebird</td>\n      <td>19.2</td>\n      <td>8</td>\n      <td>400.0</td>\n      <td>175</td>\n      <td>3.08</td>\n      <td>3.845</td>\n      <td>17.05</td>\n      <td>0</td>\n      <td>0</td>\n      <td>3</td>\n      <td>2</td>\n    </tr>\n    <tr>\n      <th>25</th>\n      <td>Fiat X1-9</td>\n      <td>27.3</td>\n      <td>4</td>\n      <td>79.0</td>\n      <td>66</td>\n      <td>4.08</td>\n      <td>1.935</td>\n      <td>18.90</td>\n      <td>1</td>\n      <td>1</td>\n      <td>4</td>\n      <td>1</td>\n    </tr>\n    <tr>\n      <th>26</th>\n      <td>Porsche 914-2</td>\n      <td>26.0</td>\n      <td>4</td>\n      <td>120.3</td>\n      <td>91</td>\n      <td>4.43</td>\n      <td>2.140</td>\n      <td>16.70</td>\n      <td>0</td>\n      <td>1</td>\n      <td>5</td>\n      <td>2</td>\n    </tr>\n    <tr>\n      <th>27</th>\n      <td>Lotus Europa</td>\n      <td>30.4</td>\n      <td>4</td>\n      <td>95.1</td>\n      <td>113</td>\n      <td>3.77</td>\n      <td>1.513</td>\n      <td>16.90</td>\n      <td>1</td>\n      <td>1</td>\n      <td>5</td>\n      <td>2</td>\n    </tr>\n    <tr>\n      <th>28</th>\n      <td>Ford Pantera L</td>\n      <td>15.8</td>\n      <td>8</td>\n      <td>351.0</td>\n      <td>264</td>\n      <td>4.22</td>\n      <td>3.170</td>\n      <td>14.50</td>\n      <td>0</td>\n      <td>1</td>\n      <td>5</td>\n      <td>4</td>\n    </tr>\n    <tr>\n      <th>29</th>\n      <td>Ferrari Dino</td>\n      <td>19.7</td>\n      <td>6</td>\n      <td>145.0</td>\n      <td>175</td>\n      <td>3.62</td>\n      <td>2.770</td>\n      <td>15.50</td>\n      <td>0</td>\n      <td>1</td>\n      <td>5</td>\n      <td>6</td>\n    </tr>\n    <tr>\n      <th>30</th>\n      <td>Maserati Bora</td>\n      <td>15.0</td>\n      <td>8</td>\n      <td>301.0</td>\n      <td>335</td>\n      <td>3.54</td>\n      <td>3.570</td>\n      <td>14.60</td>\n      <td>0</td>\n      <td>1</td>\n      <td>5</td>\n      <td>8</td>\n    </tr>\n    <tr>\n      <th>31</th>\n      <td>Volvo 142E</td>\n      <td>21.4</td>\n      <td>4</td>\n      <td>121.0</td>\n      <td>109</td>\n      <td>4.11</td>\n      <td>2.780</td>\n      <td>18.60</td>\n      <td>1</td>\n      <td>1</td>\n      <td>4</td>\n      <td>2</td>\n    </tr>\n  </tbody>\n</table>\n</div>"
     },
     "execution_count": 11,
     "metadata": {},
     "output_type": "execute_result"
    }
   ],
   "source": [
    "import pandas as pd\n",
    "\n",
    "# Excel 파일을 읽어와서 DataFrame 객체로 만들기\n",
    "xl_df = pd.read_excel(\"../data/mtcars.xlsx\")\n",
    "xl_df"
   ],
   "metadata": {
    "collapsed": false,
    "ExecuteTime": {
     "end_time": "2023-08-01T07:39:22.175922500Z",
     "start_time": "2023-08-01T07:39:22.112333100Z"
    }
   },
   "id": "98b04b965b627fe6"
  },
  {
   "cell_type": "code",
   "execution_count": 12,
   "outputs": [],
   "source": [
    "import os\n",
    "\n",
    "if not os.path.exists(\"../generated\"):\n",
    "    os.makedirs(\"../generated\")\n",
    "\n",
    "xl_df.to_excel(\"../generated/mtcars2.xlsx\", sheet_name=\"엑셀 저장 테스트\")"
   ],
   "metadata": {
    "collapsed": false,
    "ExecuteTime": {
     "end_time": "2023-08-01T07:41:16.440952700Z",
     "start_time": "2023-08-01T07:41:16.388114400Z"
    }
   },
   "id": "126bd56f44a1312b"
  },
  {
   "cell_type": "markdown",
   "source": [
    "### 데이터베이스 다루기\n",
    "- 데이터베이스에 데이터프레임 저장하기 : to_sql"
   ],
   "metadata": {
    "collapsed": false
   },
   "id": "854ee4538d3d630e"
  },
  {
   "cell_type": "code",
   "execution_count": 15,
   "outputs": [],
   "source": [
    "import pandas as pd\n",
    "import sqlite3\n",
    "import os\n",
    "\n",
    "mtcars = pd.read_excel(\"../data/mtcars.xlsx\")\n",
    "\n",
    "dbdir = \"../database\"\n",
    "\n",
    "if not os.path.exists(dbdir):\n",
    "    os.makedirs(dbdir)\n",
    "    \n",
    "# sqlite 데이터베이스 파일 생성 또는 연결\n",
    "conn = sqlite3.connect(\"../database/example.db\")\n",
    "\n",
    "# 데이터프레임을 SQLite 데이터베이스의 테이블로 저장하기\n",
    "mtcars.to_sql(\"mtcars\", conn, if_exists=\"replace\")\n",
    "\n",
    "# SQLite 데이터베이스 접속 종료\n",
    "conn.close()\n"
   ],
   "metadata": {
    "collapsed": false,
    "ExecuteTime": {
     "end_time": "2023-08-01T07:50:24.770851Z",
     "start_time": "2023-08-01T07:50:24.728415900Z"
    }
   },
   "id": "e61d10c9cd66e07b"
  },
  {
   "cell_type": "markdown",
   "source": [
    "- 데이터베이스에서 데이터프레임 읽어오기 : read_sql"
   ],
   "metadata": {
    "collapsed": false
   },
   "id": "7f0771e3b23b35eb"
  },
  {
   "cell_type": "code",
   "execution_count": 16,
   "outputs": [
    {
     "data": {
      "text/plain": "    index                model   mpg  cyl   disp   hp  drat     wt   qsec  vs  \\\n0       0            Mazda RX4  21.0    6  160.0  110  3.90  2.620  16.46   0   \n1       1        Mazda RX4 Wag  21.0    6  160.0  110  3.90  2.875  17.02   0   \n2       2           Datsun 710  22.8    4  108.0   93  3.85  2.320  18.61   1   \n3       3       Hornet 4 Drive  21.4    6  258.0  110  3.08  3.215  19.44   1   \n4       4    Hornet Sportabout  18.7    8  360.0  175  3.15  3.440  17.02   0   \n5       5              Valiant  18.1    6  225.0  105  2.76  3.460  20.22   1   \n6       6           Duster 360  14.3    8  360.0  245  3.21  3.570  15.84   0   \n7       7            Merc 240D  24.4    4  146.7   62  3.69  3.190  20.00   1   \n8       8             Merc 230  22.8    4  140.8   95  3.92  3.150  22.90   1   \n9       9             Merc 280  19.2    6  167.6  123  3.92  3.440  18.30   1   \n10     10            Merc 280C  17.8    6  167.6  123  3.92  3.440  18.90   1   \n11     11           Merc 450SE  16.4    8  275.8  180  3.07  4.070  17.40   0   \n12     12           Merc 450SL  17.3    8  275.8  180  3.07  3.730  17.60   0   \n13     13          Merc 450SLC  15.2    8  275.8  180  3.07  3.780  18.00   0   \n14     14   Cadillac Fleetwood  10.4    8  472.0  205  2.93  5.250  17.98   0   \n15     15  Lincoln Continental  10.4    8  460.0  215  3.00  5.424  17.82   0   \n16     16    Chrysler Imperial  14.7    8  440.0  230  3.23  5.345  17.42   0   \n17     17             Fiat 128  32.4    4   78.7   66  4.08  2.200  19.47   1   \n18     18          Honda Civic  30.4    4   75.7   52  4.93  1.615  18.52   1   \n19     19       Toyota Corolla  33.9    4   71.1   65  4.22  1.835  19.90   1   \n20     20        Toyota Corona  21.5    4  120.1   97  3.70  2.465  20.01   1   \n21     21     Dodge Challenger  15.5    8  318.0  150  2.76  3.520  16.87   0   \n22     22          AMC Javelin  15.2    8  304.0  150  3.15  3.435  17.30   0   \n23     23           Camaro Z28  13.3    8  350.0  245  3.73  3.840  15.41   0   \n24     24     Pontiac Firebird  19.2    8  400.0  175  3.08  3.845  17.05   0   \n25     25            Fiat X1-9  27.3    4   79.0   66  4.08  1.935  18.90   1   \n26     26        Porsche 914-2  26.0    4  120.3   91  4.43  2.140  16.70   0   \n27     27         Lotus Europa  30.4    4   95.1  113  3.77  1.513  16.90   1   \n28     28       Ford Pantera L  15.8    8  351.0  264  4.22  3.170  14.50   0   \n29     29         Ferrari Dino  19.7    6  145.0  175  3.62  2.770  15.50   0   \n30     30        Maserati Bora  15.0    8  301.0  335  3.54  3.570  14.60   0   \n31     31           Volvo 142E  21.4    4  121.0  109  4.11  2.780  18.60   1   \n\n    am  gear  carb  \n0    1     4     4  \n1    1     4     4  \n2    1     4     1  \n3    0     3     1  \n4    0     3     2  \n5    0     3     1  \n6    0     3     4  \n7    0     4     2  \n8    0     4     2  \n9    0     4     4  \n10   0     4     4  \n11   0     3     3  \n12   0     3     3  \n13   0     3     3  \n14   0     3     4  \n15   0     3     4  \n16   0     3     4  \n17   1     4     1  \n18   1     4     2  \n19   1     4     1  \n20   0     3     1  \n21   0     3     2  \n22   0     3     2  \n23   0     3     4  \n24   0     3     2  \n25   1     4     1  \n26   1     5     2  \n27   1     5     2  \n28   1     5     4  \n29   1     5     6  \n30   1     5     8  \n31   1     4     2  ",
      "text/html": "<div>\n<style scoped>\n    .dataframe tbody tr th:only-of-type {\n        vertical-align: middle;\n    }\n\n    .dataframe tbody tr th {\n        vertical-align: top;\n    }\n\n    .dataframe thead th {\n        text-align: right;\n    }\n</style>\n<table border=\"1\" class=\"dataframe\">\n  <thead>\n    <tr style=\"text-align: right;\">\n      <th></th>\n      <th>index</th>\n      <th>model</th>\n      <th>mpg</th>\n      <th>cyl</th>\n      <th>disp</th>\n      <th>hp</th>\n      <th>drat</th>\n      <th>wt</th>\n      <th>qsec</th>\n      <th>vs</th>\n      <th>am</th>\n      <th>gear</th>\n      <th>carb</th>\n    </tr>\n  </thead>\n  <tbody>\n    <tr>\n      <th>0</th>\n      <td>0</td>\n      <td>Mazda RX4</td>\n      <td>21.0</td>\n      <td>6</td>\n      <td>160.0</td>\n      <td>110</td>\n      <td>3.90</td>\n      <td>2.620</td>\n      <td>16.46</td>\n      <td>0</td>\n      <td>1</td>\n      <td>4</td>\n      <td>4</td>\n    </tr>\n    <tr>\n      <th>1</th>\n      <td>1</td>\n      <td>Mazda RX4 Wag</td>\n      <td>21.0</td>\n      <td>6</td>\n      <td>160.0</td>\n      <td>110</td>\n      <td>3.90</td>\n      <td>2.875</td>\n      <td>17.02</td>\n      <td>0</td>\n      <td>1</td>\n      <td>4</td>\n      <td>4</td>\n    </tr>\n    <tr>\n      <th>2</th>\n      <td>2</td>\n      <td>Datsun 710</td>\n      <td>22.8</td>\n      <td>4</td>\n      <td>108.0</td>\n      <td>93</td>\n      <td>3.85</td>\n      <td>2.320</td>\n      <td>18.61</td>\n      <td>1</td>\n      <td>1</td>\n      <td>4</td>\n      <td>1</td>\n    </tr>\n    <tr>\n      <th>3</th>\n      <td>3</td>\n      <td>Hornet 4 Drive</td>\n      <td>21.4</td>\n      <td>6</td>\n      <td>258.0</td>\n      <td>110</td>\n      <td>3.08</td>\n      <td>3.215</td>\n      <td>19.44</td>\n      <td>1</td>\n      <td>0</td>\n      <td>3</td>\n      <td>1</td>\n    </tr>\n    <tr>\n      <th>4</th>\n      <td>4</td>\n      <td>Hornet Sportabout</td>\n      <td>18.7</td>\n      <td>8</td>\n      <td>360.0</td>\n      <td>175</td>\n      <td>3.15</td>\n      <td>3.440</td>\n      <td>17.02</td>\n      <td>0</td>\n      <td>0</td>\n      <td>3</td>\n      <td>2</td>\n    </tr>\n    <tr>\n      <th>5</th>\n      <td>5</td>\n      <td>Valiant</td>\n      <td>18.1</td>\n      <td>6</td>\n      <td>225.0</td>\n      <td>105</td>\n      <td>2.76</td>\n      <td>3.460</td>\n      <td>20.22</td>\n      <td>1</td>\n      <td>0</td>\n      <td>3</td>\n      <td>1</td>\n    </tr>\n    <tr>\n      <th>6</th>\n      <td>6</td>\n      <td>Duster 360</td>\n      <td>14.3</td>\n      <td>8</td>\n      <td>360.0</td>\n      <td>245</td>\n      <td>3.21</td>\n      <td>3.570</td>\n      <td>15.84</td>\n      <td>0</td>\n      <td>0</td>\n      <td>3</td>\n      <td>4</td>\n    </tr>\n    <tr>\n      <th>7</th>\n      <td>7</td>\n      <td>Merc 240D</td>\n      <td>24.4</td>\n      <td>4</td>\n      <td>146.7</td>\n      <td>62</td>\n      <td>3.69</td>\n      <td>3.190</td>\n      <td>20.00</td>\n      <td>1</td>\n      <td>0</td>\n      <td>4</td>\n      <td>2</td>\n    </tr>\n    <tr>\n      <th>8</th>\n      <td>8</td>\n      <td>Merc 230</td>\n      <td>22.8</td>\n      <td>4</td>\n      <td>140.8</td>\n      <td>95</td>\n      <td>3.92</td>\n      <td>3.150</td>\n      <td>22.90</td>\n      <td>1</td>\n      <td>0</td>\n      <td>4</td>\n      <td>2</td>\n    </tr>\n    <tr>\n      <th>9</th>\n      <td>9</td>\n      <td>Merc 280</td>\n      <td>19.2</td>\n      <td>6</td>\n      <td>167.6</td>\n      <td>123</td>\n      <td>3.92</td>\n      <td>3.440</td>\n      <td>18.30</td>\n      <td>1</td>\n      <td>0</td>\n      <td>4</td>\n      <td>4</td>\n    </tr>\n    <tr>\n      <th>10</th>\n      <td>10</td>\n      <td>Merc 280C</td>\n      <td>17.8</td>\n      <td>6</td>\n      <td>167.6</td>\n      <td>123</td>\n      <td>3.92</td>\n      <td>3.440</td>\n      <td>18.90</td>\n      <td>1</td>\n      <td>0</td>\n      <td>4</td>\n      <td>4</td>\n    </tr>\n    <tr>\n      <th>11</th>\n      <td>11</td>\n      <td>Merc 450SE</td>\n      <td>16.4</td>\n      <td>8</td>\n      <td>275.8</td>\n      <td>180</td>\n      <td>3.07</td>\n      <td>4.070</td>\n      <td>17.40</td>\n      <td>0</td>\n      <td>0</td>\n      <td>3</td>\n      <td>3</td>\n    </tr>\n    <tr>\n      <th>12</th>\n      <td>12</td>\n      <td>Merc 450SL</td>\n      <td>17.3</td>\n      <td>8</td>\n      <td>275.8</td>\n      <td>180</td>\n      <td>3.07</td>\n      <td>3.730</td>\n      <td>17.60</td>\n      <td>0</td>\n      <td>0</td>\n      <td>3</td>\n      <td>3</td>\n    </tr>\n    <tr>\n      <th>13</th>\n      <td>13</td>\n      <td>Merc 450SLC</td>\n      <td>15.2</td>\n      <td>8</td>\n      <td>275.8</td>\n      <td>180</td>\n      <td>3.07</td>\n      <td>3.780</td>\n      <td>18.00</td>\n      <td>0</td>\n      <td>0</td>\n      <td>3</td>\n      <td>3</td>\n    </tr>\n    <tr>\n      <th>14</th>\n      <td>14</td>\n      <td>Cadillac Fleetwood</td>\n      <td>10.4</td>\n      <td>8</td>\n      <td>472.0</td>\n      <td>205</td>\n      <td>2.93</td>\n      <td>5.250</td>\n      <td>17.98</td>\n      <td>0</td>\n      <td>0</td>\n      <td>3</td>\n      <td>4</td>\n    </tr>\n    <tr>\n      <th>15</th>\n      <td>15</td>\n      <td>Lincoln Continental</td>\n      <td>10.4</td>\n      <td>8</td>\n      <td>460.0</td>\n      <td>215</td>\n      <td>3.00</td>\n      <td>5.424</td>\n      <td>17.82</td>\n      <td>0</td>\n      <td>0</td>\n      <td>3</td>\n      <td>4</td>\n    </tr>\n    <tr>\n      <th>16</th>\n      <td>16</td>\n      <td>Chrysler Imperial</td>\n      <td>14.7</td>\n      <td>8</td>\n      <td>440.0</td>\n      <td>230</td>\n      <td>3.23</td>\n      <td>5.345</td>\n      <td>17.42</td>\n      <td>0</td>\n      <td>0</td>\n      <td>3</td>\n      <td>4</td>\n    </tr>\n    <tr>\n      <th>17</th>\n      <td>17</td>\n      <td>Fiat 128</td>\n      <td>32.4</td>\n      <td>4</td>\n      <td>78.7</td>\n      <td>66</td>\n      <td>4.08</td>\n      <td>2.200</td>\n      <td>19.47</td>\n      <td>1</td>\n      <td>1</td>\n      <td>4</td>\n      <td>1</td>\n    </tr>\n    <tr>\n      <th>18</th>\n      <td>18</td>\n      <td>Honda Civic</td>\n      <td>30.4</td>\n      <td>4</td>\n      <td>75.7</td>\n      <td>52</td>\n      <td>4.93</td>\n      <td>1.615</td>\n      <td>18.52</td>\n      <td>1</td>\n      <td>1</td>\n      <td>4</td>\n      <td>2</td>\n    </tr>\n    <tr>\n      <th>19</th>\n      <td>19</td>\n      <td>Toyota Corolla</td>\n      <td>33.9</td>\n      <td>4</td>\n      <td>71.1</td>\n      <td>65</td>\n      <td>4.22</td>\n      <td>1.835</td>\n      <td>19.90</td>\n      <td>1</td>\n      <td>1</td>\n      <td>4</td>\n      <td>1</td>\n    </tr>\n    <tr>\n      <th>20</th>\n      <td>20</td>\n      <td>Toyota Corona</td>\n      <td>21.5</td>\n      <td>4</td>\n      <td>120.1</td>\n      <td>97</td>\n      <td>3.70</td>\n      <td>2.465</td>\n      <td>20.01</td>\n      <td>1</td>\n      <td>0</td>\n      <td>3</td>\n      <td>1</td>\n    </tr>\n    <tr>\n      <th>21</th>\n      <td>21</td>\n      <td>Dodge Challenger</td>\n      <td>15.5</td>\n      <td>8</td>\n      <td>318.0</td>\n      <td>150</td>\n      <td>2.76</td>\n      <td>3.520</td>\n      <td>16.87</td>\n      <td>0</td>\n      <td>0</td>\n      <td>3</td>\n      <td>2</td>\n    </tr>\n    <tr>\n      <th>22</th>\n      <td>22</td>\n      <td>AMC Javelin</td>\n      <td>15.2</td>\n      <td>8</td>\n      <td>304.0</td>\n      <td>150</td>\n      <td>3.15</td>\n      <td>3.435</td>\n      <td>17.30</td>\n      <td>0</td>\n      <td>0</td>\n      <td>3</td>\n      <td>2</td>\n    </tr>\n    <tr>\n      <th>23</th>\n      <td>23</td>\n      <td>Camaro Z28</td>\n      <td>13.3</td>\n      <td>8</td>\n      <td>350.0</td>\n      <td>245</td>\n      <td>3.73</td>\n      <td>3.840</td>\n      <td>15.41</td>\n      <td>0</td>\n      <td>0</td>\n      <td>3</td>\n      <td>4</td>\n    </tr>\n    <tr>\n      <th>24</th>\n      <td>24</td>\n      <td>Pontiac Firebird</td>\n      <td>19.2</td>\n      <td>8</td>\n      <td>400.0</td>\n      <td>175</td>\n      <td>3.08</td>\n      <td>3.845</td>\n      <td>17.05</td>\n      <td>0</td>\n      <td>0</td>\n      <td>3</td>\n      <td>2</td>\n    </tr>\n    <tr>\n      <th>25</th>\n      <td>25</td>\n      <td>Fiat X1-9</td>\n      <td>27.3</td>\n      <td>4</td>\n      <td>79.0</td>\n      <td>66</td>\n      <td>4.08</td>\n      <td>1.935</td>\n      <td>18.90</td>\n      <td>1</td>\n      <td>1</td>\n      <td>4</td>\n      <td>1</td>\n    </tr>\n    <tr>\n      <th>26</th>\n      <td>26</td>\n      <td>Porsche 914-2</td>\n      <td>26.0</td>\n      <td>4</td>\n      <td>120.3</td>\n      <td>91</td>\n      <td>4.43</td>\n      <td>2.140</td>\n      <td>16.70</td>\n      <td>0</td>\n      <td>1</td>\n      <td>5</td>\n      <td>2</td>\n    </tr>\n    <tr>\n      <th>27</th>\n      <td>27</td>\n      <td>Lotus Europa</td>\n      <td>30.4</td>\n      <td>4</td>\n      <td>95.1</td>\n      <td>113</td>\n      <td>3.77</td>\n      <td>1.513</td>\n      <td>16.90</td>\n      <td>1</td>\n      <td>1</td>\n      <td>5</td>\n      <td>2</td>\n    </tr>\n    <tr>\n      <th>28</th>\n      <td>28</td>\n      <td>Ford Pantera L</td>\n      <td>15.8</td>\n      <td>8</td>\n      <td>351.0</td>\n      <td>264</td>\n      <td>4.22</td>\n      <td>3.170</td>\n      <td>14.50</td>\n      <td>0</td>\n      <td>1</td>\n      <td>5</td>\n      <td>4</td>\n    </tr>\n    <tr>\n      <th>29</th>\n      <td>29</td>\n      <td>Ferrari Dino</td>\n      <td>19.7</td>\n      <td>6</td>\n      <td>145.0</td>\n      <td>175</td>\n      <td>3.62</td>\n      <td>2.770</td>\n      <td>15.50</td>\n      <td>0</td>\n      <td>1</td>\n      <td>5</td>\n      <td>6</td>\n    </tr>\n    <tr>\n      <th>30</th>\n      <td>30</td>\n      <td>Maserati Bora</td>\n      <td>15.0</td>\n      <td>8</td>\n      <td>301.0</td>\n      <td>335</td>\n      <td>3.54</td>\n      <td>3.570</td>\n      <td>14.60</td>\n      <td>0</td>\n      <td>1</td>\n      <td>5</td>\n      <td>8</td>\n    </tr>\n    <tr>\n      <th>31</th>\n      <td>31</td>\n      <td>Volvo 142E</td>\n      <td>21.4</td>\n      <td>4</td>\n      <td>121.0</td>\n      <td>109</td>\n      <td>4.11</td>\n      <td>2.780</td>\n      <td>18.60</td>\n      <td>1</td>\n      <td>1</td>\n      <td>4</td>\n      <td>2</td>\n    </tr>\n  </tbody>\n</table>\n</div>"
     },
     "execution_count": 16,
     "metadata": {},
     "output_type": "execute_result"
    }
   ],
   "source": [
    "import pandas as pd\n",
    "import sqlite3\n",
    "\n",
    "# 데이터베이스에 접속\n",
    "conn = sqlite3.connect(\"../database/example.db\")\n",
    "\n",
    "# SQL 쿼리 결과를 데이터프레임으로 설정\n",
    "query = \"SELECT * FROM mtcars\"\n",
    "dataframe = pd.read_sql(query, conn)\n",
    "\n",
    "dataframe"
   ],
   "metadata": {
    "collapsed": false,
    "ExecuteTime": {
     "end_time": "2023-08-01T08:13:53.157513100Z",
     "start_time": "2023-08-01T08:13:53.072469700Z"
    }
   },
   "id": "4100ffbe08a2c2c4"
  },
  {
   "cell_type": "code",
   "execution_count": null,
   "outputs": [],
   "source": [],
   "metadata": {
    "collapsed": false
   },
   "id": "7b9e644fe895df9c"
  }
 ],
 "metadata": {
  "kernelspec": {
   "display_name": "Python 3",
   "language": "python",
   "name": "python3"
  },
  "language_info": {
   "codemirror_mode": {
    "name": "ipython",
    "version": 2
   },
   "file_extension": ".py",
   "mimetype": "text/x-python",
   "name": "python",
   "nbconvert_exporter": "python",
   "pygments_lexer": "ipython2",
   "version": "2.7.6"
  }
 },
 "nbformat": 4,
 "nbformat_minor": 5
}
