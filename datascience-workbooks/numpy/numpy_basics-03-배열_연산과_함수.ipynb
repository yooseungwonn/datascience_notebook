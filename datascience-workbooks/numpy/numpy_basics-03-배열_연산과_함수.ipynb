{
 "cells": [
  {
   "cell_type": "markdown",
   "id": "fd9530faa2de00ad",
   "metadata": {},
   "source": [
    "# Numpy\n",
    "-----\n",
    "## 03. 배열 연산과 함수\n",
    "### 스칼라, 벡터, 매트릭스, 텐서"
   ]
  },
  {
   "cell_type": "markdown",
   "id": "7e2b936eacde9955",
   "metadata": {},
   "source": [
    "- 스칼라\n",
    "    - 수학과 물리학에서 사용되는 개념으로 크기만을 가지고 방향이 없는 양\n",
    "    - 다른 말로 단 하나의 값을 갖는 변수 또는 양\n",
    "    - 1차원으로만 표현\n",
    "    - 주로 실수, 정수, 복소수 등과 같은 숫자 형태로 표현되며 수학적 연산에 사용될 수 있음\n",
    "- 스칼라는 벡터(크기와 방향을 가지는 양)과 대비되는 개념으로 이해\n",
    "- 차원별 용어\n",
    "    - 0D: 스칼라\n",
    "    - 1D: 벡터\n",
    "    - 2D: 매트릭스\n",
    "    - 3D: 큐브\n",
    "    - 4D: 테서렉트\n",
    "- Tensor : 3차원 이상의 데이터는 텐서라고 통칭하여 3차원 텐서, 4차원 텐서, n차원 텐서라 지칭하기도 함\n",
    "        "
   ]
  },
  {
   "cell_type": "code",
   "execution_count": 1,
   "id": "20fb5a9a53308c28",
   "metadata": {
    "ExecuteTime": {
     "end_time": "2024-01-29T07:39:56.998452200Z",
     "start_time": "2024-01-29T07:39:56.810929900Z"
    }
   },
   "outputs": [
    {
     "name": "stdout",
     "output_type": "stream",
     "text": [
      "() 0 1 int32\n",
      "(1,) 1 1 int32\n"
     ]
    }
   ],
   "source": [
    "import numpy as np\n",
    "\n",
    "# 차원이 없는 배열은 스칼라\n",
    "scalar = np.array(3)\n",
    "# scalar의 속성들을 살펴봅시다\n",
    "print(scalar.shape, scalar.ndim, scalar.size, scalar.dtype)\n",
    "\n",
    "# 그렇다면 이것은 어떨까?\n",
    "onedim = np.array([3])\n",
    "# onedim의 속성들을 살펴봅시다\n",
    "print(onedim.shape, onedim.ndim, onedim.size, onedim.dtype)\n"
   ]
  },
  {
   "cell_type": "markdown",
   "id": "72b74e1973cc6472",
   "metadata": {},
   "source": [
    "### 기본 수학 연산: 덧셈, 뺄셈, 곱셈, 나눗셈\n",
    "\n",
    "- 배열과 스칼라의 연산\n",
    "    - 스칼라가 배열의 각 요소로 브로드캐스팅되어 연산된다"
   ]
  },
  {
   "cell_type": "code",
   "execution_count": 2,
   "id": "26f64b6199adbac1",
   "metadata": {
    "ExecuteTime": {
     "end_time": "2024-01-29T07:39:57.011104800Z",
     "start_time": "2024-01-29T07:39:57.000452200Z"
    }
   },
   "outputs": [
    {
     "name": "stdout",
     "output_type": "stream",
     "text": [
      "덧셈: [11 12 13 14 15]\n",
      "뺼셈: [9 8 7 6 5]\n",
      "곱셈: [10 20 30 40 50]\n",
      "나눗셈: [0.1 0.2 0.3 0.4 0.5]\n",
      "type of arr: int32\n",
      "type of arr / scalar: float64\n"
     ]
    }
   ],
   "source": [
    "import numpy as np\n",
    "\n",
    "# 스칼라 데이터\n",
    "scalar = 10\n",
    "# 배열 데이터\n",
    "arr = np.array([1, 2, 3, 4, 5])\n",
    "\n",
    "print(\"덧셈:\", arr + scalar)\n",
    "print(\"뺼셈:\", scalar - arr)\n",
    "print(\"곱셈:\", arr * scalar)\n",
    "print(\"나눗셈:\", arr / scalar)\n",
    "\n",
    "print(\"type of arr:\", arr.dtype)\n",
    "print(\"type of arr / scalar:\", (arr / scalar).dtype)"
   ]
  },
  {
   "cell_type": "markdown",
   "id": "b099ee07ed386c7d",
   "metadata": {},
   "source": [
    "- 배열과 배열의 연산"
   ]
  },
  {
   "cell_type": "code",
   "execution_count": 3,
   "id": "f21fa1aac692db69",
   "metadata": {
    "ExecuteTime": {
     "end_time": "2024-01-29T07:39:57.069218500Z",
     "start_time": "2024-01-29T07:39:57.017103900Z"
    }
   },
   "outputs": [
    {
     "name": "stdout",
     "output_type": "stream",
     "text": [
      "[ 3  6  9 12 15]\n",
      "\n",
      "[[11 22 33]\n",
      " [14 25 36]\n",
      " [17 28 39]]\n"
     ]
    }
   ],
   "source": [
    "import numpy as np\n",
    "\n",
    "# 1차원과 1차원의 연산\n",
    "arr1 = np.array([1, 2, 3, 4, 5])\n",
    "arr2 = np.array([2, 4, 6, 8, 10])\n",
    "\n",
    "print(arr1 + arr2)\n",
    "print()\n",
    "arr3 = np.array([3, 4, 5, 6, 7, 8, 9, 10])\n",
    "# print(arr1 + arr3)  # Error -> 항상 형상의 변화에 관심을 기울이자\n",
    "\n",
    "# 2차원과 1차원 연산\n",
    "arr4 = np.array([10, 20, 30])\n",
    "arr5 = np.array([\n",
    "    [1, 2, 3],\n",
    "    [4, 5, 6],\n",
    "    [7, 8, 9]\n",
    "])\n",
    "\n",
    "print(arr4 + arr5)"
   ]
  },
  {
   "cell_type": "markdown",
   "id": "819b75045a1991af",
   "metadata": {},
   "source": [
    "### 내적\n",
    "- 내적\n",
    "    - 점곱(Dot Product)라고도 불리며 선형 대수학에서 두 벡터간의 연산을 말함\n",
    "    - 두 벡터의 각 성분을 곱한 후 그 결과들을 더하는 연산\n",
    "        -  벡터의 길이와 방향에 대한 정보를 담고 있음\n",
    "    - 넘파이에서는 dot 함수로 수행\n",
    "\n",
    "\n",
    "※ 단위 행렬이 가지는 의미 : 선형대수학에서는 행렬의 곱셈을 정의할 때, 단위 행렬을 곱해도 결과 행렬이 변하지 않는다는 의미로 사용"
   ]
  },
  {
   "cell_type": "code",
   "execution_count": 2,
   "id": "47386f789e1055d4",
   "metadata": {
    "ExecuteTime": {
     "end_time": "2024-01-29T07:39:57.071203600Z",
     "start_time": "2024-01-29T07:39:57.033454800Z"
    }
   },
   "outputs": [
    {
     "name": "stdout",
     "output_type": "stream",
     "text": [
      "140\n",
      "140\n",
      "[[ 0  1  2]\n",
      " [10 11 12]\n",
      " [20 21 22]\n",
      " [30 21 32]]\n",
      "[0 1 2]\n",
      "[ 5 35 65 85]\n",
      "mat2: transposed\n",
      "[[ 0 10 20 30]\n",
      " [ 1 11 21 21]\n",
      " [ 2 12 22 32]]\n",
      "\n",
      "[[   5   35   65   85]\n",
      " [  35  365  695  915]\n",
      " [  65  695 1325 1745]\n",
      " [  85  915 1745 2365]]\n",
      "\n",
      "[arr]:\n",
      "[[1 2 3]\n",
      " [4 5 6]\n",
      " [7 8 9]]\n",
      "arr * one:\n",
      " [[1. 2. 3.]\n",
      " [4. 5. 6.]\n",
      " [7. 8. 9.]]\n"
     ]
    }
   ],
   "source": [
    "import numpy as np\n",
    "\n",
    "# 벡터와 벡터의 내적\n",
    "arr1 = np.array([1, 2, 3])\n",
    "arr2 = np.array([10, 20, 30])\n",
    "print(arr1.dot(arr2))\n",
    "print(np.dot(arr1, arr2))\n",
    "\n",
    "# 매트릭스와 벡터의 내적\n",
    "mat = np.array([\n",
    "    [0, 1, 2],\n",
    "    [10, 11, 12],\n",
    "    [20, 21, 22],\n",
    "    [30, 21, 32]\n",
    "])\n",
    "vec = np.array([0, 1, 2])\n",
    "\n",
    "print(mat)\n",
    "print(vec)\n",
    "\n",
    "result = mat.dot(vec)\n",
    "print(result)\n",
    "\n",
    "# 매트릭스와 매트릭스의 내적\n",
    "mat2 = np.array([\n",
    "    [0, 1, 2],\n",
    "    [10, 11, 12],\n",
    "    [20, 21, 22],\n",
    "    [30, 21, 32]\n",
    "])\n",
    "mat2 = mat2.transpose() # 해줘야 한다. Why?\n",
    "print(\"mat2: transposed\")\n",
    "print(mat2)\n",
    "result = mat.dot(mat2)\n",
    "print()\n",
    "print(result)\n",
    "\n",
    "# 단위행렬의 의미: 곱해도 결과가 변하지 않는 행렬\n",
    "\n",
    "arr = np.array([\n",
    "    [1, 2, 3],\n",
    "    [4, 5, 6],\n",
    "    [7, 8, 9]\n",
    "])\n",
    "print(\"\\n[arr]:\", arr, sep=\"\\n\")\n",
    "print(\"arr * one:\\n\", np.dot(arr, np.eye(3)))"
   ]
  },
  {
   "cell_type": "markdown",
   "id": "696c232cb38ddc57",
   "metadata": {},
   "source": [
    "### 넘파이 함수 활용\n",
    "- sum : 합계\n",
    "- mean : 산술통계\n",
    "- median : 중앙값\n",
    "- min : 최솟값\n",
    "- max : 최댓값\n",
    "- var : 분산\n",
    "- std : 표준편자"
   ]
  },
  {
   "cell_type": "code",
   "execution_count": 5,
   "id": "639f206eae6013a9",
   "metadata": {
    "ExecuteTime": {
     "end_time": "2024-01-29T07:39:57.158103300Z",
     "start_time": "2024-01-29T07:39:57.059596100Z"
    }
   },
   "outputs": [
    {
     "name": "stdout",
     "output_type": "stream",
     "text": [
      "합계: 150\n",
      "평균: 30.0\n",
      "최솟값: 10\n",
      "최댓값: 50\n",
      "편차의 목록: [-20.0, -10.0, 0.0, 10.0, 20.0]\n",
      "편차의 제곱: [400.0, 100.0, 0.0, 100.0, 400.0]\n",
      "분산: 200.0\n",
      "표준편차: 14.142135623730951\n",
      "SUM: 192 192\n",
      "MEAN: 16.0\n",
      "MEDIAN: 16.0\n",
      "MIN: 0\n",
      "MAX: 32\n",
      "VAR: 125.66666666666667\n",
      "STD: 11.210114480533491\n"
     ]
    }
   ],
   "source": [
    "import numpy as np\n",
    "\n",
    "# 파이썬 기본 자료형의 통계치\n",
    "lst = [10, 20, 30, 40, 50]\n",
    "print(\"합계:\", sum(lst))\n",
    "print(\"평균:\", sum(lst) / len(lst))\n",
    "print(\"최솟값:\", min(lst))\n",
    "print(\"최댓값:\", max(lst))\n",
    "# 이건 보너스\n",
    "## 분산 구하기\n",
    "## 1. 평균을 구한다\n",
    "avg = sum(lst) / len(lst)\n",
    "### 2. 각 데이터들의 편차 목록\n",
    "diffs = [n - avg for n in lst]\n",
    "print(\"편차의 목록:\", diffs)\n",
    "### 3. 편차 제곱의 평균 -> 분산\n",
    "dsquares = [n ** 2 for n in diffs]\n",
    "print(\"편차의 제곱:\", dsquares)\n",
    "var = sum(dsquares) / len(dsquares)\n",
    "print(\"분산:\", var)\n",
    "### 4. 표준 편차 : 분산의 제곱근\n",
    "import math\n",
    "print(\"표준편차:\", math.sqrt(var))\n",
    "\n",
    "# 넘파이 배열의 통계 함수\n",
    "arr = np.array([\n",
    "    [0, 1, 2],\n",
    "    [10, 11, 12],\n",
    "    [20, 21, 22],\n",
    "    [30, 31, 32]\n",
    "])\n",
    "\n",
    "print(\"SUM:\", arr.sum(), np.sum(arr))\n",
    "print(\"MEAN:\", arr.mean())  # 192 / 12\n",
    "print(\"MEDIAN:\", np.median(arr))\n",
    "print(\"MIN:\", arr.min())\n",
    "print(\"MAX:\", arr.max())\n",
    "print(\"VAR:\", arr.var())\n",
    "print(\"STD:\", arr.std())"
   ]
  },
  {
   "cell_type": "markdown",
   "id": "948ae0d0b94f73a8",
   "metadata": {},
   "source": [
    "#### 축(AXIS)의 이해\n",
    "- 행별 통계, 열별 통계 등을 구하려면 axis 매개변수를 이해해야 함"
   ]
  },
  {
   "cell_type": "code",
   "execution_count": 6,
   "id": "e8cd71c1efdb98ea",
   "metadata": {
    "ExecuteTime": {
     "end_time": "2024-01-29T07:39:57.178436300Z",
     "start_time": "2024-01-29T07:39:57.072203500Z"
    }
   },
   "outputs": [
    {
     "name": "stdout",
     "output_type": "stream",
     "text": [
      "[60 64 68]\n",
      "[ 3 33 63 93]\n",
      "\n",
      "matrix\n",
      "[[[  0   1   2]\n",
      "  [ 10  11  12]\n",
      "  [ 20  21  22]\n",
      "  [ 30  31  32]]\n",
      "\n",
      " [[100 101 102]\n",
      "  [110 111 112]\n",
      "  [120 121 122]\n",
      "  [130 131 132]]]\n",
      "\n",
      "[[100 102 104]\n",
      " [120 122 124]\n",
      " [140 142 144]\n",
      " [160 162 164]]\n"
     ]
    }
   ],
   "source": [
    "import numpy as np\n",
    "\n",
    "arr = np.array([\n",
    "    [0, 1, 2],\n",
    "    [10, 11, 12],\n",
    "    [20, 21, 22],\n",
    "    [30, 31, 32]\n",
    "])\n",
    "\n",
    "print(arr.sum(axis=0))  # 열별 합계\n",
    "print(arr.sum(axis=1))  # 행별 합계\n",
    "\n",
    "arr2 = np.array([\n",
    "    [\n",
    "        [0, 1, 2],\n",
    "        [10, 11, 12],\n",
    "        [20, 21, 22],\n",
    "        [30, 31, 32]\n",
    "    ],\n",
    "    [\n",
    "        [100, 101, 102],\n",
    "         [110, 111, 112],\n",
    "         [120, 121, 122],\n",
    "         [130, 131, 132]\n",
    "    ]\n",
    "])\n",
    "\n",
    "print(\"\\nmatrix\")\n",
    "print(arr2)\n",
    "print()\n",
    "print(arr2.sum(axis=0))"
   ]
  },
  {
   "cell_type": "markdown",
   "id": "df93d532ab3e3eec",
   "metadata": {},
   "source": [
    "### 배열의 변형\n",
    "- reshape : 배열의 모양(Shape)을 변경\n",
    "- resize : 배열의 모양(Shape)을 변경\n",
    "    - reshape와 다르게 원본 배열을 변경\n",
    "- flatten : 다차원 배열을 1차원으로 펼침\n",
    "- ravel : 다차원 배열을 1차원으로 펼침\n",
    "    - flatten와 유사하나 원본 배열과 공유 메모리를 사용하기 때문에 효율적\n",
    "- transpose : 전치 행렬\n",
    "    - 행과 열을 바꾸는 작업\n",
    "    - T 속성으로도 전치 행렬을 구할 수 있음"
   ]
  },
  {
   "cell_type": "code",
   "execution_count": 7,
   "id": "9f242cfc8e1bbbb8",
   "metadata": {
    "ExecuteTime": {
     "end_time": "2024-01-29T07:39:57.180446300Z",
     "start_time": "2024-01-29T07:39:57.084557600Z"
    }
   },
   "outputs": [
    {
     "name": "stdout",
     "output_type": "stream",
     "text": [
      "[원본배열]\n",
      "[1 2 3 4 5 6]\n",
      "형상: (6,)\n",
      "차원: 1\n",
      "[reshaped: (3, 2)]\n",
      "[[1 2]\n",
      " [3 4]\n",
      " [5 6]]\n",
      "[1 2 3 4 5 6]\n",
      "[resize: (3, 2)]\n",
      "None\n",
      "[[1 2]\n",
      " [3 4]\n",
      " [5 6]]\n",
      "[flatten]\n",
      "[1 2 3 4 5 6]\n",
      "[[1 2]\n",
      " [3 4]\n",
      " [5 6]]\n",
      "[ravel]\n",
      "[1 2 3 4 5 6]\n",
      "[  1   2   3 100   5   6]\n",
      "[[1 4]\n",
      " [2 5]\n",
      " [3 6]]\n"
     ]
    }
   ],
   "source": [
    "import numpy as np\n",
    "\n",
    "arr = np.array([1, 2, 3, 4, 5, 6])\n",
    "print(\"[원본배열]\")\n",
    "print(arr)\n",
    "\n",
    "print(\"형상:\", arr.shape)\n",
    "print(\"차원:\", arr.ndim)\n",
    "\n",
    "# reshape\n",
    "print(\"[reshaped: (3, 2)]\")\n",
    "print(arr.reshape(3, 2))\n",
    "print(arr)  # 원본은 보존됨\n",
    "\n",
    "# resize\n",
    "print(\"[resize: (3, 2)]\")\n",
    "print(arr.resize(3, 2))\n",
    "print(arr)  # 원본이 변경됨\n",
    "\n",
    "# flatten\n",
    "print(\"[flatten]\")\n",
    "print(arr.flatten())\n",
    "print(arr)\n",
    "\n",
    "# ravel\n",
    "print(\"[ravel]\")\n",
    "raveled = arr.ravel()\n",
    "print(raveled)\n",
    "arr[1,1] = 100\n",
    "print(raveled)\n",
    "\n",
    "# transpose\n",
    "arr = np.array([[1, 2, 3], [4, 5, 6]])\n",
    "transposed_arr = arr.transpose()\n",
    "print(transposed_arr)"
   ]
  },
  {
   "cell_type": "markdown",
   "id": "96191a833b3351ea",
   "metadata": {},
   "source": [
    "### 배열의 병합과 분할\n",
    "- 배열의 병합\n",
    "    - concatenate : 배열의 병합\n",
    "    - vstack : 배열을 수직 방향으로 쌓아 올림\n",
    "    - hstack : 배열을 수평 방향으로 옆으로 붙임"
   ]
  },
  {
   "cell_type": "code",
   "execution_count": 8,
   "id": "20fefc85f7462eba",
   "metadata": {
    "ExecuteTime": {
     "end_time": "2024-01-29T07:39:57.283217500Z",
     "start_time": "2024-01-29T07:39:57.091959500Z"
    }
   },
   "outputs": [
    {
     "name": "stdout",
     "output_type": "stream",
     "text": [
      "arr1: [1 2 3]\n",
      "arr2: [4 5 6]\n",
      "concatenate: [1 2 3 4 5 6]\n",
      "arr1:\n",
      "[[1 2]\n",
      " [3 4]]\n",
      "arr2:\n",
      "[[5 6]]\n",
      "vstack:\n",
      "[[1 2]\n",
      " [3 4]\n",
      " [5 6]]\n",
      "hstack:\n",
      "[[1 2 5]\n",
      " [3 4 6]]\n"
     ]
    }
   ],
   "source": [
    "import numpy as np\n",
    "\n",
    "arr1 = np.array([1, 2, 3])\n",
    "arr2 = np.array([4, 5, 6])\n",
    "print(\"arr1:\", arr1)\n",
    "print(\"arr2:\", arr2)\n",
    "\n",
    "# concatenate\n",
    "combined_arr = np.concatenate([arr1, arr2])\n",
    "print(\"concatenate:\", combined_arr)\n",
    "\n",
    "# vstack\n",
    "arr1 = np.array([[1, 2], [3, 4]])\n",
    "arr2 = np.array([[5, 6]])\n",
    "print(\"arr1:\", arr1, sep=\"\\n\")\n",
    "print(\"arr2:\", arr2, sep=\"\\n\")\n",
    "\n",
    "print(\"vstack:\", np.vstack([arr1, arr2]), sep=\"\\n\")\n",
    "\n",
    "# hstack\n",
    "# print(\"hstack:\", np.hstack([arr1, arr2]), sep=\"\\n\") # error... why?\n",
    "print(\"hstack:\", np.hstack([arr1, arr2.T]), sep=\"\\n\")"
   ]
  },
  {
   "cell_type": "markdown",
   "id": "b532af3442ff9e52",
   "metadata": {},
   "source": [
    "- 배열의 분할\n",
    "    - split : 배열을 주어진 인덱스 또는 개수를 기준으로 분할\n",
    "    - vsplit : 배열을 수직 방향으로 분할\n",
    "    - hsplit : 배열을 수평 방향으로 분할"
   ]
  },
  {
   "cell_type": "code",
   "execution_count": 9,
   "id": "5bb5f571a155e908",
   "metadata": {
    "ExecuteTime": {
     "end_time": "2024-01-29T07:39:57.285246Z",
     "start_time": "2024-01-29T07:39:57.103833600Z"
    }
   },
   "outputs": [
    {
     "name": "stdout",
     "output_type": "stream",
     "text": [
      "[array([1, 2]), array([3, 4]), array([5, 6])]\n",
      "arr:\n",
      "[[1 2]\n",
      " [3 4]\n",
      " [5 6]]\n",
      "vsplit:\n",
      "[array([[1, 2]]), array([[3, 4]]), array([[5, 6]])]\n",
      "arr:\n",
      "[[1 2 3]\n",
      " [4 5 6]]\n",
      "hsplit:\n",
      "[array([[1],\n",
      "       [4]]), array([[2],\n",
      "       [5]]), array([[3],\n",
      "       [6]])]\n"
     ]
    }
   ],
   "source": [
    "import numpy as np\n",
    "\n",
    "# split\n",
    "arr = np.array([1, 2, 3, 4, 5, 6])\n",
    "split_arrs = np.split(arr, 3)\n",
    "print(split_arrs)\n",
    "\n",
    "# vsplit\n",
    "arr = np.array([[1, 2], [3, 4], [5, 6]])\n",
    "print(\"arr:\", arr, sep=\"\\n\")\n",
    "split_arrs = np.vsplit(arr, 3)\n",
    "print(\"vsplit:\", split_arrs, sep=\"\\n\")\n",
    "\n",
    "# hsplit\n",
    "arr = np.array([[1, 2, 3], [4, 5, 6]])\n",
    "print(\"arr:\", arr, sep=\"\\n\")\n",
    "split_arrs = np.hsplit(arr, 3)\n",
    "print(\"hsplit:\", split_arrs, sep=\"\\n\")"
   ]
  },
  {
   "cell_type": "markdown",
   "id": "49690d878a480a26",
   "metadata": {},
   "source": [
    "### 배열의 복제\n",
    "- 얕은 복제 : 원본 배열과 공유 메모리를 사용\n",
    "    - view : 원본 배열과 메모리를 공유하면서 새로운 ndarray 객체를 생성\n",
    "    - slice : 원본 배열의 일부를 가리키는 별칭 생성"
   ]
  },
  {
   "cell_type": "code",
   "execution_count": 10,
   "id": "34d113510a589d8b",
   "metadata": {
    "ExecuteTime": {
     "end_time": "2024-01-29T07:39:57.286226900Z",
     "start_time": "2024-01-29T07:39:57.119295300Z"
    }
   },
   "outputs": [
    {
     "name": "stdout",
     "output_type": "stream",
     "text": [
      "origin_arr: [1 2 3 4 5]\n",
      "원본: [1 2 3 4 5]\n",
      "복제: [1 2 3 4 5]\n",
      "원본: [100   2   3   4   5]\n",
      "복제: [100   2   3   4   5]\n"
     ]
    }
   ],
   "source": [
    "import numpy as np\n",
    "\n",
    "origin_arr = np.array([1, 2, 3, 4, 5])\n",
    "print(\"origin_arr:\", origin_arr)\n",
    "\n",
    "# 얕은 복사\n",
    "shallow_copy = origin_arr.view()\n",
    "\n",
    "# 배열 내용 출력\n",
    "print(\"원본:\", origin_arr)\n",
    "print(\"복제:\", shallow_copy)\n",
    "\n",
    "shallow_copy[0] = 100\n",
    "\n",
    "print(\"원본:\", origin_arr)\n",
    "print(\"복제:\", shallow_copy)"
   ]
  },
  {
   "cell_type": "markdown",
   "id": "32decddd9b6c8f8a",
   "metadata": {},
   "source": [
    "- 깊은 복제 : 원본 배열과 공유 메모리를 사용하지 않음\n",
    "    - copy : 원본 배열과 공유 메모리를 사용하지 않고 새로운 ndarray 객체를 생성"
   ]
  },
  {
   "cell_type": "code",
   "execution_count": 11,
   "id": "65b6b2371f237fef",
   "metadata": {
    "ExecuteTime": {
     "end_time": "2024-01-29T07:39:57.302442400Z",
     "start_time": "2024-01-29T07:39:57.128414800Z"
    }
   },
   "outputs": [
    {
     "name": "stdout",
     "output_type": "stream",
     "text": [
      "[1 2 3 4 5]\n",
      "[1 2 3 4 5]\n",
      "[1 2 3 4 5]\n",
      "[100   2   3   4   5]\n"
     ]
    }
   ],
   "source": [
    "import numpy as np\n",
    "\n",
    "# 원본 배열 생성\n",
    "original_array = np.array([1, 2, 3, 4, 5])\n",
    "\n",
    "# 깊은 복사\n",
    "deep_copy = original_array.copy()\n",
    "\n",
    "# 배열 내용 출력\n",
    "print(original_array)  # [1 2 3 4 5]\n",
    "print(deep_copy)       # [1 2 3 4 5]\n",
    "\n",
    "# 복사된 배열의 첫 번째 요소를 변경\n",
    "deep_copy[0] = 100\n",
    "\n",
    "# 변경 후 배열 내용 출력\n",
    "print(original_array)  # [1 2 3 4 5]\n",
    "print(deep_copy)       # [100 2 3 4 5]"
   ]
  },
  {
   "cell_type": "code",
   "execution_count": 11,
   "id": "d761cd5c175b985f",
   "metadata": {
    "ExecuteTime": {
     "end_time": "2024-01-29T07:39:57.303439300Z",
     "start_time": "2024-01-29T07:39:57.135451900Z"
    }
   },
   "outputs": [],
   "source": []
  }
 ],
 "metadata": {
  "kernelspec": {
   "display_name": "Python 3 (ipykernel)",
   "language": "python",
   "name": "python3"
  },
  "language_info": {
   "codemirror_mode": {
    "name": "ipython",
    "version": 3
   },
   "file_extension": ".py",
   "mimetype": "text/x-python",
   "name": "python",
   "nbconvert_exporter": "python",
   "pygments_lexer": "ipython3",
   "version": "3.10.9"
  }
 },
 "nbformat": 4,
 "nbformat_minor": 5
}
