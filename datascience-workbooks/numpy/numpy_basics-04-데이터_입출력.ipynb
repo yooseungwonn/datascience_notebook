{
 "cells": [
  {
   "cell_type": "markdown",
   "source": [
    "# Numpy\n",
    "-----\n",
    "## 03. 배열 연산과 함수\n",
    "### 텍스트 파일 다루기\n",
    "- savetxt : 배열을 텍스트 파일로 저장\n",
    "- loadtxt : 텍스트 파일을 배열로 불러오기"
   ],
   "metadata": {
    "collapsed": false
   },
   "id": "3737d78451c37260"
  },
  {
   "cell_type": "code",
   "execution_count": 1,
   "outputs": [
    {
     "name": "stdout",
     "output_type": "stream",
     "text": [
      "[[0.56198629 0.93667764 0.09380274]\n",
      " [0.91831709 0.70613658 0.50432116]\n",
      " [0.99216162 0.45446337 0.20375002]\n",
      " [0.48490427 0.06172789 0.19848284]\n",
      " [0.83766151 0.66965416 0.72140103]]\n",
      "[[0.56198629 0.93667764 0.09380274]\n",
      " [0.91831709 0.70613658 0.50432116]\n",
      " [0.99216162 0.45446337 0.20375002]\n",
      " [0.48490427 0.06172789 0.19848284]\n",
      " [0.83766151 0.66965416 0.72140103]]\n"
     ]
    }
   ],
   "source": [
    "import numpy as np\n",
    "\n",
    "data = np.random.rand(5, 3)\n",
    "print(data)\n",
    "\n",
    "# 텍스트  파일로 저장 \n",
    "# np.savetxt('data.txt', data)    # 공백으로 구분\n",
    "np.savetxt('data.txt', data, delimiter=\",\")    # ,로 구분(CSV)\n",
    "# 텍스트 파일을 배열로 불러오기\n",
    "# load_data = np.loadtxt('data.txt')\n",
    "load_data = np.loadtxt('data.txt', delimiter=\",\")\n",
    "print(load_data)"
   ],
   "metadata": {
    "collapsed": false,
    "ExecuteTime": {
     "end_time": "2024-01-29T07:40:50.954990300Z",
     "start_time": "2024-01-29T07:40:50.735705Z"
    }
   },
   "id": "9176b8ca3b49b362"
  },
  {
   "cell_type": "markdown",
   "source": [
    "### 바이너리 파일 다루기\n",
    "- save : 배열을 바이너리 파일로 저장\n",
    "    - 넘파이 배열의 확장자는 .npy\n",
    "- load : 바이너리 파일을 배열로 불러오기\n",
    "\n",
    "※ 바이너리 형식으로 데이터를 저장하고 불러오면 데이터 손실 없이 빠르게 처리할 수 있으므로, 크기가 크고 복잡한 데이터를 다룰 때 특히 유용"
   ],
   "metadata": {
    "collapsed": false
   },
   "id": "767ada7921f26a66"
  },
  {
   "cell_type": "code",
   "execution_count": 5,
   "outputs": [
    {
     "name": "stdout",
     "output_type": "stream",
     "text": [
      "data :\n",
      " [[0.31028259 0.94733507 0.93687383]\n",
      " [0.36586245 0.62353959 0.54098976]\n",
      " [0.62025692 0.31330371 0.34397674]\n",
      " [0.14246396 0.65600572 0.69070346]\n",
      " [0.67251363 0.6363734  0.55643979]]\n",
      "load_data :\n",
      " [[0.31028259 0.94733507 0.93687383]\n",
      " [0.36586245 0.62353959 0.54098976]\n",
      " [0.62025692 0.31330371 0.34397674]\n",
      " [0.14246396 0.65600572 0.69070346]\n",
      " [0.67251363 0.6363734  0.55643979]]\n"
     ]
    }
   ],
   "source": [
    "import numpy as np\n",
    "import os\n",
    "# 가상의 데이터 생성\n",
    "data = np.random.rand(5, 3)\n",
    "print(\"data :\\n\", data)\n",
    "# 데이터를 바이너리 형식으로 저장\n",
    "if not os.path.exists('../generated'):\n",
    "    os.makedirs('../generated')\n",
    "np.save('../generated/data', data)\n",
    "\n",
    "load_data = np.load('../generated/data.npy')\n",
    "print(\"load_data :\\n\", load_data)"
   ],
   "metadata": {
    "collapsed": false,
    "ExecuteTime": {
     "end_time": "2024-01-29T07:44:29.412192Z",
     "start_time": "2024-01-29T07:44:29.378937500Z"
    }
   },
   "id": "db423dbf183e6683"
  },
  {
   "cell_type": "code",
   "execution_count": 2,
   "outputs": [],
   "source": [],
   "metadata": {
    "collapsed": false,
    "ExecuteTime": {
     "end_time": "2024-01-29T07:40:51.017544900Z",
     "start_time": "2024-01-29T07:40:50.976937Z"
    }
   },
   "id": "57c8a0364dafe44b"
  }
 ],
 "metadata": {
  "kernelspec": {
   "display_name": "Python 3",
   "language": "python",
   "name": "python3"
  },
  "language_info": {
   "codemirror_mode": {
    "name": "ipython",
    "version": 2
   },
   "file_extension": ".py",
   "mimetype": "text/x-python",
   "name": "python",
   "nbconvert_exporter": "python",
   "pygments_lexer": "ipython2",
   "version": "2.7.6"
  }
 },
 "nbformat": 4,
 "nbformat_minor": 5
}
