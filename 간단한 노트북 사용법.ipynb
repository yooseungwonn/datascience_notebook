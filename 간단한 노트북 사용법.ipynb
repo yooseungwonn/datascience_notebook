{
 "cells": [
  {
   "cell_type": "markdown",
   "id": "37e03d34",
   "metadata": {},
   "source": [
    "# Heading 1\n",
    "## Heading 2\n",
    "### Heading 3"
   ]
  },
  {
   "cell_type": "markdown",
   "id": "8a05a26f",
   "metadata": {},
   "source": [
    "- level 1\n",
    "    - level 2\n",
    "    - level 2\n",
    "- level 1"
   ]
  },
  {
   "cell_type": "markdown",
   "id": "c7c2ed4a",
   "metadata": {},
   "source": [
    "### 테이블\n",
    "| 컬럼1 | 컬럼2 | 컬럼3 |\n",
    "|------:|------:|------:|\n",
    "| 내용1 | 내용2 | 내용3 |"
   ]
  },
  {
   "cell_type": "markdown",
   "id": "26bfc6d5",
   "metadata": {},
   "source": [
    "a = 10 + 20"
   ]
  },
  {
   "cell_type": "markdown",
   "id": "32367c2b",
   "metadata": {},
   "source": [
    "a"
   ]
  },
  {
   "cell_type": "code",
   "execution_count": null,
   "id": "05227f83",
   "metadata": {},
   "outputs": [],
   "source": []
  }
 ],
 "metadata": {
  "kernelspec": {
   "display_name": "Python 3 (ipykernel)",
   "language": "python",
   "name": "python3"
  },
  "language_info": {
   "codemirror_mode": {
    "name": "ipython",
    "version": 3
   },
   "file_extension": ".py",
   "mimetype": "text/x-python",
   "name": "python",
   "nbconvert_exporter": "python",
   "pygments_lexer": "ipython3",
   "version": "3.10.9"
  }
 },
 "nbformat": 4,
 "nbformat_minor": 5
}
