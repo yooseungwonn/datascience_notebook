{
 "cells": [
  {
   "cell_type": "markdown",
   "id": "60431dea638205c7",
   "metadata": {},
   "source": [
    "# 파이썬 평가 노트북\n",
    "## 과정명 : [산대특] AI 모델 서빙 활용 자바 풀스택 개발자 양성과정\n",
    "### 수강생 이름 : 유승원"
   ]
  },
  {
   "cell_type": "markdown",
   "id": "121cc9142c36c34a",
   "metadata": {},
   "source": [
    "### Q1. **두 개의 정수**를 전달받아 두 정수를 더하는 함수 add()를 완성하십시오\n"
   ]
  },
  {
   "cell_type": "code",
   "execution_count": null,
   "id": "a75403223a05951",
   "metadata": {},
   "outputs": [],
   "source": [
    "# 여기에 함수 add()를 완성하십시오\n",
    "\n",
    "\n"
   ]
  },
  {
   "cell_type": "markdown",
   "id": "d6c232f41d96b2d4",
   "metadata": {},
   "source": [
    "### Q2. 매개 변수로 리스트가 주어졌을 때, 가장 마지막 요소를 반환하는 함수를 완성하십시오\n",
    "**[출력 예시]**\n",
    "```\n",
    "4\n",
    "short\n",
    "```"
   ]
  },
  {
   "cell_type": "code",
   "execution_count": null,
   "id": "a0f3d6a9f7c39465",
   "metadata": {},
   "outputs": [],
   "source": [
    "from typing import Any\n",
    "def last_element(lst: list) -> Any:\n",
    "    # 여기에 코드를 작성하십시오\n",
    "    pass\n",
    "\n",
    "# 아래는 검증 코드입니다.\n",
    "print(last_element([1, 2, 3, 4])) # 예상 출력 : 4\n",
    "print(last_element([\"Life\", \"is\", \"too\", \"short\"])) # 예상 출력 : short"
   ]
  },
  {
   "cell_type": "markdown",
   "id": "54c94faeb8b430f0",
   "metadata": {},
   "source": [
    "### Q3. 매개 변수로 정수가 주어졌을 때, 해당 정수가 **짝수**인지 **홀수**인지 판별하는 함수를 완성하십시오\n",
    "**[출력 예시]**\n",
    "```\n",
    "3 은 홀수 입니다\n",
    "4 는 짝수 입니다\n",
    "```"
   ]
  },
  {
   "cell_type": "code",
   "execution_count": null,
   "id": "fe2f91649462262a",
   "metadata": {},
   "outputs": [],
   "source": [
    "def even_or_odd(n: int) -> str:\n",
    "    # 여기에 코드를 작성하십시오\n",
    "    pass\n",
    "\n",
    "\n",
    "# 아래는 검증 코드입니다.\n",
    "print(3, \"은\", even_or_odd(3), \"입니다\") # 예상 출력 : 홀수\n",
    "print(4, \"는\", even_or_odd(4), \"입니다\") # 예상 출력 : 짝수"
   ]
  },
  {
   "cell_type": "markdown",
   "id": "2e6aa0c169ac13fe",
   "metadata": {},
   "source": [
    "### Q4. **두 개의 정수**와 **한 개의 함수**를 전달 받아 두 정수를 전달 받은 함수로 계산하는 함수를 완성하시오\n",
    "**[주의 사항]**\n",
    "- 전달받은 인자 func가 함수가 아닌 경우 None을 반환해야 합니다.\n",
    "\n",
    "**[출력 예시]**\n",
    "```\n",
    "3 + 4 = 7\n",
    "7 - 3 = 4\n",
    "7 - 3 = None\n",
    "```\n"
   ]
  },
  {
   "cell_type": "code",
   "execution_count": null,
   "id": "330a9394e4d4333c",
   "metadata": {},
   "outputs": [],
   "source": [
    "from typing import Union\n",
    "def calc(a: int, b: int, func) -> Union[int, None]:\n",
    "    # 여기에 코드를 작성하십시오\n",
    "    pass\n",
    "\n",
    "    \n",
    "# 아래는 검증 코드입니다.\n",
    "print(\"3 + 4 =\", calc(3, 4, lambda a, b: a + b)) # 예상 출력 : 7\n",
    "print(\"7 - 3 =\", calc(7, 3, lambda a, b: a - b)) # 예상 출력 : 4\n",
    "print(\"7 - 3 =\", calc(7, 3, 10)) # 예상 출력 : None"
   ]
  },
  {
   "cell_type": "markdown",
   "id": "2b9e37a6e527f153",
   "metadata": {},
   "source": [
    "### Q5. 매개변수로 주어진 **리스트** 내의 모든 요소를 곱한 결과를 반환하는 함수를 완성하십시오\n",
    "**[출력 예시]**\n",
    "```\n",
    "3 * 4 * 5 = 60\n",
    "4 * 8 * 7 * 3 * 2 = 1344\n",
    "```"
   ]
  },
  {
   "cell_type": "code",
   "execution_count": null,
   "id": "da81c9b75d5532d5",
   "metadata": {},
   "outputs": [],
   "source": [
    "def multiply_list(lst: list) -> int:\n",
    "    # 여기에 코드를 작성하십시오\n",
    "    pass\n",
    "\n",
    "# 아래는 검증 코드입니다.\n",
    "print(\"3 * 4 * 5 =\", multiply_list([3, 4, 5])) # 예상 출력 : 60\n",
    "print(\"4 * 8 * 7 * 3 * 2 =\", multiply_list([4, 8, 7, 3, 2])) # 예상 출력 : 1344"
   ]
  },
  {
   "cell_type": "markdown",
   "id": "1f1219498c5d09f0",
   "metadata": {},
   "source": [
    "### Q6. 매개 변수로 **문자열**이 주어졌을 때, 각 **단어의 빈도**를 저장한 **사전**을 반환하는 함수를 완성하십시오\n",
    "**[출력 예시]**\n",
    "```\n",
    "{'she': 1, 'loves': 2, 'her': 1, 'cat,': 1, 'and': 1, 'the': 1, 'cat': 1, 'her.': 1}\n",
    "{'the': 2, 'book': 2, 'is': 1, 'on': 1, 'shelf.': 1}\n",
    "```"
   ]
  },
  {
   "cell_type": "code",
   "execution_count": null,
   "id": "a3a9e33d77106859",
   "metadata": {},
   "outputs": [],
   "source": [
    "def word_frequency(s: str) -> dict:\n",
    "    # 여기에 코드를 작성하십시오\n",
    "    pass\n",
    "\n",
    "\n",
    "# 아래는 검증 코드입니다.\n",
    "print(word_frequency(\"She loves her cat, and the cat loves her.\")) \n",
    "# 예상 출력: {'she': 1, 'loves': 2, 'her': 2, 'cat,': 1, 'and': 1, 'the': 1, 'cat': 1}\n",
    "print(word_frequency(\"The book is on the book shelf.\"))\n",
    "# 예상 출력: {'the': 2, 'book': 2, 'is': 1, 'on': 1, 'shelf': 1}"
   ]
  },
  {
   "cell_type": "markdown",
   "id": "5b75b8794c650568",
   "metadata": {},
   "source": [
    "### Q7. 매개 변수로 주어진 **문자열**에 **총 몇 개의 알파벳**이 사용되었는지 판별하는 함수를 완성하십시오.\n",
    "**[출력 예시]**\n",
    "```\n",
    "14\n",
    "12\n",
    "```"
   ]
  },
  {
   "cell_type": "code",
   "execution_count": null,
   "id": "6d0805afc208214e",
   "metadata": {},
   "outputs": [],
   "source": [
    "def count_alphabet(s: str) -> int:\n",
    "    # 여기에 코드를 작성하십시오\n",
    "    pass\n",
    "\n",
    "# 아래는 검증 코드입니다.\n",
    "print(count_alphabet(\"She loves her cat, and the cat loves her.\")) # 예상 출력 : 14\n",
    "print(count_alphabet(\"The book is on the book shelf.\")) # 예상 출력 : 12"
   ]
  },
  {
   "cell_type": "markdown",
   "id": "1c31d4e074c23057",
   "metadata": {},
   "source": [
    "### Q8. 매개 변수로 주어진 **날짜**에 1000일 후의 날짜를 반환하는 함수를 완성하십시오\n",
    "**[출력 예시]**\n",
    "```\n",
    "1948-05-11\n",
    "2002-09-26\n",
    "```\n"
   ]
  },
  {
   "cell_type": "code",
   "execution_count": null,
   "id": "826f2551f1902430",
   "metadata": {},
   "outputs": [],
   "source": [
    "from datetime import datetime, date, time, timedelta\n",
    "def after_1000_days(dt: date) -> date:\n",
    "    pass\n",
    "\n",
    "\n",
    "# 아래는 검증 코드입니다.\n",
    "print(after_1000_days(date(1945, 8, 15)))\n",
    "print(after_1000_days(date(1999, 12, 31)))# 예상 출력 : 1948-05-12 00:00:00"
   ]
  },
  {
   "cell_type": "markdown",
   "id": "1d8ba342633ad64b",
   "metadata": {},
   "source": [
    "### Q9. 매개 변수로 주어진 **문자열**을 **뒤집어서** 반환하는 함수를 완성하십시오.\n",
    "**[출력 예시]**\n",
    "```\n",
    ".reh sevol tac eht dna ,tac reh sevol ehS\n",
    ".flehs koob eht no si koob ehT\n",
    "```"
   ]
  },
  {
   "cell_type": "code",
   "execution_count": null,
   "id": "5986bbf58dc2d03",
   "metadata": {},
   "outputs": [],
   "source": [
    "def reverse_string(s: str) -> str:\n",
    "    # 여기에 코드를 작성하십시오\n",
    "    pass\n",
    "\n",
    "\n",
    "# 아래는 검증 코드입니다.\n",
    "print(reverse_string(\"She loves her cat, and the cat loves her.\")) \n",
    "# 예상 출력: .reh sevol tac eht dna ,tac rehtsevol ehS\n",
    "print(reverse_string(\"The book is on the book shelf.\"))\n",
    "# 예상 출력: .flehs koob eht no si koob ehT"
   ]
  },
  {
   "cell_type": "markdown",
   "id": "7bae2631e5ce5e70",
   "metadata": {},
   "source": [
    "### Q10. 클래스 Rectangle이 있습니다. 이 클래스는 너비(width)와 높이(height)를 인스턴스 변수로 가집니다. 이 클래스는 면적(width * height)으로 크기를 비교합니다. 이 클래스의 ==, != 연산자를 오버라이딩하여 클래스를 완성해 주십시오\n",
    "**[출력 예시]**\n",
    "```\n",
    "r1 == r2 ? True\n",
    "r1 != r2 ? False\n",
    "r1 == r3 ? False\n",
    "r1 != r3 ? True\n",
    "```\n"
   ]
  },
  {
   "cell_type": "code",
   "execution_count": null,
   "id": "78b2d56c938ea14",
   "metadata": {},
   "outputs": [],
   "source": [
    "class Rectangle:\n",
    "    def __init__(self, width: int, height: int):\n",
    "        self.width = width\n",
    "        self.height = height\n",
    "\n",
    "    def get_area(self):\n",
    "        return self.width * self.height\n",
    "    \n",
    "    def __eq__(self, other):\n",
    "        # 여기에 코드를 작성하십시오\n",
    "        pass\n",
    "\n",
    "    def __ne__(self, other):\n",
    "        # 여기에 코드를 작성하십시오\n",
    "        pass\n",
    "    \n",
    "# 아래는 검증 코드입니다.\n",
    "r1 = Rectangle(3, 4)\n",
    "r2 = Rectangle(4, 3)\n",
    "r3 = Rectangle(3, 3)\n",
    "print(\"r1 == r2 ?\", r1 == r2) # 예상 출력 : True\n",
    "print(\"r1 != r2 ?\", r1 != r2) # 예상 출력 : False\n",
    "print(\"r1 == r3 ?\", r1 == r3) # 예상 출력 : False\n",
    "print(\"r1 != r3 ?\", r1 != r3) # 예상 출력 : True"
   ]
  }
 ],
 "metadata": {
  "kernelspec": {
   "display_name": "Python 3 (ipykernel)",
   "language": "python",
   "name": "python3"
  },
  "language_info": {
   "codemirror_mode": {
    "name": "ipython",
    "version": 3
   },
   "file_extension": ".py",
   "mimetype": "text/x-python",
   "name": "python",
   "nbconvert_exporter": "python",
   "pygments_lexer": "ipython3",
   "version": "3.10.9"
  }
 },
 "nbformat": 4,
 "nbformat_minor": 5
}
