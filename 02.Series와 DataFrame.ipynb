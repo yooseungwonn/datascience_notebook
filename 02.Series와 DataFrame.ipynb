{
 "cells": [
  {
   "cell_type": "code",
   "execution_count": 1,
   "id": "cf5cf364",
   "metadata": {},
   "outputs": [
    {
     "data": {
      "text/plain": [
       "0    홍길동\n",
       "1     28\n",
       "dtype: object"
      ]
     },
     "execution_count": 1,
     "metadata": {},
     "output_type": "execute_result"
    }
   ],
   "source": [
    "# Series 데이터 타입 : 동일 자료형을 가지는 1차원 데이터\n",
    "# Series가 모여서 DataFrame을 구성\n",
    "\n",
    "# 리스트 자료를 Series 클래스에 전달해서 생성\n",
    "import pandas as pd\n",
    "s = pd.Series([\"홍길동\", 28])\n",
    "s\n",
    "# 인덱스를 별도로 부여하지 않으면 0부터 자동으로 부여"
   ]
  },
  {
   "cell_type": "code",
   "execution_count": 3,
   "id": "84cb7ae7",
   "metadata": {},
   "outputs": [
    {
     "data": {
      "text/plain": [
       "Name    홍길동\n",
       "Age      28\n",
       "dtype: object"
      ]
     },
     "execution_count": 3,
     "metadata": {},
     "output_type": "execute_result"
    }
   ],
   "source": [
    "# 인덱스를 부여하고자 한다면 index 매개변수에 인덱스 목록을 제공\n",
    "s = pd.Series([\"홍길동\", 28],\n",
    "                index=[\"Name\", \"Age\"])\n",
    "s"
   ]
  },
  {
   "cell_type": "code",
   "execution_count": 4,
   "id": "211677a0",
   "metadata": {},
   "outputs": [
    {
     "data": {
      "text/plain": [
       "('홍길동', 28)"
      ]
     },
     "execution_count": 4,
     "metadata": {},
     "output_type": "execute_result"
    }
   ],
   "source": [
    "# 시리즈에서 데이터를 추출할 때, 인덱스 접근\n",
    "s['Name'], s['Age']"
   ]
  },
  {
   "cell_type": "code",
   "execution_count": 5,
   "id": "184b9d62",
   "metadata": {},
   "outputs": [
    {
     "data": {
      "text/plain": [
       "Index(['Name', 'Age'], dtype='object')"
      ]
     },
     "execution_count": 5,
     "metadata": {},
     "output_type": "execute_result"
    }
   ],
   "source": [
    "s.index"
   ]
  },
  {
   "cell_type": "code",
   "execution_count": 6,
   "id": "d3beeda9",
   "metadata": {},
   "outputs": [
    {
     "data": {
      "text/plain": [
       "0       0\n",
       "1       2\n",
       "2       4\n",
       "3       6\n",
       "4       8\n",
       "5      10\n",
       "6      12\n",
       "7      14\n",
       "8      16\n",
       "9      18\n",
       "10     20\n",
       "11     22\n",
       "12     24\n",
       "13     26\n",
       "14     28\n",
       "15     30\n",
       "16     32\n",
       "17     34\n",
       "18     36\n",
       "19     38\n",
       "20     40\n",
       "21     42\n",
       "22     44\n",
       "23     46\n",
       "24     48\n",
       "25     50\n",
       "26     52\n",
       "27     54\n",
       "28     56\n",
       "29     58\n",
       "30     60\n",
       "31     62\n",
       "32     64\n",
       "33     66\n",
       "34     68\n",
       "35     70\n",
       "36     72\n",
       "37     74\n",
       "38     76\n",
       "39     78\n",
       "40     80\n",
       "41     82\n",
       "42     84\n",
       "43     86\n",
       "44     88\n",
       "45     90\n",
       "46     92\n",
       "47     94\n",
       "48     96\n",
       "49     98\n",
       "50    100\n",
       "dtype: int64"
      ]
     },
     "execution_count": 6,
     "metadata": {},
     "output_type": "execute_result"
    }
   ],
   "source": [
    "# range를 이용한 Series 생성\n",
    "# 0부터 100까지 짝수의 Series\n",
    "s2 = pd.Series(range(0, 101, 2))\n",
    "s2"
   ]
  },
  {
   "cell_type": "code",
   "execution_count": 7,
   "id": "0283034b",
   "metadata": {},
   "outputs": [
    {
     "name": "stdout",
     "output_type": "stream",
     "text": [
      "0     80\n",
      "1     75\n",
      "2     90\n",
      "3    100\n",
      "4     65\n",
      "dtype: int64\n"
     ]
    },
    {
     "data": {
      "text/plain": [
       "count      5.000000\n",
       "mean      82.000000\n",
       "std       13.509256\n",
       "min       65.000000\n",
       "25%       75.000000\n",
       "50%       80.000000\n",
       "75%       90.000000\n",
       "max      100.000000\n",
       "dtype: float64"
      ]
     },
     "execution_count": 7,
     "metadata": {},
     "output_type": "execute_result"
    }
   ],
   "source": [
    "# 숫자 데이터로 이루어진 Series라면 기초 통계량을 얻을 수 있음\n",
    "kor_s = pd.Series([80, 75, 90, 100, 65]) # 시리즈 생성\n",
    "print(kor_s)\n",
    "kor_s.describe() # 기초 통계량"
   ]
  },
  {
   "cell_type": "code",
   "execution_count": 8,
   "id": "19279fac",
   "metadata": {},
   "outputs": [
    {
     "name": "stdout",
     "output_type": "stream",
     "text": [
      "65 100\n",
      "82.0 80.0\n",
      "13.509256086106296\n"
     ]
    }
   ],
   "source": [
    "# 통계량 함수\n",
    "print(kor_s.min(), kor_s.max()) # 최소값, 최대값\n",
    "print(kor_s.mean(), kor_s.median()) # 산술평균, 중앙값\n",
    "print(kor_s.std()) # 표준편차"
   ]
  },
  {
   "cell_type": "code",
   "execution_count": 9,
   "id": "57d45d58",
   "metadata": {},
   "outputs": [
    {
     "data": {
      "text/plain": [
       "0    False\n",
       "1    False\n",
       "2    False\n",
       "3     True\n",
       "4    False\n",
       "dtype: bool"
      ]
     },
     "execution_count": 9,
     "metadata": {},
     "output_type": "execute_result"
    }
   ],
   "source": [
    "# isin : 시리즈에 값이 포함되어 있는지 여부를 판별\n",
    "kor_s.isin([100]) # 시리즈에 포함된 값이 있는지 판별"
   ]
  },
  {
   "cell_type": "code",
   "execution_count": 12,
   "id": "21fee230",
   "metadata": {},
   "outputs": [
    {
     "name": "stdout",
     "output_type": "stream",
     "text": [
      "0     1\n",
      "1     5\n",
      "2     8\n",
      "3     4\n",
      "4     6\n",
      "5     1\n",
      "6    10\n",
      "dtype: int64\n",
      "s2 * 2:\n",
      " 0     2\n",
      "1    10\n",
      "2    16\n",
      "3     8\n",
      "4    12\n",
      "5     2\n",
      "6    20\n",
      "dtype: int64\n"
     ]
    }
   ],
   "source": [
    "# 시리즈의 연산\n",
    "s2 = pd.Series([1, 5, 8, 4, 6, 1, 10])\n",
    "print(s2)\n",
    "\n",
    "# 시리즈와 스칼라 데이터의 연산\n",
    "print(\"s2 * 2:\\n\", s2 * 2)"
   ]
  },
  {
   "cell_type": "code",
   "execution_count": 13,
   "id": "f18dcf83",
   "metadata": {},
   "outputs": [
    {
     "data": {
      "text/plain": [
       "0     2\n",
       "1     7\n",
       "2    11\n",
       "3     8\n",
       "4    11\n",
       "5     7\n",
       "6    17\n",
       "dtype: int64"
      ]
     },
     "execution_count": 13,
     "metadata": {},
     "output_type": "execute_result"
    }
   ],
   "source": [
    " # 시리즈와 시리지의 연산\n",
    "s3 = pd.Series([1, 2, 3, 4, 5, 6, 7])\n",
    "s2 + s3"
   ]
  },
  {
   "cell_type": "code",
   "execution_count": 15,
   "id": "d0c7e1a8",
   "metadata": {},
   "outputs": [
    {
     "data": {
      "text/html": [
       "<div>\n",
       "<style scoped>\n",
       "    .dataframe tbody tr th:only-of-type {\n",
       "        vertical-align: middle;\n",
       "    }\n",
       "\n",
       "    .dataframe tbody tr th {\n",
       "        vertical-align: top;\n",
       "    }\n",
       "\n",
       "    .dataframe thead th {\n",
       "        text-align: right;\n",
       "    }\n",
       "</style>\n",
       "<table border=\"1\" class=\"dataframe\">\n",
       "  <thead>\n",
       "    <tr style=\"text-align: right;\">\n",
       "      <th></th>\n",
       "      <th>KOR</th>\n",
       "      <th>ENG</th>\n",
       "      <th>MATH</th>\n",
       "    </tr>\n",
       "  </thead>\n",
       "  <tbody>\n",
       "    <tr>\n",
       "      <th>홍길동</th>\n",
       "      <td>80</td>\n",
       "      <td>90</td>\n",
       "      <td>80</td>\n",
       "    </tr>\n",
       "    <tr>\n",
       "      <th>김철수</th>\n",
       "      <td>90</td>\n",
       "      <td>80</td>\n",
       "      <td>90</td>\n",
       "    </tr>\n",
       "    <tr>\n",
       "      <th>이영희</th>\n",
       "      <td>75</td>\n",
       "      <td>70</td>\n",
       "      <td>85</td>\n",
       "    </tr>\n",
       "  </tbody>\n",
       "</table>\n",
       "</div>"
      ],
      "text/plain": [
       "     KOR  ENG  MATH\n",
       "홍길동   80   90    80\n",
       "김철수   90   80    90\n",
       "이영희   75   70    85"
      ]
     },
     "execution_count": 15,
     "metadata": {},
     "output_type": "execute_result"
    }
   ],
   "source": [
    "# DataFrame\n",
    "# 각 컬럼 데이터가 Series 로 구성된 2차원 테이블 데이터\n",
    "\n",
    "# 데이터 프레임 생성\n",
    "# 각 컬럼을 시리즈로 가지고 있는 딕셔너리를 부여하여 데이터프레임 생성\n",
    "scores_df = pd.DataFrame({\n",
    "    \"KOR\": [80, 90, 75],\n",
    "    \"ENG\": [90, 80, 70],\n",
    "    \"MATH\": [80, 90, 85]\n",
    "}, index=[\"홍길동\", \"김철수\", \"이영희\"])\n",
    "scores_df"
   ]
  },
  {
   "cell_type": "code",
   "execution_count": 16,
   "id": "d361c972",
   "metadata": {},
   "outputs": [
    {
     "data": {
      "text/plain": [
       "Index(['홍길동', '김철수', '이영희'], dtype='object')"
      ]
     },
     "execution_count": 16,
     "metadata": {},
     "output_type": "execute_result"
    }
   ],
   "source": [
    "# 나중에 index를 부여하고자 할 때\n",
    "scores_df.index"
   ]
  },
  {
   "cell_type": "code",
   "execution_count": 17,
   "id": "ac898bca",
   "metadata": {},
   "outputs": [
    {
     "data": {
      "text/html": [
       "<div>\n",
       "<style scoped>\n",
       "    .dataframe tbody tr th:only-of-type {\n",
       "        vertical-align: middle;\n",
       "    }\n",
       "\n",
       "    .dataframe tbody tr th {\n",
       "        vertical-align: top;\n",
       "    }\n",
       "\n",
       "    .dataframe thead th {\n",
       "        text-align: right;\n",
       "    }\n",
       "</style>\n",
       "<table border=\"1\" class=\"dataframe\">\n",
       "  <thead>\n",
       "    <tr style=\"text-align: right;\">\n",
       "      <th></th>\n",
       "      <th>KOR</th>\n",
       "      <th>ENG</th>\n",
       "      <th>MATH</th>\n",
       "      <th>TOTAL</th>\n",
       "    </tr>\n",
       "  </thead>\n",
       "  <tbody>\n",
       "    <tr>\n",
       "      <th>홍길동</th>\n",
       "      <td>80</td>\n",
       "      <td>90</td>\n",
       "      <td>80</td>\n",
       "      <td>250</td>\n",
       "    </tr>\n",
       "    <tr>\n",
       "      <th>김철수</th>\n",
       "      <td>90</td>\n",
       "      <td>80</td>\n",
       "      <td>90</td>\n",
       "      <td>260</td>\n",
       "    </tr>\n",
       "    <tr>\n",
       "      <th>이영희</th>\n",
       "      <td>75</td>\n",
       "      <td>70</td>\n",
       "      <td>85</td>\n",
       "      <td>230</td>\n",
       "    </tr>\n",
       "  </tbody>\n",
       "</table>\n",
       "</div>"
      ],
      "text/plain": [
       "     KOR  ENG  MATH  TOTAL\n",
       "홍길동   80   90    80    250\n",
       "김철수   90   80    90    260\n",
       "이영희   75   70    85    230"
      ]
     },
     "execution_count": 17,
     "metadata": {},
     "output_type": "execute_result"
    }
   ],
   "source": [
    "# 파생변수의 추가\n",
    "scores_df['TOTAL'] = scores_df['KOR'] + scores_df['ENG'] + scores_df['MATH']\n",
    "scores_df"
   ]
  },
  {
   "cell_type": "code",
   "execution_count": 18,
   "id": "2303c762",
   "metadata": {},
   "outputs": [
    {
     "data": {
      "text/html": [
       "<div>\n",
       "<style scoped>\n",
       "    .dataframe tbody tr th:only-of-type {\n",
       "        vertical-align: middle;\n",
       "    }\n",
       "\n",
       "    .dataframe tbody tr th {\n",
       "        vertical-align: top;\n",
       "    }\n",
       "\n",
       "    .dataframe thead th {\n",
       "        text-align: right;\n",
       "    }\n",
       "</style>\n",
       "<table border=\"1\" class=\"dataframe\">\n",
       "  <thead>\n",
       "    <tr style=\"text-align: right;\">\n",
       "      <th></th>\n",
       "      <th>KOR</th>\n",
       "      <th>ENG</th>\n",
       "      <th>MATH</th>\n",
       "      <th>TOTAL</th>\n",
       "      <th>AVERAGE</th>\n",
       "    </tr>\n",
       "  </thead>\n",
       "  <tbody>\n",
       "    <tr>\n",
       "      <th>홍길동</th>\n",
       "      <td>80</td>\n",
       "      <td>90</td>\n",
       "      <td>80</td>\n",
       "      <td>250</td>\n",
       "      <td>83.333333</td>\n",
       "    </tr>\n",
       "    <tr>\n",
       "      <th>김철수</th>\n",
       "      <td>90</td>\n",
       "      <td>80</td>\n",
       "      <td>90</td>\n",
       "      <td>260</td>\n",
       "      <td>86.666667</td>\n",
       "    </tr>\n",
       "    <tr>\n",
       "      <th>이영희</th>\n",
       "      <td>75</td>\n",
       "      <td>70</td>\n",
       "      <td>85</td>\n",
       "      <td>230</td>\n",
       "      <td>76.666667</td>\n",
       "    </tr>\n",
       "  </tbody>\n",
       "</table>\n",
       "</div>"
      ],
      "text/plain": [
       "     KOR  ENG  MATH  TOTAL    AVERAGE\n",
       "홍길동   80   90    80    250  83.333333\n",
       "김철수   90   80    90    260  86.666667\n",
       "이영희   75   70    85    230  76.666667"
      ]
     },
     "execution_count": 18,
     "metadata": {},
     "output_type": "execute_result"
    }
   ],
   "source": [
    "scores_df['AVERAGE'] = scores_df['TOTAL'] / 3 # 시리즈와 스칼라의 연산 -> 브로드캐스팅\n",
    "scores_df"
   ]
  },
  {
   "cell_type": "code",
   "execution_count": 19,
   "id": "82b6f1d1",
   "metadata": {},
   "outputs": [
    {
     "data": {
      "text/plain": [
       "홍길동     True\n",
       "김철수     True\n",
       "이영희    False\n",
       "Name: AVERAGE, dtype: bool"
      ]
     },
     "execution_count": 19,
     "metadata": {},
     "output_type": "execute_result"
    }
   ],
   "source": [
    "# 불린 추출\n",
    "scores_df['AVERAGE'] > 80"
   ]
  },
  {
   "cell_type": "code",
   "execution_count": 20,
   "id": "35b0733b",
   "metadata": {},
   "outputs": [
    {
     "data": {
      "text/html": [
       "<div>\n",
       "<style scoped>\n",
       "    .dataframe tbody tr th:only-of-type {\n",
       "        vertical-align: middle;\n",
       "    }\n",
       "\n",
       "    .dataframe tbody tr th {\n",
       "        vertical-align: top;\n",
       "    }\n",
       "\n",
       "    .dataframe thead th {\n",
       "        text-align: right;\n",
       "    }\n",
       "</style>\n",
       "<table border=\"1\" class=\"dataframe\">\n",
       "  <thead>\n",
       "    <tr style=\"text-align: right;\">\n",
       "      <th></th>\n",
       "      <th>KOR</th>\n",
       "      <th>ENG</th>\n",
       "      <th>MATH</th>\n",
       "      <th>TOTAL</th>\n",
       "      <th>AVERAGE</th>\n",
       "    </tr>\n",
       "  </thead>\n",
       "  <tbody>\n",
       "    <tr>\n",
       "      <th>홍길동</th>\n",
       "      <td>80</td>\n",
       "      <td>90</td>\n",
       "      <td>80</td>\n",
       "      <td>250</td>\n",
       "      <td>83.333333</td>\n",
       "    </tr>\n",
       "    <tr>\n",
       "      <th>김철수</th>\n",
       "      <td>90</td>\n",
       "      <td>80</td>\n",
       "      <td>90</td>\n",
       "      <td>260</td>\n",
       "      <td>86.666667</td>\n",
       "    </tr>\n",
       "  </tbody>\n",
       "</table>\n",
       "</div>"
      ],
      "text/plain": [
       "     KOR  ENG  MATH  TOTAL    AVERAGE\n",
       "홍길동   80   90    80    250  83.333333\n",
       "김철수   90   80    90    260  86.666667"
      ]
     },
     "execution_count": 20,
     "metadata": {},
     "output_type": "execute_result"
    }
   ],
   "source": [
    "scores_df[[True, True, False]]"
   ]
  },
  {
   "cell_type": "code",
   "execution_count": 21,
   "id": "f41dc39d",
   "metadata": {},
   "outputs": [
    {
     "data": {
      "text/html": [
       "<div>\n",
       "<style scoped>\n",
       "    .dataframe tbody tr th:only-of-type {\n",
       "        vertical-align: middle;\n",
       "    }\n",
       "\n",
       "    .dataframe tbody tr th {\n",
       "        vertical-align: top;\n",
       "    }\n",
       "\n",
       "    .dataframe thead th {\n",
       "        text-align: right;\n",
       "    }\n",
       "</style>\n",
       "<table border=\"1\" class=\"dataframe\">\n",
       "  <thead>\n",
       "    <tr style=\"text-align: right;\">\n",
       "      <th></th>\n",
       "      <th>KOR</th>\n",
       "      <th>ENG</th>\n",
       "      <th>MATH</th>\n",
       "      <th>TOTAL</th>\n",
       "      <th>AVERAGE</th>\n",
       "    </tr>\n",
       "  </thead>\n",
       "  <tbody>\n",
       "    <tr>\n",
       "      <th>홍길동</th>\n",
       "      <td>80</td>\n",
       "      <td>90</td>\n",
       "      <td>80</td>\n",
       "      <td>250</td>\n",
       "      <td>83.333333</td>\n",
       "    </tr>\n",
       "    <tr>\n",
       "      <th>김철수</th>\n",
       "      <td>90</td>\n",
       "      <td>80</td>\n",
       "      <td>90</td>\n",
       "      <td>260</td>\n",
       "      <td>86.666667</td>\n",
       "    </tr>\n",
       "  </tbody>\n",
       "</table>\n",
       "</div>"
      ],
      "text/plain": [
       "     KOR  ENG  MATH  TOTAL    AVERAGE\n",
       "홍길동   80   90    80    250  83.333333\n",
       "김철수   90   80    90    260  86.666667"
      ]
     },
     "execution_count": 21,
     "metadata": {},
     "output_type": "execute_result"
    }
   ],
   "source": [
    "# 불린 추출\n",
    "# scores_df에서 AVERAGE가 80점 초과 데이터들만 추출\n",
    "filtered_df = scores_df[scores_df['AVERAGE'] > 80]\n",
    "filtered_df"
   ]
  },
  {
   "cell_type": "code",
   "execution_count": null,
   "id": "8184d9af",
   "metadata": {},
   "outputs": [],
   "source": []
  }
 ],
 "metadata": {
  "kernelspec": {
   "display_name": "Python 3 (ipykernel)",
   "language": "python",
   "name": "python3"
  },
  "language_info": {
   "codemirror_mode": {
    "name": "ipython",
    "version": 3
   },
   "file_extension": ".py",
   "mimetype": "text/x-python",
   "name": "python",
   "nbconvert_exporter": "python",
   "pygments_lexer": "ipython3",
   "version": "3.10.9"
  }
 },
 "nbformat": 4,
 "nbformat_minor": 5
}
