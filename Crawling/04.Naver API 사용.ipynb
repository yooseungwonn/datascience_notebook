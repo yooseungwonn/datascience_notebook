{
 "cells": [
  {
   "cell_type": "code",
   "execution_count": 10,
   "id": "f43d47b3",
   "metadata": {},
   "outputs": [
    {
     "name": "stdout",
     "output_type": "stream",
     "text": [
      "뉴스 검색: 키워드: 코로나\n",
      "=================\n",
      "title: 'K뷰티' 인기폭발, 대구·경북 화장품류 수출 26.1% 증가 @ Mon, 02 Sep 2024 12:14:00 +0900\n",
      "title: 단기물 위주 상승하며 스티프닝 되돌림…3년물 금리, 3%대 목전[채권분... @ Mon, 02 Sep 2024 12:14:00 +0900\n",
      "title: 中소비둔화에 버블티 초저가 경쟁 @ Mon, 02 Sep 2024 12:14:00 +0900\n",
      "title: &quot;동네의원이 고가약을&quot;…품절에 사용량연동제 도마위 @ Mon, 02 Sep 2024 12:14:00 +0900\n",
      "title: 美대선이 만든 진풍경...컨테이너 운송 규모 역대 최고 @ Mon, 02 Sep 2024 12:13:00 +0900\n",
      "title: 이재명, 8일 문재인 예방…검찰 수사 의견 나눌 듯 @ Mon, 02 Sep 2024 12:13:00 +0900\n",
      "title: &quot;저성장 극복 핵심은 '생산상 향상'…공정한 평가‧임금체계 구축해야&quot; @ Mon, 02 Sep 2024 12:11:00 +0900\n",
      "title: 검찰, ‘文 피의자’ 적시에 민주당 &quot;당 차원 대책기구 구성&quot; @ Mon, 02 Sep 2024 12:10:00 +0900\n",
      "title: 일본 드럭스토어쇼가 한국 약국ㆍ유통 시장에 던진 3가지 질문 @ Mon, 02 Sep 2024 12:10:00 +0900\n",
      "title: &quot;약사미래 고민...대체조제 홍보 중요성 느껴&quot; @ Mon, 02 Sep 2024 12:10:00 +0900\n"
     ]
    }
   ],
   "source": [
    "from urllib.request import urlopen\n",
    "from urllib.parse import quote\n",
    "from urllib.request import Request\n",
    "import json\n",
    "client_id = \"l2XlY7e4PDhCubHCFXgd\"\n",
    "# client_secret = input(\"Enter client_secret:\")\n",
    "client_secret = \"H9e7aVvW0c\"\n",
    "\n",
    "# keyword = input(\"Enter Keyword:\")\n",
    "keyword = \"코로나\"\n",
    "enc_text = quote(keyword)\n",
    "\n",
    "url = f\"https://openapi.naver.com/v1/search/news.json?query={enc_text}\"\n",
    "# API 업체마다 header, 인증 정보 전달 방식이 다르다 -> 문서를 확인\n",
    "# Naver의 경우, X-Naver-Client-Id, X-Naver-Client-Secret 정보를 헤더로 제공\n",
    "\n",
    "request = Request(url)\n",
    "# 헤더 정보 조작\n",
    "request.add_header(\"X-Naver-Client-id\", client_id)\n",
    "request.add_header(\"X-Naver-Client-Secret\", client_secret)\n",
    "\n",
    "# 요청 전송\n",
    "response = urlopen(request)\n",
    "rescode = response.getcode()\n",
    "\n",
    "if rescode == 200:\n",
    "    response_body = response.read().decode(\"utf-8\")\n",
    "    py_rt = json.loads(response_body) # text -> json 객체로 로드\n",
    "    \n",
    "    # print(py_rt)\n",
    "    news_list = py_rt[\"items\"]\n",
    "    print(f\"뉴스 검색: 키워드: {keyword}\")\n",
    "    print(\"=================\")\n",
    "    \n",
    "    for news in news_list:\n",
    "        print(\"title: {title} @ {pubDate}\".format_map(news))\n",
    "else:\n",
    "    print(f\"Error code:{rescode}\")"
   ]
  },
  {
   "cell_type": "code",
   "execution_count": null,
   "id": "f5a6d430",
   "metadata": {},
   "outputs": [],
   "source": []
  }
 ],
 "metadata": {
  "kernelspec": {
   "display_name": "Python 3 (ipykernel)",
   "language": "python",
   "name": "python3"
  },
  "language_info": {
   "codemirror_mode": {
    "name": "ipython",
    "version": 3
   },
   "file_extension": ".py",
   "mimetype": "text/x-python",
   "name": "python",
   "nbconvert_exporter": "python",
   "pygments_lexer": "ipython3",
   "version": "3.10.9"
  }
 },
 "nbformat": 4,
 "nbformat_minor": 5
}
